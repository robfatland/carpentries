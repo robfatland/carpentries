{
 "cells": [
  {
   "cell_type": "markdown",
   "id": "e4a00c03-c82a-4b05-888d-50e26cfb7475",
   "metadata": {},
   "source": [
    "# Day 1 Part 2: Analyzing Patient Data\n",
    "\n",
    "\n",
    "***concept*** we have libraries in our workspace (can use `help()` and then enter `modules` to list)\n",
    "\n",
    "\n",
    "***concept*** we can get numpy to list its skills (methods) via `dir(numpy)`"
   ]
  },
  {
   "cell_type": "code",
   "execution_count": 6,
   "id": "6c3b0686",
   "metadata": {
    "scrolled": true,
    "tags": []
   },
   "outputs": [],
   "source": [
    "# numpy is often abbreviated 'np' but we shall not\n",
    "\n",
    "import numpy\n",
    "\n",
    "# once imported we access a numpy library method do_something() that operates on 3 variables a, b and c \n",
    "#   using the construct numpy.do_something(a, b, c)# dir(numpy) lists methods including `fft()`"
   ]
  },
  {
   "cell_type": "code",
   "execution_count": 7,
   "id": "8328808c",
   "metadata": {
    "tags": []
   },
   "outputs": [
    {
     "name": "stdout",
     "output_type": "stream",
     "text": [
      "[0. 0. 0. 0. 0.]\n"
     ]
    }
   ],
   "source": [
    "z = numpy.zeros(5)\n",
    "print(z)"
   ]
  },
  {
   "cell_type": "code",
   "execution_count": 10,
   "id": "60329d08",
   "metadata": {
    "tags": []
   },
   "outputs": [
    {
     "data": {
      "text/plain": [
       "array([1., 1., 1., 1., 1., 1., 1., 1., 1., 1., 1., 1., 1., 1., 1., 1., 1.,\n",
       "       1.])"
      ]
     },
     "execution_count": 10,
     "metadata": {},
     "output_type": "execute_result"
    }
   ],
   "source": [
    "w = numpy.ones(18)\n",
    "w"
   ]
  },
  {
   "cell_type": "code",
   "execution_count": 11,
   "id": "cac10718",
   "metadata": {
    "tags": []
   },
   "outputs": [
    {
     "name": "stdout",
     "output_type": "stream",
     "text": [
      "[[1. 1. 1.]\n",
      " [1. 1. 1.]\n",
      " [1. 1. 1.]\n",
      " [1. 1. 1.]\n",
      " [1. 1. 1.]\n",
      " [1. 1. 1.]]\n"
     ]
    }
   ],
   "source": [
    "w=numpy.reshape(w, (6, 3))\n",
    "print(w)"
   ]
  },
  {
   "cell_type": "markdown",
   "id": "76829bc9",
   "metadata": {},
   "source": [
    "Let's read in our first data file inflammation-01.csv. Where is it? Where are we???"
   ]
  },
  {
   "cell_type": "code",
   "execution_count": 12,
   "id": "8a764929",
   "metadata": {
    "tags": []
   },
   "outputs": [
    {
     "name": "stdout",
     "output_type": "stream",
     "text": [
      "Day 1 Part 1 Start.ipynb\n",
      "Day 1 Part 2 Data.ipynb\n",
      "Day 1 Part 3 Supplemental.ipynb\n",
      "Day 1 Part 4 More Supplemental.ipynb\n"
     ]
    },
    {
     "data": {
      "text/plain": [
       "0"
      ]
     },
     "execution_count": 12,
     "metadata": {},
     "output_type": "execute_result"
    }
   ],
   "source": [
    "import os\n",
    "os.system('ls')"
   ]
  },
  {
   "cell_type": "code",
   "execution_count": 13,
   "id": "a71b4e21",
   "metadata": {},
   "outputs": [
    {
     "name": "stdout",
     "output_type": "stream",
     "text": [
      "LICENSE\n",
      "code\n",
      "data\n",
      "robs_notebooks\n"
     ]
    },
    {
     "data": {
      "text/plain": [
       "0"
      ]
     },
     "execution_count": 13,
     "metadata": {},
     "output_type": "execute_result"
    }
   ],
   "source": [
    "os.system('ls ..')"
   ]
  },
  {
   "cell_type": "code",
   "execution_count": 14,
   "id": "3958d265",
   "metadata": {},
   "outputs": [
    {
     "name": "stdout",
     "output_type": "stream",
     "text": [
      "inflammation-01.csv\n",
      "inflammation-02.csv\n",
      "inflammation-03.csv\n",
      "inflammation-04.csv\n",
      "inflammation-05.csv\n",
      "inflammation-06.csv\n",
      "inflammation-07.csv\n",
      "inflammation-08.csv\n",
      "inflammation-09.csv\n",
      "inflammation-10.csv\n",
      "inflammation-11.csv\n",
      "inflammation-12.csv\n",
      "small-01.csv\n",
      "small-02.csv\n",
      "small-03.csv\n"
     ]
    },
    {
     "data": {
      "text/plain": [
       "0"
      ]
     },
     "execution_count": 14,
     "metadata": {},
     "output_type": "execute_result"
    }
   ],
   "source": [
    "os.system('ls ../data')"
   ]
  },
  {
   "cell_type": "code",
   "execution_count": 15,
   "id": "97d81850",
   "metadata": {},
   "outputs": [
    {
     "data": {
      "text/plain": [
       "array([[0., 0., 1., ..., 3., 0., 0.],\n",
       "       [0., 1., 2., ..., 1., 0., 1.],\n",
       "       [0., 1., 1., ..., 2., 1., 1.],\n",
       "       ...,\n",
       "       [0., 1., 1., ..., 1., 1., 1.],\n",
       "       [0., 0., 0., ..., 0., 2., 0.],\n",
       "       [0., 0., 1., ..., 1., 1., 0.]])"
      ]
     },
     "execution_count": 15,
     "metadata": {},
     "output_type": "execute_result"
    }
   ],
   "source": [
    "numpy.loadtxt(fname='../data/inflammation-01.csv', delimiter=',')"
   ]
  },
  {
   "cell_type": "code",
   "execution_count": 16,
   "id": "3285de64",
   "metadata": {},
   "outputs": [],
   "source": [
    "data = numpy.loadtxt(fname='../data/inflammation-01.csv', delimiter=',')"
   ]
  },
  {
   "cell_type": "code",
   "execution_count": 17,
   "id": "29bd3d52",
   "metadata": {},
   "outputs": [
    {
     "name": "stdout",
     "output_type": "stream",
     "text": [
      "[[0. 0. 1. ... 3. 0. 0.]\n",
      " [0. 1. 2. ... 1. 0. 1.]\n",
      " [0. 1. 1. ... 2. 1. 1.]\n",
      " ...\n",
      " [0. 1. 1. ... 1. 1. 1.]\n",
      " [0. 0. 0. ... 0. 2. 0.]\n",
      " [0. 0. 1. ... 1. 1. 0.]]\n"
     ]
    }
   ],
   "source": [
    "print(data)"
   ]
  },
  {
   "cell_type": "code",
   "execution_count": 18,
   "id": "3137f426",
   "metadata": {},
   "outputs": [
    {
     "data": {
      "text/plain": [
       "numpy.ndarray"
      ]
     },
     "execution_count": 18,
     "metadata": {},
     "output_type": "execute_result"
    }
   ],
   "source": [
    "type(data)"
   ]
  },
  {
   "cell_type": "markdown",
   "id": "667986bc",
   "metadata": {},
   "source": [
    "#### All entries in a numpy `ndarray` are of the same type\n",
    "\n",
    "\n",
    "#### `data` is of type `ndarray`... what is the type of its contents?\n"
   ]
  },
  {
   "cell_type": "code",
   "execution_count": 25,
   "id": "f5dc3793",
   "metadata": {},
   "outputs": [
    {
     "data": {
      "text/plain": [
       "numpy.float64"
      ]
     },
     "execution_count": 25,
     "metadata": {},
     "output_type": "execute_result"
    }
   ],
   "source": [
    "type(data[0][0])"
   ]
  },
  {
   "cell_type": "code",
   "execution_count": 26,
   "id": "91d2e8ae",
   "metadata": {},
   "outputs": [
    {
     "data": {
      "text/plain": [
       "dtype('float64')"
      ]
     },
     "execution_count": 26,
     "metadata": {},
     "output_type": "execute_result"
    }
   ],
   "source": [
    "# can also use this: \n",
    "data.dtype"
   ]
  },
  {
   "cell_type": "markdown",
   "id": "b8761391",
   "metadata": {},
   "source": [
    "### How many rows? columns?"
   ]
  },
  {
   "cell_type": "code",
   "execution_count": 69,
   "id": "276f9d84",
   "metadata": {},
   "outputs": [
    {
     "name": "stdout",
     "output_type": "stream",
     "text": [
      "(60, 40)\n"
     ]
    }
   ],
   "source": [
    "print(data.shape)           # first number will be the number of patients; 2nd is trial days"
   ]
  },
  {
   "cell_type": "code",
   "execution_count": 28,
   "id": "3bba9bee",
   "metadata": {},
   "outputs": [
    {
     "data": {
      "text/plain": [
       "0.0"
      ]
     },
     "execution_count": 28,
     "metadata": {},
     "output_type": "execute_result"
    }
   ],
   "source": [
    "data[0, 0]          # unambiguous"
   ]
  },
  {
   "cell_type": "code",
   "execution_count": 29,
   "id": "d33f0e98",
   "metadata": {},
   "outputs": [
    {
     "data": {
      "text/plain": [
       "0.0"
      ]
     },
     "execution_count": 29,
     "metadata": {},
     "output_type": "execute_result"
    }
   ],
   "source": [
    "data[2, 0]          # aha row 2 column 0"
   ]
  },
  {
   "cell_type": "code",
   "execution_count": 30,
   "id": "4d011dc8",
   "metadata": {},
   "outputs": [
    {
     "data": {
      "text/plain": [
       "1.0"
      ]
     },
     "execution_count": 30,
     "metadata": {},
     "output_type": "execute_result"
    }
   ],
   "source": [
    "data[0, 2]          # aha row 0 column 2"
   ]
  },
  {
   "cell_type": "code",
   "execution_count": 33,
   "id": "7fa4f13a",
   "metadata": {},
   "outputs": [],
   "source": [
    "# data[30, 50]        # this should fail"
   ]
  },
  {
   "cell_type": "code",
   "execution_count": 34,
   "id": "1cdd5b61-54e2-4e24-a800-568f5c42837e",
   "metadata": {
    "tags": []
   },
   "outputs": [
    {
     "data": {
      "text/plain": [
       "7.0"
      ]
     },
     "execution_count": 34,
     "metadata": {},
     "output_type": "execute_result"
    }
   ],
   "source": [
    "data[50, 30]           # should work"
   ]
  },
  {
   "cell_type": "code",
   "execution_count": 35,
   "id": "dcb907ba",
   "metadata": {},
   "outputs": [
    {
     "data": {
      "text/plain": [
       "13.0"
      ]
     },
     "execution_count": 35,
     "metadata": {},
     "output_type": "execute_result"
    }
   ],
   "source": [
    "data[30, 20]            # is the middle of (60, 40)"
   ]
  },
  {
   "cell_type": "code",
   "execution_count": 36,
   "id": "0604a1c8-9328-4853-bf91-0b32678222ca",
   "metadata": {
    "tags": []
   },
   "outputs": [
    {
     "data": {
      "text/plain": [
       "13.0"
      ]
     },
     "execution_count": 36,
     "metadata": {},
     "output_type": "execute_result"
    }
   ],
   "source": [
    "data[30][20]            # indexing via two square bracket indices also works"
   ]
  },
  {
   "cell_type": "code",
   "execution_count": 50,
   "id": "6a72fadc-a3be-4c09-86f8-e4cdeab076df",
   "metadata": {
    "tags": []
   },
   "outputs": [
    {
     "data": {
      "text/plain": [
       "array([[0., 0., 1., 3., 1., 2.],\n",
       "       [0., 1., 2., 1., 2., 1.],\n",
       "       [0., 1., 1., 3., 3., 2.],\n",
       "       [0., 0., 2., 0., 4., 2.]])"
      ]
     },
     "execution_count": 50,
     "metadata": {},
     "output_type": "execute_result"
    }
   ],
   "source": [
    "data[0:4, 0:6]          # Using the : as a range or slice controller (half-open intervals)\n",
    "                        # All from that data structure we loaded from a file above"
   ]
  },
  {
   "cell_type": "code",
   "execution_count": 51,
   "id": "7cdbdb77-40eb-4baa-a4e9-6977788d8131",
   "metadata": {
    "tags": []
   },
   "outputs": [
    {
     "name": "stdout",
     "output_type": "stream",
     "text": [
      "[[0. 0. 1. 2. 2. 4. 2. 1. 6. 4.]\n",
      " [0. 0. 2. 2. 4. 2. 2. 5. 5. 8.]\n",
      " [0. 0. 1. 2. 3. 1. 2. 3. 5. 3.]\n",
      " [0. 0. 0. 3. 1. 5. 6. 5. 5. 8.]\n",
      " [0. 1. 1. 2. 1. 3. 5. 3. 5. 8.]] \n",
      "\n",
      " <class 'numpy.ndarray'>\n"
     ]
    }
   ],
   "source": [
    "# notice values in the slice are not separated by commas: The slice is itself an ndarray\n",
    "\n",
    "print(data[5:10, 0:10], '\\n\\n', type(data[5:10, 0:10]))"
   ]
  },
  {
   "cell_type": "code",
   "execution_count": 52,
   "id": "62a11ed8-3e21-4cbe-a14c-42758c2a816b",
   "metadata": {
    "tags": []
   },
   "outputs": [
    {
     "name": "stdout",
     "output_type": "stream",
     "text": [
      "6.14875\n"
     ]
    }
   ],
   "source": [
    "print(numpy.mean(data))"
   ]
  },
  {
   "cell_type": "code",
   "execution_count": 53,
   "id": "4932a297-ca4b-4083-943e-8b85ca9c2d84",
   "metadata": {
    "tags": []
   },
   "outputs": [
    {
     "name": "stdout",
     "output_type": "stream",
     "text": [
      "4.613833197118566\n"
     ]
    }
   ],
   "source": [
    "print(numpy.std(data))"
   ]
  },
  {
   "cell_type": "code",
   "execution_count": 54,
   "id": "ca2539ed-262b-455b-8e4e-4da0bec05922",
   "metadata": {
    "tags": []
   },
   "outputs": [
    {
     "name": "stdout",
     "output_type": "stream",
     "text": [
      "5.0\n"
     ]
    }
   ],
   "source": [
    "print(numpy.median(data))"
   ]
  },
  {
   "cell_type": "code",
   "execution_count": 57,
   "id": "ac2e8a86-ebf8-47b9-9412-68e360f117b5",
   "metadata": {
    "tags": []
   },
   "outputs": [
    {
     "name": "stdout",
     "output_type": "stream",
     "text": [
      "1704852646.3642573\n",
      "Wed Dec 31 16:00:00 1969\n"
     ]
    }
   ],
   "source": [
    "import time\n",
    "print(time.time())\n",
    "print(time.ctime(0))"
   ]
  },
  {
   "cell_type": "code",
   "execution_count": 58,
   "id": "7c5d4d50-bca2-41e0-a0f0-6cd52840bf78",
   "metadata": {
    "tags": []
   },
   "outputs": [
    {
     "name": "stdout",
     "output_type": "stream",
     "text": [
      "maximum inflammation: 20.0\n",
      "minimum inflammation: 0.0\n",
      "standard deviation: 4.613833197118566\n"
     ]
    }
   ],
   "source": [
    "# extrema of the data\n",
    "\n",
    "maxval = numpy.max(data)\n",
    "minval = numpy.min(data)\n",
    "stdval = numpy.std(data)\n",
    "\n",
    "print('maximum inflammation:', maxval)\n",
    "print('minimum inflammation:', minval)\n",
    "print('standard deviation:', stdval)"
   ]
  },
  {
   "cell_type": "code",
   "execution_count": 59,
   "id": "f164cbca-c82f-4ac6-aa66-536c2f9087c2",
   "metadata": {
    "tags": []
   },
   "outputs": [
    {
     "name": "stdout",
     "output_type": "stream",
     "text": [
      "(20.0, 0.0, 4.613833197118566)\n",
      "4.613833197118566\n"
     ]
    }
   ],
   "source": [
    "# tuple assignment\n",
    "# tuples are one of several 'collection' data structures in Python:\n",
    "#     tuples (i; ccmo), lists (m), dictionaries (m), sets (m), strings (i), \n",
    "\n",
    "data_info = maxval, minval, stdval\n",
    "\n",
    "print(data_info)\n",
    "\n",
    "print(data_info[2])"
   ]
  },
  {
   "cell_type": "code",
   "execution_count": 60,
   "id": "12546cfb-c67f-4e5a-8b93-89aafa13f86d",
   "metadata": {
    "tags": []
   },
   "outputs": [
    {
     "name": "stdout",
     "output_type": "stream",
     "text": [
      "[1, 2, 3, 2, 4, 2, 5, 6, 5, 8, 7]\n"
     ]
    }
   ],
   "source": [
    "my_list = [1, 2, 3, 2, 4, 2, 5, 6, 5, 8, 7]\n",
    "print(my_list)"
   ]
  },
  {
   "cell_type": "code",
   "execution_count": 61,
   "id": "405e8746-0809-4154-98f2-67fd433e5f1d",
   "metadata": {
    "tags": []
   },
   "outputs": [
    {
     "name": "stdout",
     "output_type": "stream",
     "text": [
      "{1, 2, 3, 4, 5, 6, 7, 8}\n"
     ]
    }
   ],
   "source": [
    "my_set = set(my_list)\n",
    "print(my_set)"
   ]
  },
  {
   "cell_type": "code",
   "execution_count": 62,
   "id": "66264a08-9435-495d-88e7-ff5b0f4f9c94",
   "metadata": {
    "tags": []
   },
   "outputs": [
    {
     "name": "stdout",
     "output_type": "stream",
     "text": [
      "[1, 2, 3, 4, 5, 6, 7, 8]\n"
     ]
    }
   ],
   "source": [
    "my_new_list = list(my_set)\n",
    "print(my_new_list)"
   ]
  },
  {
   "cell_type": "code",
   "execution_count": 66,
   "id": "db22b0b4-a720-4e0d-852e-a5797fa2237e",
   "metadata": {
    "tags": []
   },
   "outputs": [
    {
     "name": "stdout",
     "output_type": "stream",
     "text": [
      "maximum inflammation for patient 2: 19.0\n"
     ]
    }
   ],
   "source": [
    "print('maximum inflammation for patient 2:', numpy.max(data[2, :]))"
   ]
  },
  {
   "cell_type": "code",
   "execution_count": 72,
   "id": "ea205bea-e431-4410-9919-57899a8246f7",
   "metadata": {
    "tags": []
   },
   "outputs": [
    {
     "data": {
      "text/plain": [
       "(40,)"
      ]
     },
     "execution_count": 72,
     "metadata": {},
     "output_type": "execute_result"
    }
   ],
   "source": [
    "ax0max = numpy.max(data, axis=0)        # flatten along axis 0 (rows): average over patients at each day (column)\n",
    "ax0max.shape"
   ]
  },
  {
   "cell_type": "markdown",
   "id": "5c56c1d4-d4ca-4170-95db-1af361d7ca03",
   "metadata": {},
   "source": [
    "#### try typing in `numpy.` and then hitting the \\<tab\\> button to see options"
   ]
  },
  {
   "cell_type": "code",
   "execution_count": 82,
   "id": "a75d88ae-f190-4468-b404-9d0dfeb93c0d",
   "metadata": {
    "tags": []
   },
   "outputs": [
    {
     "name": "stdout",
     "output_type": "stream",
     "text": [
      "40\n"
     ]
    }
   ],
   "source": [
    "print(len(ax0max))"
   ]
  },
  {
   "cell_type": "code",
   "execution_count": 83,
   "id": "223f86dc-9fb2-4824-85e7-c23535562be6",
   "metadata": {
    "tags": []
   },
   "outputs": [
    {
     "data": {
      "text/plain": [
       "array([ 0.,  1.,  2.,  3.,  4.,  5.,  6.,  7.,  8.,  9., 10., 11., 12.,\n",
       "       13., 14., 15., 16., 17., 18., 19., 20., 19., 18., 17., 16., 15.,\n",
       "       14., 13., 12., 11., 10.,  9.,  8.,  7.,  6.,  5.,  4.,  3.,  2.,\n",
       "        1.])"
      ]
     },
     "execution_count": 83,
     "metadata": {},
     "output_type": "execute_result"
    }
   ],
   "source": [
    "ax0max"
   ]
  },
  {
   "cell_type": "code",
   "execution_count": 123,
   "id": "414b6dcb-1385-45b3-aa73-a4c87a1441aa",
   "metadata": {
    "tags": []
   },
   "outputs": [
    {
     "name": "stdout",
     "output_type": "stream",
     "text": [
      "[ 0.  1.  2.  3.  4.  5.  6.  7.  8.  9. 10. 11. 12. 13. 14. 15. 16. 17.\n",
      " 18. 19. 20. 19. 18. 17. 16. 15. 14. 13. 12. 11. 10.  9.  8.  7.  6.  5.\n",
      "  4.  3.  2.  1.]\n"
     ]
    }
   ],
   "source": [
    "print(ax0max)"
   ]
  },
  {
   "cell_type": "code",
   "execution_count": 74,
   "id": "a163bd8e-2c06-464b-9f90-ec5e0340fd5b",
   "metadata": {
    "tags": []
   },
   "outputs": [
    {
     "data": {
      "text/plain": [
       "(60,)"
      ]
     },
     "execution_count": 74,
     "metadata": {},
     "output_type": "execute_result"
    }
   ],
   "source": [
    "ax1max = numpy.max(data, axis=1)        # flatten on axis 1: The max for each patient considered across all days\n",
    "ax1max.shape"
   ]
  },
  {
   "cell_type": "code",
   "execution_count": 75,
   "id": "4a20562e-fef7-4589-8a61-cfb7ce647b38",
   "metadata": {
    "tags": []
   },
   "outputs": [
    {
     "data": {
      "image/png": "[encoded data removed]",
      "text/plain": [
       "<Figure size 640x480 with 1 Axes>"
      ]
     },
     "metadata": {},
     "output_type": "display_data"
    }
   ],
   "source": [
    "import matplotlib.pyplot\n",
    "image = matplotlib.pyplot.imshow(data)\n",
    "matplotlib.pyplot.show()"
   ]
  },
  {
   "cell_type": "code",
   "execution_count": 76,
   "id": "533c0ed7-969d-40dc-a32b-78413d24e2c9",
   "metadata": {
    "tags": []
   },
   "outputs": [
    {
     "data": {
      "image/png": "[encoded data removed]",
      "text/plain": [
       "<Figure size 640x480 with 1 Axes>"
      ]
     },
     "metadata": {},
     "output_type": "display_data"
    }
   ],
   "source": [
    "ave_inflammation = numpy.mean(data, axis=0)           # as above: 40 results, 1 for each day\n",
    "ave_plot = matplotlib.pyplot.plot(ave_inflammation)\n",
    "matplotlib.pyplot.show()"
   ]
  },
  {
   "cell_type": "code",
   "execution_count": 77,
   "id": "75de904a-9f02-400c-9dce-0915dab17b31",
   "metadata": {
    "tags": []
   },
   "outputs": [
    {
     "data": {
      "image/png": "[encoded data removed]",
      "text/plain": [
       "<Figure size 640x480 with 1 Axes>"
      ]
     },
     "metadata": {},
     "output_type": "display_data"
    }
   ],
   "source": [
    "max_plot = matplotlib.pyplot.plot(numpy.max(data, axis=0))\n",
    "matplotlib.pyplot.show()"
   ]
  },
  {
   "cell_type": "markdown",
   "id": "6f1f467b-236f-4493-9670-f8ec57911593",
   "metadata": {},
   "source": [
    "***very suspicious looking eh??***"
   ]
  },
  {
   "cell_type": "code",
   "execution_count": 78,
   "id": "7427c930-8187-4038-adfc-5ead2623dc42",
   "metadata": {
    "tags": []
   },
   "outputs": [
    {
     "data": {
      "image/png": "[encoded data removed]",
      "text/plain": [
       "<Figure size 640x480 with 1 Axes>"
      ]
     },
     "metadata": {},
     "output_type": "display_data"
    }
   ],
   "source": [
    "min_plot = matplotlib.pyplot.plot(numpy.min(data, axis=0))\n",
    "matplotlib.pyplot.show()"
   ]
  },
  {
   "cell_type": "markdown",
   "id": "fc3dea11-e7d3-4ec7-9fbe-c248f1650b82",
   "metadata": {},
   "source": [
    "***more suspiciousnesser than ever!!***"
   ]
  },
  {
   "cell_type": "code",
   "execution_count": 81,
   "id": "6ecea940-c9b9-4481-9121-cfdaedfcb88c",
   "metadata": {
    "tags": []
   },
   "outputs": [
    {
     "data": {
      "image/png": "[encoded data removed]",
      "text/plain": [
       "<Figure size 1000x300 with 3 Axes>"
      ]
     },
     "metadata": {},
     "output_type": "display_data"
    }
   ],
   "source": [
    "# Let's bring it all together into a single triple-figure and save the results to an image file\n",
    "#   that we can publish in the Journal of Suspicious Medicine\n",
    "\n",
    "fig = matplotlib.pyplot.figure(figsize=(10.0, 3.0))\n",
    "\n",
    "axes1 = fig.add_subplot(1, 3, 1)\n",
    "axes2 = fig.add_subplot(1, 3, 2)\n",
    "axes3 = fig.add_subplot(1, 3, 3)\n",
    "\n",
    "axes1.set_ylabel('average')\n",
    "axes1.plot(numpy.mean(data, axis=0))\n",
    "\n",
    "axes2.set_ylabel('max')\n",
    "axes2.plot(numpy.max(data, axis=0))\n",
    "\n",
    "axes3.set_ylabel('min')\n",
    "axes3.plot(numpy.min(data, axis=0))\n",
    "\n",
    "fig.tight_layout()\n",
    "\n",
    "matplotlib.pyplot.savefig('inflammation.png')\n",
    "matplotlib.pyplot.show()"
   ]
  },
  {
   "cell_type": "code",
   "execution_count": 90,
   "id": "f90b9b74-da29-41df-a0e1-f08a96a4aa59",
   "metadata": {
    "tags": []
   },
   "outputs": [
    {
     "data": {
      "image/png": "[encoded data removed]",
      "text/plain": [
       "<Figure size 640x480 with 1 Axes>"
      ]
     },
     "metadata": {},
     "output_type": "display_data"
    }
   ],
   "source": [
    "image = matplotlib.pyplot.imshow(data)"
   ]
  },
  {
   "cell_type": "markdown",
   "id": "e12b905e-152f-4896-94cd-abd86e2c8a96",
   "metadata": {},
   "source": [
    "#### A lot going on there... like where did that color table come from???"
   ]
  },
  {
   "cell_type": "code",
   "execution_count": 91,
   "id": "084ffc1b",
   "metadata": {},
   "outputs": [
    {
     "data": {
      "image/png": "[encoded data removed]",
      "text/plain": [
       "<Figure size 640x480 with 1 Axes>"
      ]
     },
     "metadata": {},
     "output_type": "display_data"
    }
   ],
   "source": [
    "image = matplotlib.pyplot.imshow(data)\n",
    "matplotlib.pyplot.show()                      # forces any open figures to render right now"
   ]
  },
  {
   "cell_type": "markdown",
   "id": "74783321",
   "metadata": {},
   "source": [
    "***observation*** a lot of default behavior from such a simple command!"
   ]
  },
  {
   "cell_type": "markdown",
   "id": "10470f2a-ce3e-4afa-b04f-685a5b4d0300",
   "metadata": {},
   "source": [
    "#### I do not like this colormap!\n",
    "\n",
    "***concept***: search on what I want to do to find a quick tip\n",
    "    \n",
    "> my search string was: **`matplotlib imshow choose colormap`**"
   ]
  },
  {
   "cell_type": "code",
   "execution_count": 92,
   "id": "83689886",
   "metadata": {},
   "outputs": [
    {
     "data": {
      "text/plain": [
       "<matplotlib.image.AxesImage at 0x7f5b82e990d0>"
      ]
     },
     "execution_count": 92,
     "metadata": {},
     "output_type": "execute_result"
    },
    {
     "data": {
      "image/png": "[encoded data removed]",
      "text/plain": [
       "<Figure size 640x480 with 1 Axes>"
      ]
     },
     "metadata": {},
     "output_type": "display_data"
    }
   ],
   "source": [
    "matplotlib.pyplot.imshow(data, cmap=matplotlib.cm.plasma)"
   ]
  },
  {
   "cell_type": "markdown",
   "id": "6345aa30-3814-4df7-9ac3-c406d2505d1c",
   "metadata": {},
   "source": [
    "#### This introduces the idea of providing optional keyword-based parameters to methods\n",
    "\n",
    "\n",
    "#### Many plot qualifiers in the matplotlib library work this way"
   ]
  },
  {
   "cell_type": "markdown",
   "id": "5d2f1bea",
   "metadata": {},
   "source": [
    "* Each row is a patient, columns are days\n",
    "* 60 patients, 40 days\n",
    "* row index is listed first; this is 'axis 0' (vertical)\n",
    "* col index is listed secnd; this is 'axis 1' (horizontal)\n",
    "\n",
    "\n",
    "In what comes next we want averages across all patients, one average for each day.\n",
    "\n",
    "\n",
    "40 days: 40 averages\n",
    "\n",
    "\n",
    "Accumulation of a day's sum is along the patient direction (vertical) (axis 0)\n",
    "\n",
    "\n",
    "Sixty numbers will go into each average. \n",
    "\n",
    "We tell `numpy`'s averaging function `mean()` to sum along axis 0"
   ]
  },
  {
   "cell_type": "code",
   "execution_count": 97,
   "id": "8f5fa3c1",
   "metadata": {},
   "outputs": [
    {
     "data": {
      "image/png": "[encoded data removed]",
      "text/plain": [
       "<Figure size 1000x300 with 3 Axes>"
      ]
     },
     "metadata": {},
     "output_type": "display_data"
    }
   ],
   "source": [
    "import numpy\n",
    "import matplotlib.pyplot\n",
    "\n",
    "fig = matplotlib.pyplot.figure(figsize=(10.0, 3.0))\n",
    "\n",
    "axes1 = fig.add_subplot(1, 3, 1)\n",
    "axes2 = fig.add_subplot(1, 3, 2)\n",
    "axes3 = fig.add_subplot(1, 3, 3)\n",
    "\n",
    "axes1.set_ylabel('average')\n",
    "axes1.plot(numpy.mean(data, axis=0))\n",
    "\n",
    "axes2.set_ylabel('max')\n",
    "axes2.plot(numpy.max(data, axis=0))\n",
    "\n",
    "axes3.set_ylabel('min')\n",
    "axes3.plot(numpy.min(data, axis=0))\n",
    "\n",
    "fig.tight_layout()\n",
    "\n",
    "matplotlib.pyplot.savefig('inflammation.png')\n",
    "matplotlib.pyplot.show()"
   ]
  },
  {
   "cell_type": "code",
   "execution_count": 122,
   "id": "0cadc801-2d2e-4041-a568-8dfbbc57d6aa",
   "metadata": {
    "tags": []
   },
   "outputs": [
    {
     "name": "stdout",
     "output_type": "stream",
     "text": [
      "A = \n",
      "[[1 2 3]\n",
      " [4 5 6]\n",
      " [7 8 9]]\n",
      "B = \n",
      "[[1 2 3 1 2 3]\n",
      " [4 5 6 4 5 6]\n",
      " [7 8 9 7 8 9]]\n",
      "C = \n",
      "[[1 2 3]\n",
      " [4 5 6]\n",
      " [7 8 9]\n",
      " [1 2 3]\n",
      " [4 5 6]\n",
      " [7 8 9]]\n"
     ]
    }
   ],
   "source": [
    "# last example from numpy.array world\n",
    "\n",
    "A = numpy.array([[1,2,3], [4,5,6], [7, 8, 9]])\n",
    "print('A = ')\n",
    "print(A)\n",
    "\n",
    "B = numpy.hstack([A, A])\n",
    "print('B = ')\n",
    "print(B)\n",
    "\n",
    "C = numpy.vstack([A, A])\n",
    "print('C = ')\n",
    "print(C)"
   ]
  },
  {
   "cell_type": "markdown",
   "id": "1db06713",
   "metadata": {},
   "source": [
    "#### lists, storing multiple values\n",
    "\n",
    "\n",
    "#### How to organize many values in a single data structure? 'collections'\n",
    "\n",
    "\n",
    "- We have seen how data is stored in a `numpy.array`\n",
    "- We have also seen in passing these native Python collection types:\n",
    "    - tuple            \n",
    "    - list             ordered, mutable, mixed content\n",
    "    - set              un-ordered, no indexing, no duplicates\n",
    "    - dictionary       key-value pairs\n",
    "\n",
    "\n",
    "#### This section will focus on the Python `list`\n",
    "\n",
    "\n",
    "- What a list is\n",
    "- Create and index lists of simple values\n",
    "- Change the values of individual elements\n",
    "- Append values to an existing list\n",
    "- Reorder and slice list elements\n",
    "- Create and manipulate nested lists"
   ]
  },
  {
   "cell_type": "code",
   "execution_count": 98,
   "id": "2fb63121",
   "metadata": {},
   "outputs": [
    {
     "data": {
      "text/plain": [
       "[1, 3, 5]"
      ]
     },
     "execution_count": 98,
     "metadata": {},
     "output_type": "execute_result"
    }
   ],
   "source": [
    "odds = [1, 3, 5]\n",
    "odds"
   ]
  },
  {
   "cell_type": "code",
   "execution_count": 99,
   "id": "6230a91c",
   "metadata": {},
   "outputs": [
    {
     "data": {
      "text/plain": [
       "[1, 3, 5, 7]"
      ]
     },
     "execution_count": 99,
     "metadata": {},
     "output_type": "execute_result"
    }
   ],
   "source": [
    "odds = odds + [7]\n",
    "odds"
   ]
  },
  {
   "cell_type": "code",
   "execution_count": 100,
   "id": "0903eabe",
   "metadata": {},
   "outputs": [
    {
     "data": {
      "text/plain": [
       "1"
      ]
     },
     "execution_count": 100,
     "metadata": {},
     "output_type": "execute_result"
    }
   ],
   "source": [
    "odds[0]"
   ]
  },
  {
   "cell_type": "code",
   "execution_count": 101,
   "id": "e94b416e",
   "metadata": {},
   "outputs": [
    {
     "data": {
      "text/plain": [
       "7"
      ]
     },
     "execution_count": 101,
     "metadata": {},
     "output_type": "execute_result"
    }
   ],
   "source": [
    "odds[3]"
   ]
  },
  {
   "cell_type": "code",
   "execution_count": 102,
   "id": "8091f6b7",
   "metadata": {},
   "outputs": [
    {
     "data": {
      "text/plain": [
       "7"
      ]
     },
     "execution_count": 102,
     "metadata": {},
     "output_type": "execute_result"
    }
   ],
   "source": [
    "odds[-1]"
   ]
  },
  {
   "cell_type": "code",
   "execution_count": 103,
   "id": "ae220793",
   "metadata": {},
   "outputs": [
    {
     "data": {
      "text/plain": [
       "5"
      ]
     },
     "execution_count": 103,
     "metadata": {},
     "output_type": "execute_result"
    }
   ],
   "source": [
    "odds[-2]"
   ]
  },
  {
   "cell_type": "code",
   "execution_count": 104,
   "id": "7fa2f1ca",
   "metadata": {},
   "outputs": [
    {
     "data": {
      "text/plain": [
       "3"
      ]
     },
     "execution_count": 104,
     "metadata": {},
     "output_type": "execute_result"
    }
   ],
   "source": [
    "odds[-3]"
   ]
  },
  {
   "cell_type": "code",
   "execution_count": 105,
   "id": "8b132e3e",
   "metadata": {},
   "outputs": [
    {
     "data": {
      "text/plain": [
       "1"
      ]
     },
     "execution_count": 105,
     "metadata": {},
     "output_type": "execute_result"
    }
   ],
   "source": [
    "odds[-4]"
   ]
  },
  {
   "cell_type": "code",
   "execution_count": 106,
   "id": "30bed4e0",
   "metadata": {},
   "outputs": [
    {
     "ename": "IndexError",
     "evalue": "list index out of range",
     "output_type": "error",
     "traceback": [
      "\u001b[0;31m---------------------------------------------------------------------------\u001b[0m",
      "\u001b[0;31mIndexError\u001b[0m                                Traceback (most recent call last)",
      "Cell \u001b[0;32mIn[106], line 1\u001b[0m\n\u001b[0;32m----> 1\u001b[0m odds[\u001b[38;5;241m-\u001b[39m\u001b[38;5;241m5\u001b[39m]\n",
      "\u001b[0;31mIndexError\u001b[0m: list index out of range"
     ]
    }
   ],
   "source": [
    "odds[-5]"
   ]
  },
  {
   "cell_type": "code",
   "execution_count": 107,
   "id": "f7e4abeb",
   "metadata": {},
   "outputs": [
    {
     "ename": "IndexError",
     "evalue": "list index out of range",
     "output_type": "error",
     "traceback": [
      "\u001b[0;31m---------------------------------------------------------------------------\u001b[0m",
      "\u001b[0;31mIndexError\u001b[0m                                Traceback (most recent call last)",
      "Cell \u001b[0;32mIn[107], line 1\u001b[0m\n\u001b[0;32m----> 1\u001b[0m odds[\u001b[38;5;241m4\u001b[39m]\n",
      "\u001b[0;31mIndexError\u001b[0m: list index out of range"
     ]
    }
   ],
   "source": [
    "odds[4]"
   ]
  },
  {
   "cell_type": "markdown",
   "id": "5ba91834",
   "metadata": {},
   "source": [
    "### how far can we go with this indexing up from 0?"
   ]
  },
  {
   "cell_type": "code",
   "execution_count": 108,
   "id": "80c5ef2c",
   "metadata": {},
   "outputs": [
    {
     "data": {
      "text/plain": [
       "4"
      ]
     },
     "execution_count": 108,
     "metadata": {},
     "output_type": "execute_result"
    }
   ],
   "source": [
    "len(odds)"
   ]
  },
  {
   "cell_type": "code",
   "execution_count": 109,
   "id": "62659bf6",
   "metadata": {},
   "outputs": [
    {
     "ename": "IndexError",
     "evalue": "list index out of range",
     "output_type": "error",
     "traceback": [
      "\u001b[0;31m---------------------------------------------------------------------------\u001b[0m",
      "\u001b[0;31mIndexError\u001b[0m                                Traceback (most recent call last)",
      "Cell \u001b[0;32mIn[109], line 1\u001b[0m\n\u001b[0;32m----> 1\u001b[0m odds[\u001b[38;5;28mlen\u001b[39m(odds)]\n",
      "\u001b[0;31mIndexError\u001b[0m: list index out of range"
     ]
    }
   ],
   "source": [
    "odds[len(odds)]"
   ]
  },
  {
   "cell_type": "code",
   "execution_count": 110,
   "id": "00704ea8",
   "metadata": {},
   "outputs": [
    {
     "data": {
      "text/plain": [
       "7"
      ]
     },
     "execution_count": 110,
     "metadata": {},
     "output_type": "execute_result"
    }
   ],
   "source": [
    "odds[len(odds)-1]"
   ]
  },
  {
   "cell_type": "code",
   "execution_count": 111,
   "id": "46339812",
   "metadata": {},
   "outputs": [],
   "source": [
    "odds.append(9)"
   ]
  },
  {
   "cell_type": "code",
   "execution_count": 112,
   "id": "832eda62",
   "metadata": {},
   "outputs": [
    {
     "data": {
      "text/plain": [
       "[1, 3, 5, 7, 9]"
      ]
     },
     "execution_count": 112,
     "metadata": {},
     "output_type": "execute_result"
    }
   ],
   "source": [
    "odds"
   ]
  },
  {
   "cell_type": "code",
   "execution_count": 113,
   "id": "24b08363",
   "metadata": {},
   "outputs": [
    {
     "data": {
      "text/plain": [
       "[3, 5]"
      ]
     },
     "execution_count": 113,
     "metadata": {},
     "output_type": "execute_result"
    }
   ],
   "source": [
    "odds[1:3]                             # low side: included, high side: not included"
   ]
  },
  {
   "cell_type": "code",
   "execution_count": 114,
   "id": "b60f124f",
   "metadata": {},
   "outputs": [
    {
     "data": {
      "text/plain": [
       "1"
      ]
     },
     "execution_count": 114,
     "metadata": {},
     "output_type": "execute_result"
    }
   ],
   "source": [
    "odds[0]"
   ]
  },
  {
   "cell_type": "code",
   "execution_count": 115,
   "id": "8b2efdd4",
   "metadata": {},
   "outputs": [],
   "source": [
    "odds[0] = -1"
   ]
  },
  {
   "cell_type": "code",
   "execution_count": 116,
   "id": "2513f1ca",
   "metadata": {},
   "outputs": [
    {
     "data": {
      "text/plain": [
       "[-1, 3, 5, 7, 9]"
      ]
     },
     "execution_count": 116,
     "metadata": {},
     "output_type": "execute_result"
    }
   ],
   "source": [
    "odds                                    # parts of strings can be changed"
   ]
  },
  {
   "cell_type": "code",
   "execution_count": 117,
   "id": "f8671885",
   "metadata": {},
   "outputs": [],
   "source": [
    "odds[0] = 'one'"
   ]
  },
  {
   "cell_type": "code",
   "execution_count": 118,
   "id": "be79d3b9",
   "metadata": {},
   "outputs": [
    {
     "data": {
      "text/plain": [
       "['one', 3, 5, 7, 9]"
      ]
     },
     "execution_count": 118,
     "metadata": {},
     "output_type": "execute_result"
    }
   ],
   "source": [
    "odds                                    # lists can be of mixed type"
   ]
  },
  {
   "cell_type": "markdown",
   "id": "4982ac93",
   "metadata": {},
   "source": [
    "### using loops for repeated tasks"
   ]
  },
  {
   "cell_type": "code",
   "execution_count": 119,
   "id": "4cffa7a5",
   "metadata": {},
   "outputs": [
    {
     "name": "stdout",
     "output_type": "stream",
     "text": [
      "one\n",
      "3\n",
      "5\n",
      "7\n",
      "9\n"
     ]
    }
   ],
   "source": [
    "for num in odds:\n",
    "    print(num)"
   ]
  },
  {
   "cell_type": "code",
   "execution_count": 120,
   "id": "977c4d58",
   "metadata": {},
   "outputs": [
    {
     "name": "stdout",
     "output_type": "stream",
     "text": [
      "one\n",
      "3\n",
      "5\n",
      "7\n",
      "9\n"
     ]
    }
   ],
   "source": [
    "for banana in odds:\n",
    "    print(banana)"
   ]
  },
  {
   "cell_type": "code",
   "execution_count": 121,
   "id": "5a71feaf",
   "metadata": {},
   "outputs": [
    {
     "name": "stdout",
     "output_type": "stream",
     "text": [
      "time flies like an arrow\n",
      "fruit flies like a banana\n"
     ]
    }
   ],
   "source": [
    "subject = ['time ', 'fruit ']\n",
    "verb = 'flies like '\n",
    "thing = ['an arrow', 'a banana']\n",
    "use_this_index = [0, 1]\n",
    "for i in use_this_index:\n",
    "    message = subject[i] + verb + thing[i]\n",
    "    print(message)"
   ]
  },
  {
   "cell_type": "code",
   "execution_count": null,
   "id": "7075ff51",
   "metadata": {},
   "outputs": [],
   "source": []
  }
 ],
 "metadata": {
  "kernelspec": {
   "display_name": "Python 3 (ipykernel)",
   "language": "python",
   "name": "python3"
  },
  "language_info": {
   "codemirror_mode": {
    "name": "ipython",
    "version": 3
   },
   "file_extension": ".py",
   "mimetype": "text/x-python",
   "name": "python",
   "nbconvert_exporter": "python",
   "pygments_lexer": "ipython3",
   "version": "3.11.4"
  }
 },
 "nbformat": 4,
 "nbformat_minor": 5
}
