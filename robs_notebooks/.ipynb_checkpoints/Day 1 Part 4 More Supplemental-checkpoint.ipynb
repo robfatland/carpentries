{
 "cells": [
  {
   "cell_type": "code",
   "execution_count": 1,
   "id": "9ff36b5b-5d1f-4c5f-a79a-dc27bc2e7a52",
   "metadata": {
    "tags": []
   },
   "outputs": [
    {
     "ename": "NameError",
     "evalue": "name 'numpy' is not defined",
     "output_type": "error",
     "traceback": [
      "\u001b[0;31m---------------------------------------------------------------------------\u001b[0m",
      "\u001b[0;31mNameError\u001b[0m                                 Traceback (most recent call last)",
      "Cell \u001b[0;32mIn[1], line 2\u001b[0m\n\u001b[1;32m      1\u001b[0m \u001b[38;5;66;03m# date = load some stuff\u001b[39;00m\n\u001b[0;32m----> 2\u001b[0m numpy\u001b[38;5;241m.\u001b[39mloadtxt(fname\u001b[38;5;241m=\u001b[39m\u001b[38;5;124m'\u001b[39m\u001b[38;5;124m../data/inflammation-01.csv\u001b[39m\u001b[38;5;124m'\u001b[39m, delimiter\u001b[38;5;241m=\u001b[39m\u001b[38;5;124m'\u001b[39m\u001b[38;5;124m,\u001b[39m\u001b[38;5;124m'\u001b[39m)\n",
      "\u001b[0;31mNameError\u001b[0m: name 'numpy' is not defined"
     ]
    }
   ],
   "source": [
    "# date = load some stuff\n",
    "numpy.loadtxt(fname='../data/inflammation-01.csv', delimiter=',')"
   ]
  },
  {
   "cell_type": "code",
   "execution_count": 42,
   "id": "17ea746d-7cc6-4233-a076-7b243371d71d",
   "metadata": {},
   "outputs": [],
   "source": [
    "data = numpy.loadtxt(fname='../data/inflammation-01.csv', delimiter=',')"
   ]
  },
  {
   "cell_type": "code",
   "execution_count": 43,
   "id": "6b9e2fa8-e998-4aef-bcfd-1c23f87b121b",
   "metadata": {},
   "outputs": [
    {
     "data": {
      "text/plain": [
       "array([[0., 0., 1., ..., 3., 0., 0.],\n",
       "       [0., 1., 2., ..., 1., 0., 1.],\n",
       "       [0., 1., 1., ..., 2., 1., 1.],\n",
       "       ...,\n",
       "       [0., 1., 1., ..., 1., 1., 1.],\n",
       "       [0., 0., 0., ..., 0., 2., 0.],\n",
       "       [0., 0., 1., ..., 1., 1., 0.]])"
      ]
     },
     "execution_count": 43,
     "metadata": {},
     "output_type": "execute_result"
    }
   ],
   "source": [
    "data"
   ]
  },
  {
   "cell_type": "code",
   "execution_count": 44,
   "id": "0824392f-cd86-41e4-9ef0-cb7a65a2ed59",
   "metadata": {},
   "outputs": [
    {
     "data": {
      "text/plain": [
       "int"
      ]
     },
     "execution_count": 44,
     "metadata": {},
     "output_type": "execute_result"
    }
   ],
   "source": [
    "type(m)"
   ]
  },
  {
   "cell_type": "code",
   "execution_count": 45,
   "id": "18da4ba9-12e0-4ab1-828d-20891be5e281",
   "metadata": {},
   "outputs": [
    {
     "data": {
      "text/plain": [
       "numpy.ndarray"
      ]
     },
     "execution_count": 45,
     "metadata": {},
     "output_type": "execute_result"
    }
   ],
   "source": [
    "type(data)"
   ]
  },
  {
   "cell_type": "code",
   "execution_count": 46,
   "id": "b0021399-05af-4ed3-b0d8-a72c8617dcfc",
   "metadata": {},
   "outputs": [
    {
     "name": "stdout",
     "output_type": "stream",
     "text": [
      "float64\n"
     ]
    }
   ],
   "source": [
    "print(data.dtype)"
   ]
  },
  {
   "cell_type": "code",
   "execution_count": 47,
   "id": "84d78e61-7308-4428-b7ed-2ded362e4eb8",
   "metadata": {},
   "outputs": [
    {
     "name": "stdout",
     "output_type": "stream",
     "text": [
      "(60, 40)\n"
     ]
    }
   ],
   "source": [
    "print(data.shape)\n"
   ]
  },
  {
   "cell_type": "code",
   "execution_count": 48,
   "id": "1d4fd805-cac8-4dce-b1f4-b886468016bc",
   "metadata": {},
   "outputs": [
    {
     "name": "stdout",
     "output_type": "stream",
     "text": [
      "first value in data: 0.0\n"
     ]
    }
   ],
   "source": [
    "print('first value in data:', data[0, 0])"
   ]
  },
  {
   "cell_type": "code",
   "execution_count": 49,
   "id": "f2fb4f31-1761-4751-99c1-92fe8831d279",
   "metadata": {},
   "outputs": [
    {
     "data": {
      "text/plain": [
       "0.0"
      ]
     },
     "execution_count": 49,
     "metadata": {},
     "output_type": "execute_result"
    }
   ],
   "source": [
    "data[0, 1]"
   ]
  },
  {
   "cell_type": "code",
   "execution_count": 51,
   "id": "815d8f87-5406-4194-a9de-de4c6750fa4b",
   "metadata": {},
   "outputs": [
    {
     "data": {
      "text/plain": [
       "1.0"
      ]
     },
     "execution_count": 51,
     "metadata": {},
     "output_type": "execute_result"
    }
   ],
   "source": [
    "data[0, 2]"
   ]
  },
  {
   "cell_type": "code",
   "execution_count": 52,
   "id": "d094acaa-fd58-40b2-8a6d-de4c45f55c8e",
   "metadata": {},
   "outputs": [
    {
     "data": {
      "text/plain": [
       "13.0"
      ]
     },
     "execution_count": 52,
     "metadata": {},
     "output_type": "execute_result"
    }
   ],
   "source": [
    "data[30, 20]"
   ]
  },
  {
   "cell_type": "code",
   "execution_count": 53,
   "id": "6823820c-fdc3-4ced-8e90-d1651745ecb2",
   "metadata": {},
   "outputs": [
    {
     "name": "stdout",
     "output_type": "stream",
     "text": [
      "[[0. 0. 1. ... 3. 0. 0.]\n",
      " [0. 1. 2. ... 1. 0. 1.]\n",
      " [0. 1. 1. ... 2. 1. 1.]\n",
      " ...\n",
      " [0. 1. 1. ... 1. 1. 1.]\n",
      " [0. 0. 0. ... 0. 2. 0.]\n",
      " [0. 0. 1. ... 1. 1. 0.]]\n"
     ]
    }
   ],
   "source": [
    "print(data)"
   ]
  },
  {
   "cell_type": "code",
   "execution_count": 54,
   "id": "4a7616a5-b563-4f91-8378-fc8c63a00f39",
   "metadata": {},
   "outputs": [
    {
     "data": {
      "text/plain": [
       "['T',\n",
       " '__abs__',\n",
       " '__add__',\n",
       " '__and__',\n",
       " '__array__',\n",
       " '__array_finalize__',\n",
       " '__array_function__',\n",
       " '__array_interface__',\n",
       " '__array_prepare__',\n",
       " '__array_priority__',\n",
       " '__array_struct__',\n",
       " '__array_ufunc__',\n",
       " '__array_wrap__',\n",
       " '__bool__',\n",
       " '__class__',\n",
       " '__class_getitem__',\n",
       " '__complex__',\n",
       " '__contains__',\n",
       " '__copy__',\n",
       " '__deepcopy__',\n",
       " '__delattr__',\n",
       " '__delitem__',\n",
       " '__dir__',\n",
       " '__divmod__',\n",
       " '__dlpack__',\n",
       " '__dlpack_device__',\n",
       " '__doc__',\n",
       " '__eq__',\n",
       " '__float__',\n",
       " '__floordiv__',\n",
       " '__format__',\n",
       " '__ge__',\n",
       " '__getattribute__',\n",
       " '__getitem__',\n",
       " '__gt__',\n",
       " '__hash__',\n",
       " '__iadd__',\n",
       " '__iand__',\n",
       " '__ifloordiv__',\n",
       " '__ilshift__',\n",
       " '__imatmul__',\n",
       " '__imod__',\n",
       " '__imul__',\n",
       " '__index__',\n",
       " '__init__',\n",
       " '__init_subclass__',\n",
       " '__int__',\n",
       " '__invert__',\n",
       " '__ior__',\n",
       " '__ipow__',\n",
       " '__irshift__',\n",
       " '__isub__',\n",
       " '__iter__',\n",
       " '__itruediv__',\n",
       " '__ixor__',\n",
       " '__le__',\n",
       " '__len__',\n",
       " '__lshift__',\n",
       " '__lt__',\n",
       " '__matmul__',\n",
       " '__mod__',\n",
       " '__mul__',\n",
       " '__ne__',\n",
       " '__neg__',\n",
       " '__new__',\n",
       " '__or__',\n",
       " '__pos__',\n",
       " '__pow__',\n",
       " '__radd__',\n",
       " '__rand__',\n",
       " '__rdivmod__',\n",
       " '__reduce__',\n",
       " '__reduce_ex__',\n",
       " '__repr__',\n",
       " '__rfloordiv__',\n",
       " '__rlshift__',\n",
       " '__rmatmul__',\n",
       " '__rmod__',\n",
       " '__rmul__',\n",
       " '__ror__',\n",
       " '__rpow__',\n",
       " '__rrshift__',\n",
       " '__rshift__',\n",
       " '__rsub__',\n",
       " '__rtruediv__',\n",
       " '__rxor__',\n",
       " '__setattr__',\n",
       " '__setitem__',\n",
       " '__setstate__',\n",
       " '__sizeof__',\n",
       " '__str__',\n",
       " '__sub__',\n",
       " '__subclasshook__',\n",
       " '__truediv__',\n",
       " '__xor__',\n",
       " 'all',\n",
       " 'any',\n",
       " 'argmax',\n",
       " 'argmin',\n",
       " 'argpartition',\n",
       " 'argsort',\n",
       " 'astype',\n",
       " 'base',\n",
       " 'byteswap',\n",
       " 'choose',\n",
       " 'clip',\n",
       " 'compress',\n",
       " 'conj',\n",
       " 'conjugate',\n",
       " 'copy',\n",
       " 'ctypes',\n",
       " 'cumprod',\n",
       " 'cumsum',\n",
       " 'data',\n",
       " 'diagonal',\n",
       " 'dot',\n",
       " 'dtype',\n",
       " 'dump',\n",
       " 'dumps',\n",
       " 'fill',\n",
       " 'flags',\n",
       " 'flat',\n",
       " 'flatten',\n",
       " 'getfield',\n",
       " 'imag',\n",
       " 'item',\n",
       " 'itemset',\n",
       " 'itemsize',\n",
       " 'max',\n",
       " 'mean',\n",
       " 'min',\n",
       " 'nbytes',\n",
       " 'ndim',\n",
       " 'newbyteorder',\n",
       " 'nonzero',\n",
       " 'partition',\n",
       " 'prod',\n",
       " 'ptp',\n",
       " 'put',\n",
       " 'ravel',\n",
       " 'real',\n",
       " 'repeat',\n",
       " 'reshape',\n",
       " 'resize',\n",
       " 'round',\n",
       " 'searchsorted',\n",
       " 'setfield',\n",
       " 'setflags',\n",
       " 'shape',\n",
       " 'size',\n",
       " 'sort',\n",
       " 'squeeze',\n",
       " 'std',\n",
       " 'strides',\n",
       " 'sum',\n",
       " 'swapaxes',\n",
       " 'take',\n",
       " 'tobytes',\n",
       " 'tofile',\n",
       " 'tolist',\n",
       " 'tostring',\n",
       " 'trace',\n",
       " 'transpose',\n",
       " 'var',\n",
       " 'view']"
      ]
     },
     "execution_count": 54,
     "metadata": {},
     "output_type": "execute_result"
    }
   ],
   "source": [
    "dir(data)"
   ]
  },
  {
   "cell_type": "code",
   "execution_count": 55,
   "id": "27687bab-31a2-4b73-9d57-1efa70aa9e9e",
   "metadata": {},
   "outputs": [
    {
     "name": "stdout",
     "output_type": "stream",
     "text": [
      "middle value in data: 13.0\n"
     ]
    }
   ],
   "source": [
    "print('middle value in data:', data[30, 20])"
   ]
  },
  {
   "cell_type": "code",
   "execution_count": 58,
   "id": "d15d53e6-bfb9-43b1-b3bd-343738d7bfc8",
   "metadata": {},
   "outputs": [],
   "source": [
    "middle_row = data.shape[0]/2"
   ]
  },
  {
   "cell_type": "code",
   "execution_count": 59,
   "id": "e006544f-d825-4ca3-bf58-851e2c0b2126",
   "metadata": {},
   "outputs": [
    {
     "data": {
      "text/plain": [
       "30.0"
      ]
     },
     "execution_count": 59,
     "metadata": {},
     "output_type": "execute_result"
    }
   ],
   "source": [
    "middle_row"
   ]
  },
  {
   "cell_type": "code",
   "execution_count": 61,
   "id": "1b62aa25-788e-4313-b661-85d381b9aaba",
   "metadata": {},
   "outputs": [
    {
     "data": {
      "text/plain": [
       "0.0"
      ]
     },
     "execution_count": 61,
     "metadata": {},
     "output_type": "execute_result"
    }
   ],
   "source": [
    "data[int(middle_row)][3]"
   ]
  },
  {
   "cell_type": "code",
   "execution_count": 62,
   "id": "ed6df669-2a66-4bcc-ac12-addebc04e404",
   "metadata": {},
   "outputs": [
    {
     "name": "stdout",
     "output_type": "stream",
     "text": [
      "[[0. 0. 1. 2. 2. 4. 2. 1. 6. 4.]\n",
      " [0. 0. 2. 2. 4. 2. 2. 5. 5. 8.]\n",
      " [0. 0. 1. 2. 3. 1. 2. 3. 5. 3.]\n",
      " [0. 0. 0. 3. 1. 5. 6. 5. 5. 8.]\n",
      " [0. 1. 1. 2. 1. 3. 5. 3. 5. 8.]]\n"
     ]
    }
   ],
   "source": [
    "print(data[5:10, 0:10])"
   ]
  },
  {
   "cell_type": "code",
   "execution_count": 63,
   "id": "b423d394-230f-4502-9644-511da8e700bf",
   "metadata": {},
   "outputs": [
    {
     "name": "stdout",
     "output_type": "stream",
     "text": [
      "small is:\n",
      "[[2. 3. 0. 0.]\n",
      " [1. 1. 0. 1.]\n",
      " [2. 2. 1. 1.]]\n"
     ]
    }
   ],
   "source": [
    "small = data[:3, 36:]\n",
    "print('small is:')\n",
    "print(small)"
   ]
  },
  {
   "cell_type": "code",
   "execution_count": 64,
   "id": "199dcf4e-a10d-4855-b664-44db637d3cf8",
   "metadata": {},
   "outputs": [
    {
     "name": "stdout",
     "output_type": "stream",
     "text": [
      "6.14875\n"
     ]
    }
   ],
   "source": [
    "print(numpy.mean(data))"
   ]
  },
  {
   "cell_type": "code",
   "execution_count": 65,
   "id": "12ba562b-cfcb-40f5-a95e-3ae4cdf51da4",
   "metadata": {},
   "outputs": [
    {
     "name": "stdout",
     "output_type": "stream",
     "text": [
      "maximum inflammation: 20.0\n",
      "minimum inflammation: 0.0\n",
      "standard deviation: 4.613833197118566\n"
     ]
    }
   ],
   "source": [
    "maxval, minval, stdval = numpy.max(data), numpy.min(data), numpy.std(data)\n",
    "\n",
    "print('maximum inflammation:', maxval)\n",
    "print('minimum inflammation:', minval)\n",
    "print('standard deviation:', stdval)"
   ]
  },
  {
   "cell_type": "code",
   "execution_count": 69,
   "id": "40f6e2c0-8b2e-40d8-9e25-7a030cafa89b",
   "metadata": {},
   "outputs": [
    {
     "name": "stdout",
     "output_type": "stream",
     "text": [
      "maximum inflammation for patient 0: 18.0\n"
     ]
    }
   ],
   "source": [
    "patient_0 = data[59, :] # 0 on the first axis (rows), everything on the second (columns)\n",
    "print('maximum inflammation for patient 0:', numpy.max(patient_0))"
   ]
  },
  {
   "cell_type": "code",
   "execution_count": 71,
   "id": "eabee575-837a-46d5-a555-1bc8abf33057",
   "metadata": {},
   "outputs": [],
   "source": [
    "day_means = numpy.mean(data, axis=0)"
   ]
  },
  {
   "cell_type": "code",
   "execution_count": 72,
   "id": "9918ec1c-53ec-4dbe-a68c-d521841998ef",
   "metadata": {},
   "outputs": [
    {
     "data": {
      "text/plain": [
       "(40,)"
      ]
     },
     "execution_count": 72,
     "metadata": {},
     "output_type": "execute_result"
    }
   ],
   "source": [
    "day_means.shape"
   ]
  },
  {
   "cell_type": "code",
   "execution_count": 73,
   "id": "4f83976c-f69b-4b1c-bb68-46ba979cf9de",
   "metadata": {},
   "outputs": [],
   "source": [
    "patient_means = numpy.mean(data, axis=1)"
   ]
  },
  {
   "cell_type": "code",
   "execution_count": 74,
   "id": "29c71362-59bb-424b-bad3-47721100b568",
   "metadata": {},
   "outputs": [
    {
     "data": {
      "text/plain": [
       "(60,)"
      ]
     },
     "execution_count": 74,
     "metadata": {},
     "output_type": "execute_result"
    }
   ],
   "source": [
    "patient_means.shape"
   ]
  },
  {
   "cell_type": "code",
   "execution_count": 75,
   "id": "39510b50-0d4c-4c58-b7e9-34dd10e53e26",
   "metadata": {},
   "outputs": [
    {
     "data": {
      "text/plain": [
       "array([5.45 , 5.425, 6.1  , 5.9  , 5.55 , 6.225, 5.975, 6.65 , 6.625,\n",
       "       6.525, 6.775, 5.8  , 6.225, 5.75 , 5.225, 6.3  , 6.55 , 5.7  ,\n",
       "       5.85 , 6.55 , 5.775, 5.825, 6.175, 6.1  , 5.8  , 6.425, 6.05 ,\n",
       "       6.025, 6.175, 6.55 , 6.175, 6.35 , 6.725, 6.125, 7.075, 5.725,\n",
       "       5.925, 6.15 , 6.075, 5.75 , 5.975, 5.725, 6.3  , 5.9  , 6.75 ,\n",
       "       5.925, 7.225, 6.15 , 5.95 , 6.275, 5.7  , 6.1  , 6.825, 5.975,\n",
       "       6.725, 5.7  , 6.25 , 6.4  , 7.05 , 5.9  ])"
      ]
     },
     "execution_count": 75,
     "metadata": {},
     "output_type": "execute_result"
    }
   ],
   "source": [
    "patient_means"
   ]
  },
  {
   "cell_type": "code",
   "execution_count": 76,
   "id": "b331bda0-a661-4121-84ba-9c0e26faa5c6",
   "metadata": {},
   "outputs": [
    {
     "name": "stdout",
     "output_type": "stream",
     "text": [
      "first three characters: oxy\n",
      "last three characters: gen\n"
     ]
    }
   ],
   "source": [
    "element = 'oxygen'\n",
    "print('first three characters:', element[0:3])\n",
    "print('last three characters:', element[3:6])"
   ]
  },
  {
   "cell_type": "code",
   "execution_count": 80,
   "id": "cb1bdd27-fd73-4760-8667-fe57e21096dd",
   "metadata": {},
   "outputs": [],
   "source": [
    "message = \\\n",
    "\"\"\"\n",
    "so this is a string\n",
    "that goes on and one\n",
    "\"\"\""
   ]
  },
  {
   "cell_type": "code",
   "execution_count": 81,
   "id": "ce9bbd71-b7a7-4623-821f-452990a4b418",
   "metadata": {},
   "outputs": [
    {
     "data": {
      "text/plain": [
       "'\\nso this is a string\\nthat goes on and one\\n'"
      ]
     },
     "execution_count": 81,
     "metadata": {},
     "output_type": "execute_result"
    }
   ],
   "source": [
    "message"
   ]
  },
  {
   "cell_type": "code",
   "execution_count": 86,
   "id": "3c64d64a-3ff1-476d-b432-f1cbd1b40567",
   "metadata": {},
   "outputs": [
    {
     "data": {
      "text/plain": [
       "['__annotations__',\n",
       " '__call__',\n",
       " '__class__',\n",
       " '__closure__',\n",
       " '__code__',\n",
       " '__defaults__',\n",
       " '__delattr__',\n",
       " '__dict__',\n",
       " '__dir__',\n",
       " '__doc__',\n",
       " '__eq__',\n",
       " '__format__',\n",
       " '__ge__',\n",
       " '__get__',\n",
       " '__getattribute__',\n",
       " '__globals__',\n",
       " '__gt__',\n",
       " '__hash__',\n",
       " '__init__',\n",
       " '__init_subclass__',\n",
       " '__kwdefaults__',\n",
       " '__le__',\n",
       " '__lt__',\n",
       " '__module__',\n",
       " '__name__',\n",
       " '__ne__',\n",
       " '__new__',\n",
       " '__qualname__',\n",
       " '__reduce__',\n",
       " '__reduce_ex__',\n",
       " '__repr__',\n",
       " '__setattr__',\n",
       " '__sizeof__',\n",
       " '__str__',\n",
       " '__subclasshook__',\n",
       " '__wrapped__',\n",
       " '_implementation']"
      ]
     },
     "execution_count": 86,
     "metadata": {},
     "output_type": "execute_result"
    }
   ],
   "source": []
  },
  {
   "cell_type": "code",
   "execution_count": 87,
   "id": "101d9089-191c-4baa-a9ef-6382a16df35f",
   "metadata": {},
   "outputs": [
    {
     "name": "stdout",
     "output_type": "stream",
     "text": [
      "[0. 0. 2. 0. 4. 2. 2.]\n"
     ]
    }
   ],
   "source": [
    "patient3_week1 = data[3, :7]\n",
    "print(patient3_week1)\n"
   ]
  },
  {
   "cell_type": "code",
   "execution_count": 88,
   "id": "a02e20d8-0b2a-42ab-9826-de5806730a2b",
   "metadata": {},
   "outputs": [
    {
     "data": {
      "text/plain": [
       "array([ 0.,  2., -2.,  4., -2.,  0.])"
      ]
     },
     "execution_count": 88,
     "metadata": {},
     "output_type": "execute_result"
    }
   ],
   "source": [
    "numpy.diff(patient3_week1)"
   ]
  },
  {
   "cell_type": "code",
   "execution_count": 89,
   "id": "1ee4b6a2-91d4-4a19-b57e-3261cb6aa3f5",
   "metadata": {},
   "outputs": [
    {
     "data": {
      "text/plain": [
       "(60, 39)"
      ]
     },
     "execution_count": 89,
     "metadata": {},
     "output_type": "execute_result"
    }
   ],
   "source": [
    "patient_diffs = numpy.diff(data, axis = 1)\n",
    "patient_diffs.shape"
   ]
  },
  {
   "cell_type": "code",
   "execution_count": 90,
   "id": "d152669d-5e22-41ea-9886-0edb9bc4541c",
   "metadata": {},
   "outputs": [
    {
     "data": {
      "image/png": "[encoded data removed]",
      "text/plain": [
       "<Figure size 640x480 with 1 Axes>"
      ]
     },
     "metadata": {},
     "output_type": "display_data"
    }
   ],
   "source": [
    "import matplotlib.pyplot\n",
    "image = matplotlib.pyplot.imshow(data)\n",
    "matplotlib.pyplot.show()"
   ]
  },
  {
   "cell_type": "code",
   "execution_count": 91,
   "id": "1ec92e8a-8a2f-4ac5-aec6-bcfb5864af03",
   "metadata": {},
   "outputs": [
    {
     "data": {
      "image/png": "[encoded data removed]",
      "text/plain": [
       "<Figure size 640x480 with 1 Axes>"
      ]
     },
     "metadata": {},
     "output_type": "display_data"
    }
   ],
   "source": [
    "ave_inflammation = numpy.mean(data, axis=0)\n",
    "ave_plot = matplotlib.pyplot.plot(ave_inflammation)\n",
    "matplotlib.pyplot.show()"
   ]
  },
  {
   "cell_type": "code",
   "execution_count": 92,
   "id": "f6249391-7081-4441-86fa-b8de8975631f",
   "metadata": {},
   "outputs": [
    {
     "data": {
      "image/png": "[encoded data removed]",
      "text/plain": [
       "<Figure size 640x480 with 1 Axes>"
      ]
     },
     "metadata": {},
     "output_type": "display_data"
    }
   ],
   "source": [
    "max_plot = matplotlib.pyplot.plot(numpy.max(data, axis=0))\n",
    "matplotlib.pyplot.show()"
   ]
  },
  {
   "cell_type": "code",
   "execution_count": 93,
   "id": "69436502-8461-4d3c-a69f-6f0736b7dd61",
   "metadata": {},
   "outputs": [
    {
     "data": {
      "image/png": "[encoded data removed]",
      "text/plain": [
       "<Figure size 640x480 with 1 Axes>"
      ]
     },
     "metadata": {},
     "output_type": "display_data"
    }
   ],
   "source": [
    "max_plot = matplotlib.pyplot.plot(numpy.min(data, axis=0))\n",
    "matplotlib.pyplot.show()"
   ]
  },
  {
   "cell_type": "code",
   "execution_count": 99,
   "id": "984d68bb-eb25-4ef1-a1f1-78fc7b3964e7",
   "metadata": {},
   "outputs": [
    {
     "data": {
      "image/png": "[encoded data removed]",
      "text/plain": [
       "<Figure size 1000x300 with 3 Axes>"
      ]
     },
     "metadata": {},
     "output_type": "display_data"
    }
   ],
   "source": [
    "fig = matplotlib.pyplot.figure(figsize=(10,3))\n",
    "\n",
    "axes1 = fig.add_subplot(1, 3, 1)\n",
    "axes2 = fig.add_subplot(1, 3, 2)\n",
    "axes3 = fig.add_subplot(1, 3, 3)\n",
    "\n",
    "axes1.set_ylabel('average')\n",
    "axes1.plot(numpy.mean(data, axis=0))\n",
    "\n",
    "axes2.set_ylabel('max')\n",
    "axes2.plot(numpy.max(data, axis=0))\n",
    "\n",
    "axes3.set_ylabel('minimum')\n",
    "axes3.plot(numpy.min(data, axis=0))\n",
    "axes3.set_ylim(0, 12)\n",
    "\n",
    "fig.tight_layout()\n",
    "\n",
    "matplotlib.pyplot.savefig('inflammation.png')\n",
    "matplotlib.pyplot.show()"
   ]
  },
  {
   "cell_type": "code",
   "execution_count": 100,
   "id": "4d157d50-935e-4ca6-8d2c-d5f5630069a6",
   "metadata": {},
   "outputs": [
    {
     "name": "stdout",
     "output_type": "stream",
     "text": [
      "'Day 1 Notes.ipynb'    gen_inflammation.py   readings_03.py   readings_09.py\n",
      "'Day 1 Python.ipynb'   inflammation.png      readings_04.py   rectangle.py\n",
      " argv_list.py\t       line_count.py\t     readings_05.py   sys_version.py\n",
      " arith.py\t       my_ls.py\t\t     readings_06.py\n",
      " check.py\t       readings_01.py\t     readings_07.py\n",
      " count_stdin.py        readings_02.py\t     readings_08.py\n"
     ]
    }
   ],
   "source": [
    "!ls"
   ]
  },
  {
   "cell_type": "code",
   "execution_count": 101,
   "id": "0f90e38e-a14b-4477-ad69-146e8241690a",
   "metadata": {},
   "outputs": [
    {
     "data": {
      "image/png": "[encoded data removed]",
      "text/plain": [
       "<Figure size 1000x300 with 3 Axes>"
      ]
     },
     "metadata": {},
     "output_type": "display_data"
    }
   ],
   "source": [
    "fig = matplotlib.pyplot.figure(figsize=(10.0, 3.0))\n",
    "\n",
    "axes1 = fig.add_subplot(1, 3, 1)\n",
    "axes2 = fig.add_subplot(1, 3, 2)\n",
    "axes3 = fig.add_subplot(1, 3, 3)\n",
    "\n",
    "axes1.set_ylabel('average')\n",
    "axes1.plot(numpy.mean(data, axis=0), drawstyle='steps-mid')\n",
    "\n",
    "axes2.set_ylabel('max')\n",
    "axes2.plot(numpy.max(data, axis=0), drawstyle='steps-mid')\n",
    "\n",
    "axes3.set_ylabel('min')\n",
    "axes3.plot(numpy.min(data, axis=0), drawstyle='steps-mid')\n",
    "\n",
    "fig.tight_layout()\n",
    "\n",
    "matplotlib.pyplot.show()"
   ]
  },
  {
   "cell_type": "code",
   "execution_count": 102,
   "id": "7da720c0-aa0d-49a5-8f21-71b882fbad4c",
   "metadata": {},
   "outputs": [
    {
     "name": "stdout",
     "output_type": "stream",
     "text": [
      "odds are: [1, 3, 5, 7]\n"
     ]
    }
   ],
   "source": [
    "odds = [1, 3, 5, 7]\n",
    "print('odds are:', odds)"
   ]
  },
  {
   "cell_type": "code",
   "execution_count": 105,
   "id": "4d983c2a-e993-4173-aa33-f0fec62f5151",
   "metadata": {},
   "outputs": [],
   "source": [
    "a = [7, 8]*5"
   ]
  },
  {
   "cell_type": "code",
   "execution_count": 106,
   "id": "6b65ad37-75cd-43fb-ae63-4ec3ade2341f",
   "metadata": {},
   "outputs": [
    {
     "data": {
      "text/plain": [
       "[7, 8, 7, 8, 7, 8, 7, 8, 7, 8]"
      ]
     },
     "execution_count": 106,
     "metadata": {},
     "output_type": "execute_result"
    }
   ],
   "source": [
    "a"
   ]
  },
  {
   "cell_type": "code",
   "execution_count": 107,
   "id": "12b90d9b-c9be-414d-a7a6-590c94cca176",
   "metadata": {},
   "outputs": [
    {
     "data": {
      "text/plain": [
       "[1, 3, 5, 7]"
      ]
     },
     "execution_count": 107,
     "metadata": {},
     "output_type": "execute_result"
    }
   ],
   "source": [
    "odds"
   ]
  },
  {
   "cell_type": "code",
   "execution_count": 108,
   "id": "2b69000e-eca2-4d87-b86f-bea3e9e2618c",
   "metadata": {},
   "outputs": [
    {
     "name": "stdout",
     "output_type": "stream",
     "text": [
      "first element: 1\n",
      "last element: 7\n",
      "\"-1\" element: 7\n"
     ]
    }
   ],
   "source": [
    "print('first element:', odds[0])\n",
    "print('last element:', odds[3])\n",
    "print('\"-1\" element:', odds[-1])"
   ]
  },
  {
   "cell_type": "code",
   "execution_count": 109,
   "id": "bcc1ee9f-9e68-4074-ad6b-af1afe47d313",
   "metadata": {},
   "outputs": [
    {
     "data": {
      "text/plain": [
       "5"
      ]
     },
     "execution_count": 109,
     "metadata": {},
     "output_type": "execute_result"
    }
   ],
   "source": [
    "odds[-2]"
   ]
  },
  {
   "cell_type": "code",
   "execution_count": 110,
   "id": "4d2b62ca-4256-418d-9353-9271ab6f07e3",
   "metadata": {},
   "outputs": [
    {
     "name": "stdout",
     "output_type": "stream",
     "text": [
      "names is originally: ['Curie', 'Darwing', 'Turing']\n",
      "final value of names: ['Curie', 'Darwin', 'Turing']\n"
     ]
    }
   ],
   "source": [
    "names = ['Curie', 'Darwing', 'Turing']  # typo in Darwin's name\n",
    "print('names is originally:', names)\n",
    "names[1] = 'Darwin'  # correct the name\n",
    "print('final value of names:', names)"
   ]
  },
  {
   "cell_type": "code",
   "execution_count": 111,
   "id": "b31d5400-37b6-4f03-bc5e-1ad173eebc8c",
   "metadata": {},
   "outputs": [
    {
     "ename": "TypeError",
     "evalue": "'str' object does not support item assignment",
     "output_type": "error",
     "traceback": [
      "\u001b[0;31m---------------------------------------------------------------------------\u001b[0m",
      "\u001b[0;31mTypeError\u001b[0m                                 Traceback (most recent call last)",
      "Input \u001b[0;32mIn [111]\u001b[0m, in \u001b[0;36m<cell line: 2>\u001b[0;34m()\u001b[0m\n\u001b[1;32m      1\u001b[0m name \u001b[38;5;241m=\u001b[39m \u001b[38;5;124m'\u001b[39m\u001b[38;5;124mDarwin\u001b[39m\u001b[38;5;124m'\u001b[39m\n\u001b[0;32m----> 2\u001b[0m name[\u001b[38;5;241m0\u001b[39m] \u001b[38;5;241m=\u001b[39m \u001b[38;5;124m'\u001b[39m\u001b[38;5;124md\u001b[39m\u001b[38;5;124m'\u001b[39m\n\u001b[1;32m      3\u001b[0m name\n",
      "\u001b[0;31mTypeError\u001b[0m: 'str' object does not support item assignment"
     ]
    }
   ],
   "source": [
    "name = 'Darwin'\n",
    "name[0] = 'd'\n",
    "name"
   ]
  },
  {
   "cell_type": "code",
   "execution_count": 112,
   "id": "9ec2406f-d5b9-460f-9f94-befbcfc8c3af",
   "metadata": {},
   "outputs": [
    {
     "name": "stdout",
     "output_type": "stream",
     "text": [
      "Ingredients in my salsa: ['hot peppers', 'onions', 'cilantro', 'tomatoes']\n"
     ]
    }
   ],
   "source": [
    "salsa = ['peppers', 'onions', 'cilantro', 'tomatoes']\n",
    "my_salsa = salsa        # <-- my_salsa and salsa point to the *same* list data in memory\n",
    "salsa[0] = 'hot peppers'\n",
    "print('Ingredients in my salsa:', my_salsa)"
   ]
  },
  {
   "cell_type": "code",
   "execution_count": 113,
   "id": "f44e4251-c222-470f-a230-64827d315fe2",
   "metadata": {},
   "outputs": [],
   "source": [
    "my_salsa = salsa[:]"
   ]
  },
  {
   "cell_type": "code",
   "execution_count": 114,
   "id": "1006ab18-191d-4d7e-9093-c5f3a4442835",
   "metadata": {},
   "outputs": [
    {
     "data": {
      "text/plain": [
       "['hot peppers', 'onions', 'cilantro', 'tomatoes']"
      ]
     },
     "execution_count": 114,
     "metadata": {},
     "output_type": "execute_result"
    }
   ],
   "source": [
    "salsa"
   ]
  },
  {
   "cell_type": "code",
   "execution_count": 115,
   "id": "2d4e130b-16c5-42c5-818e-86e04a898ec4",
   "metadata": {},
   "outputs": [],
   "source": [
    "my_salsa[0]='salt'"
   ]
  },
  {
   "cell_type": "code",
   "execution_count": 116,
   "id": "27b292ad-9c52-4d42-844d-1fc2997f15f9",
   "metadata": {},
   "outputs": [
    {
     "data": {
      "text/plain": [
       "['salt', 'onions', 'cilantro', 'tomatoes']"
      ]
     },
     "execution_count": 116,
     "metadata": {},
     "output_type": "execute_result"
    }
   ],
   "source": [
    "my_salsa"
   ]
  },
  {
   "cell_type": "code",
   "execution_count": 117,
   "id": "854d35eb-b66b-4714-bcca-f6ee9b3a10d7",
   "metadata": {},
   "outputs": [
    {
     "data": {
      "text/plain": [
       "['hot peppers', 'onions', 'cilantro', 'tomatoes']"
      ]
     },
     "execution_count": 117,
     "metadata": {},
     "output_type": "execute_result"
    }
   ],
   "source": [
    "salsa"
   ]
  },
  {
   "cell_type": "code",
   "execution_count": 118,
   "id": "a8b5bebe-5cb1-497f-889f-075d79c849a6",
   "metadata": {},
   "outputs": [],
   "source": [
    "my_salsa = salsa.copy()"
   ]
  },
  {
   "cell_type": "code",
   "execution_count": 119,
   "id": "c0c9ad6b-13c2-43ce-b9a7-9f35777df970",
   "metadata": {},
   "outputs": [
    {
     "data": {
      "text/plain": [
       "['hot peppers', 'onions', 'cilantro', 'tomatoes']"
      ]
     },
     "execution_count": 119,
     "metadata": {},
     "output_type": "execute_result"
    }
   ],
   "source": [
    "my_salsa"
   ]
  },
  {
   "cell_type": "code",
   "execution_count": 120,
   "id": "0b8791e0-aac6-4b67-958b-f16be8531f7f",
   "metadata": {},
   "outputs": [],
   "source": [
    "sci = ['Darwin']\n"
   ]
  },
  {
   "cell_type": "code",
   "execution_count": 121,
   "id": "341f55a3-053f-4e1f-8256-db832c3e539b",
   "metadata": {},
   "outputs": [
    {
     "data": {
      "text/plain": [
       "['Darwin']"
      ]
     },
     "execution_count": 121,
     "metadata": {},
     "output_type": "execute_result"
    }
   ],
   "source": [
    " sci\n",
    "    "
   ]
  },
  {
   "cell_type": "code",
   "execution_count": 124,
   "id": "c0d7f75a-578d-4472-8484-b0f99db021b4",
   "metadata": {},
   "outputs": [],
   "source": [
    "sci[0]='d'"
   ]
  },
  {
   "cell_type": "code",
   "execution_count": 125,
   "id": "2e7b0cfc-f3e1-4afd-90db-1c4a042609a3",
   "metadata": {},
   "outputs": [
    {
     "data": {
      "text/plain": [
       "['d']"
      ]
     },
     "execution_count": 125,
     "metadata": {},
     "output_type": "execute_result"
    }
   ],
   "source": [
    "sci"
   ]
  },
  {
   "cell_type": "code",
   "execution_count": 126,
   "id": "f7a70fb0-10a9-4d04-94aa-e75a97ba908d",
   "metadata": {},
   "outputs": [
    {
     "name": "stdout",
     "output_type": "stream",
     "text": [
      "Ingredients in my salsa: ['peppers', 'onions', 'cilantro', 'tomatoes']\n"
     ]
    }
   ],
   "source": [
    "salsa = ['peppers', 'onions', 'cilantro', 'tomatoes']\n",
    "my_salsa = list(salsa)        # <-- makes a *copy* of the list\n",
    "salsa[0] = 'hot peppers'\n",
    "print('Ingredients in my salsa:', my_salsa)"
   ]
  },
  {
   "cell_type": "code",
   "execution_count": 127,
   "id": "62af703c-a949-4ce0-8f92-46506b9a16b7",
   "metadata": {},
   "outputs": [],
   "source": [
    "x = [['pepper', 'zucchini', 'onion'],\n",
    "     ['cabbage', 'lettuce', 'garlic'],\n",
    "     ['apple', 'pear', 'banana']]"
   ]
  },
  {
   "cell_type": "code",
   "execution_count": 129,
   "id": "3e07b004-be3c-42ea-9b36-4606fda6f8f8",
   "metadata": {},
   "outputs": [
    {
     "name": "stdout",
     "output_type": "stream",
     "text": [
      "pear\n"
     ]
    }
   ],
   "source": [
    "print(x[2][1])"
   ]
  },
  {
   "cell_type": "code",
   "execution_count": 130,
   "id": "093365e8-70b2-451b-b6c1-817d5b702507",
   "metadata": {},
   "outputs": [],
   "source": [
    "sample_ages = [10, 12.5, 'Unknown']"
   ]
  },
  {
   "cell_type": "code",
   "execution_count": 131,
   "id": "7692e97b-30eb-47ba-86b5-3c2f9dfe4143",
   "metadata": {},
   "outputs": [
    {
     "data": {
      "text/plain": [
       "[1, 3, 5, 7]"
      ]
     },
     "execution_count": 131,
     "metadata": {},
     "output_type": "execute_result"
    }
   ],
   "source": [
    "odds"
   ]
  },
  {
   "cell_type": "code",
   "execution_count": 132,
   "id": "a3dd84cb-4bf5-48a6-b5b8-e566911728bd",
   "metadata": {},
   "outputs": [],
   "source": [
    "odds.append(9)"
   ]
  },
  {
   "cell_type": "code",
   "execution_count": 133,
   "id": "b92afdbe-bb91-4887-98bc-540d33c485a6",
   "metadata": {},
   "outputs": [
    {
     "data": {
      "text/plain": [
       "[1, 3, 5, 7, 9]"
      ]
     },
     "execution_count": 133,
     "metadata": {},
     "output_type": "execute_result"
    }
   ],
   "source": [
    "odds\n"
   ]
  },
  {
   "cell_type": "code",
   "execution_count": 134,
   "id": "cc7a8550-b083-4411-9c37-bedbcbaa6b1c",
   "metadata": {},
   "outputs": [
    {
     "data": {
      "text/plain": [
       "5"
      ]
     },
     "execution_count": 134,
     "metadata": {},
     "output_type": "execute_result"
    }
   ],
   "source": [
    "len(odds)"
   ]
  },
  {
   "cell_type": "code",
   "execution_count": 135,
   "id": "f6a33ebd-9760-42e0-baa5-b6343133d620",
   "metadata": {},
   "outputs": [],
   "source": [
    "odds.insert(0, -1)"
   ]
  },
  {
   "cell_type": "code",
   "execution_count": 136,
   "id": "5c336604-e952-457d-be1f-5ffed62d14dd",
   "metadata": {},
   "outputs": [
    {
     "data": {
      "text/plain": [
       "[-1, 1, 3, 5, 7, 9]"
      ]
     },
     "execution_count": 136,
     "metadata": {},
     "output_type": "execute_result"
    }
   ],
   "source": [
    "odds"
   ]
  },
  {
   "cell_type": "code",
   "execution_count": 137,
   "id": "aa9d6a80-150a-4bcc-9acd-8f61f960723b",
   "metadata": {},
   "outputs": [],
   "source": [
    "removed_element = odds.pop(0)"
   ]
  },
  {
   "cell_type": "code",
   "execution_count": 138,
   "id": "d0a28546-c87f-45c0-9917-471ac5f0fe27",
   "metadata": {},
   "outputs": [
    {
     "data": {
      "text/plain": [
       "-1"
      ]
     },
     "execution_count": 138,
     "metadata": {},
     "output_type": "execute_result"
    }
   ],
   "source": [
    "removed_element"
   ]
  },
  {
   "cell_type": "code",
   "execution_count": 139,
   "id": "ab4a1e17-d0a4-4466-ac96-d8573c08a376",
   "metadata": {},
   "outputs": [
    {
     "data": {
      "text/plain": [
       "[1, 3, 5, 7, 9]"
      ]
     },
     "execution_count": 139,
     "metadata": {},
     "output_type": "execute_result"
    }
   ],
   "source": [
    "odds"
   ]
  },
  {
   "cell_type": "code",
   "execution_count": 140,
   "id": "6ba9b902-7626-48cf-865a-5020221f2da3",
   "metadata": {},
   "outputs": [],
   "source": [
    "odds.reverse()"
   ]
  },
  {
   "cell_type": "code",
   "execution_count": 141,
   "id": "b535bb16-b601-4f5f-8d61-a39bf7de3b86",
   "metadata": {},
   "outputs": [
    {
     "data": {
      "text/plain": [
       "[9, 7, 5, 3, 1]"
      ]
     },
     "execution_count": 141,
     "metadata": {},
     "output_type": "execute_result"
    }
   ],
   "source": [
    "odds"
   ]
  },
  {
   "cell_type": "code",
   "execution_count": 142,
   "id": "4eb9bedb-e29f-48b9-84a8-cd9d8afe10aa",
   "metadata": {},
   "outputs": [
    {
     "name": "stdout",
     "output_type": "stream",
     "text": [
      "primes: [3, 5, 7, 2]\n",
      "odds: [3, 5, 7, 2]\n"
     ]
    }
   ],
   "source": [
    "odds = [3, 5, 7]\n",
    "primes = odds\n",
    "primes.append(2)\n",
    "print('primes:', primes)\n",
    "print('odds:', odds)"
   ]
  },
  {
   "cell_type": "code",
   "execution_count": 144,
   "id": "864ad9df-d571-45a7-bff4-b2a0fb09275c",
   "metadata": {},
   "outputs": [
    {
     "data": {
      "text/plain": [
       "'longp'"
      ]
     },
     "execution_count": 144,
     "metadata": {},
     "output_type": "execute_result"
    }
   ],
   "source": [
    "a='longphrase'\n",
    "b=a[0:5]\n",
    "b"
   ]
  },
  {
   "cell_type": "code",
   "execution_count": 145,
   "id": "eeda54fb-f9aa-4da1-bfb1-24f075602e0e",
   "metadata": {},
   "outputs": [
    {
     "data": {
      "text/plain": [
       "2"
      ]
     },
     "execution_count": 145,
     "metadata": {},
     "output_type": "execute_result"
    }
   ],
   "source": [
    "odds.pop()"
   ]
  },
  {
   "cell_type": "code",
   "execution_count": 146,
   "id": "528f5f2b-9aa5-4971-98f0-69402b369f37",
   "metadata": {},
   "outputs": [
    {
     "data": {
      "text/plain": [
       "[3, 5, 7]"
      ]
     },
     "execution_count": 146,
     "metadata": {},
     "output_type": "execute_result"
    }
   ],
   "source": [
    "odds"
   ]
  },
  {
   "cell_type": "code",
   "execution_count": 147,
   "id": "70af3cd1-cbd7-41c9-a327-283feda99035",
   "metadata": {},
   "outputs": [],
   "source": [
    "primes=odds[:]"
   ]
  },
  {
   "cell_type": "code",
   "execution_count": 148,
   "id": "ff142ff6-de3e-4a1d-a066-e2ffdb833d4e",
   "metadata": {},
   "outputs": [],
   "source": [
    "primes.insert(0,2)"
   ]
  },
  {
   "cell_type": "code",
   "execution_count": 149,
   "id": "c36384ba-e66e-4430-939e-4ecc71fd420e",
   "metadata": {},
   "outputs": [
    {
     "data": {
      "text/plain": [
       "[2, 3, 5, 7]"
      ]
     },
     "execution_count": 149,
     "metadata": {},
     "output_type": "execute_result"
    }
   ],
   "source": [
    "primes"
   ]
  },
  {
   "cell_type": "code",
   "execution_count": 150,
   "id": "5685ad99-304b-43f1-80c9-7d08efcf2923",
   "metadata": {},
   "outputs": [
    {
     "data": {
      "text/plain": [
       "[3, 5, 7]"
      ]
     },
     "execution_count": 150,
     "metadata": {},
     "output_type": "execute_result"
    }
   ],
   "source": [
    "odds"
   ]
  },
  {
   "cell_type": "code",
   "execution_count": 151,
   "id": "094404f7-0b87-4edf-a439-515c38d572f3",
   "metadata": {},
   "outputs": [
    {
     "name": "stdout",
     "output_type": "stream",
     "text": [
      "group: Drosophila\n",
      "species: melanogaster\n",
      "autosomes: ['2', '3', '4']\n",
      "last: 4\n"
     ]
    }
   ],
   "source": [
    "binomial_name = 'Drosophila melanogaster'\n",
    "group = binomial_name[0:10]\n",
    "print('group:', group)\n",
    "\n",
    "species = binomial_name[11:23]\n",
    "print('species:', species)\n",
    "\n",
    "chromosomes = ['X', 'Y', '2', '3', '4']\n",
    "autosomes = chromosomes[2:5]\n",
    "print('autosomes:', autosomes)\n",
    "\n",
    "last = chromosomes[-1]\n",
    "print('last:', last)"
   ]
  },
  {
   "cell_type": "code",
   "execution_count": 152,
   "id": "462a8b3e-0b84-4187-a2d4-b072b3275dd6",
   "metadata": {},
   "outputs": [],
   "source": [
    "string_for_slicing = 'Observation date: 02-Feb-2013'\n",
    "list_for_slicing = [['fluorine', 'F'],\n",
    "                    ['chlorine', 'Cl'],\n",
    "                    ['bromine', 'Br'],\n",
    "                    ['iodine', 'I'],\n",
    "                    ['astatine', 'At']]"
   ]
  },
  {
   "cell_type": "code",
   "execution_count": 156,
   "id": "184a4f2e-ab9b-467a-8f37-70b8437a2d31",
   "metadata": {},
   "outputs": [
    {
     "data": {
      "text/plain": [
       "[['chlorine', 'Cl'], ['bromine', 'Br'], ['iodine', 'I'], ['astatine', 'At']]"
      ]
     },
     "execution_count": 156,
     "metadata": {},
     "output_type": "execute_result"
    }
   ],
   "source": [
    "list_for_slicing[-4:]"
   ]
  },
  {
   "cell_type": "code",
   "execution_count": 157,
   "id": "eddb40d9-5834-4d64-920c-81df7fb9ff8b",
   "metadata": {},
   "outputs": [
    {
     "name": "stdout",
     "output_type": "stream",
     "text": [
      "subset [2, 7, 17, 29]\n"
     ]
    }
   ],
   "source": [
    "primes = [2, 3, 5, 7, 11, 13, 17, 19, 23, 29, 31, 37]\n",
    "\n",
    "subset = primes[0:12:3]\n",
    "print('subset', subset)"
   ]
  },
  {
   "cell_type": "code",
   "execution_count": 158,
   "id": "6f19dc3d-aea6-489e-953a-d938eddab2d3",
   "metadata": {},
   "outputs": [
    {
     "name": "stdout",
     "output_type": "stream",
     "text": [
      "subset [5, 13, 23, 37]\n"
     ]
    }
   ],
   "source": [
    "primes = [2, 3, 5, 7, 11, 13, 17, 19, 23, 29, 31, 37]\n",
    "subset = primes[2:12:3]\n",
    "print('subset', subset)"
   ]
  },
  {
   "cell_type": "code",
   "execution_count": 162,
   "id": "c74e600e-28fb-49e4-b9f9-2ac9e7901a87",
   "metadata": {},
   "outputs": [
    {
     "name": "stdout",
     "output_type": "stream",
     "text": [
      "I notpssgre ntesae\n"
     ]
    }
   ],
   "source": [
    "beatles = \"In an octopus's garden in the shade\"\n",
    "# want output 'I notpssgre ntesae'\n",
    "print(beatles[::2])"
   ]
  },
  {
   "cell_type": "code",
   "execution_count": 163,
   "id": "fd13d888-1245-49a2-a6c4-1684ec217f20",
   "metadata": {},
   "outputs": [
    {
     "name": "stdout",
     "output_type": "stream",
     "text": [
      "Using 0 to begin range: Monday\n",
      "Omitting beginning index: Monday\n"
     ]
    }
   ],
   "source": [
    "date = 'Monday 4 January 2016'\n",
    "day = date[0:6]\n",
    "print('Using 0 to begin range:', day)\n",
    "day = date[:6]\n",
    "print('Omitting beginning index:', day)"
   ]
  },
  {
   "cell_type": "code",
   "execution_count": 164,
   "id": "7efe6322-0f15-4d32-a2fe-9a90507a01c0",
   "metadata": {},
   "outputs": [],
   "source": [
    "list_a = [1, 3]\n",
    "list_b = [2, 4]\n",
    "c = list_a + list_b"
   ]
  },
  {
   "cell_type": "code",
   "execution_count": 165,
   "id": "b89a9a8f-f1f3-4b75-90b1-150f14e63313",
   "metadata": {},
   "outputs": [
    {
     "data": {
      "text/plain": [
       "[1, 3, 2, 4]"
      ]
     },
     "execution_count": 165,
     "metadata": {},
     "output_type": "execute_result"
    }
   ],
   "source": [
    "c"
   ]
  },
  {
   "cell_type": "code",
   "execution_count": 166,
   "id": "9c211ca4-9b21-473e-a0a5-c7256a47fa32",
   "metadata": {},
   "outputs": [],
   "source": [
    "c.append(list_b)"
   ]
  },
  {
   "cell_type": "code",
   "execution_count": 167,
   "id": "e2053c3b-1e78-47c3-b86d-f01cdc20c11b",
   "metadata": {},
   "outputs": [
    {
     "data": {
      "text/plain": [
       "[1, 3, 2, 4, [2, 4]]"
      ]
     },
     "execution_count": 167,
     "metadata": {},
     "output_type": "execute_result"
    }
   ],
   "source": [
    "c"
   ]
  },
  {
   "cell_type": "code",
   "execution_count": 169,
   "id": "7c429360-ce3d-4628-a4ef-d805b2c49724",
   "metadata": {},
   "outputs": [
    {
     "name": "stdout",
     "output_type": "stream",
     "text": [
      "3\n",
      "5\n",
      "7\n",
      "9\n"
     ]
    }
   ],
   "source": [
    "odds.append(9)\n",
    "print(odds[0])\n",
    "print(odds[1])\n",
    "print(odds[2])\n",
    "print(odds[3])"
   ]
  },
  {
   "cell_type": "code",
   "execution_count": 170,
   "id": "0ec6510c-59de-48c6-8555-4ee88763f83b",
   "metadata": {},
   "outputs": [
    {
     "name": "stdout",
     "output_type": "stream",
     "text": [
      "1\n",
      "3\n",
      "5\n",
      "7\n"
     ]
    }
   ],
   "source": [
    "odds = [1, 3, 5, 7]\n",
    "for num in odds:\n",
    "    print(num)"
   ]
  },
  {
   "cell_type": "code",
   "execution_count": 171,
   "id": "7523bd2b-4946-4973-bed6-61c4dea418fd",
   "metadata": {},
   "outputs": [
    {
     "name": "stdout",
     "output_type": "stream",
     "text": [
      "1\n",
      "3\n",
      "5\n",
      "7\n",
      "9\n",
      "11\n"
     ]
    }
   ],
   "source": [
    "odds = [1, 3, 5, 7, 9, 11]\n",
    "for num in odds:\n",
    "    print(num)"
   ]
  },
  {
   "cell_type": "code",
   "execution_count": 172,
   "id": "4ad1dd2a-d243-4821-9e79-69f6b1ada176",
   "metadata": {},
   "outputs": [
    {
     "name": "stdout",
     "output_type": "stream",
     "text": [
      "There are 3 names in the list.\n"
     ]
    }
   ],
   "source": [
    "length = 0\n",
    "\n",
    "\n",
    "names = ['Curie', 'Darwin', 'Turing']\n",
    "\n",
    "\n",
    "\n",
    "for value in names:\n",
    "    length = length + 1\n",
    "    \n",
    "    \n",
    "print('There are', length, 'names in the list.')"
   ]
  },
  {
   "cell_type": "code",
   "execution_count": 173,
   "id": "66edad4c-82fe-45ad-abd3-e081a6829c28",
   "metadata": {},
   "outputs": [
    {
     "name": "stdout",
     "output_type": "stream",
     "text": [
      "Curie\n",
      "Darwin\n",
      "Turing\n",
      "after the loop, name is Turing\n"
     ]
    }
   ],
   "source": [
    "name = 'Rosalind'\n",
    "\n",
    "for name in ['Curie', 'Darwin', 'Turing']:\n",
    "    print(name)\n",
    "    \n",
    "print('after the loop, name is', name)"
   ]
  },
  {
   "cell_type": "code",
   "execution_count": 174,
   "id": "199ee45f-0083-43b0-afcb-b5717dfc6317",
   "metadata": {},
   "outputs": [
    {
     "name": "stdout",
     "output_type": "stream",
     "text": [
      "4\n"
     ]
    }
   ],
   "source": [
    "print(len([0, 1, 2, 3]))"
   ]
  },
  {
   "cell_type": "code",
   "execution_count": 175,
   "id": "e2886c6a-b983-4baa-aefe-2eba09c5bbbe",
   "metadata": {},
   "outputs": [
    {
     "data": {
      "text/plain": [
       "range(0, 3)"
      ]
     },
     "execution_count": 175,
     "metadata": {},
     "output_type": "execute_result"
    }
   ],
   "source": [
    "range(3)"
   ]
  },
  {
   "cell_type": "code",
   "execution_count": 177,
   "id": "63a8bed2-6ee8-4e1c-b798-185c40cd9e5d",
   "metadata": {},
   "outputs": [
    {
     "name": "stdout",
     "output_type": "stream",
     "text": [
      "0\n",
      "0\n",
      "1\n",
      "7\n",
      "2\n",
      "14\n"
     ]
    }
   ],
   "source": [
    "for i in range(3):\n",
    "    print(i)\n",
    "    print(i*7)"
   ]
  },
  {
   "cell_type": "code",
   "execution_count": null,
   "id": "8761bf06-d005-4a05-abde-55a86987d420",
   "metadata": {},
   "outputs": [],
   "source": []
  }
 ],
 "metadata": {
  "kernelspec": {
   "display_name": "Python 3 (ipykernel)",
   "language": "python",
   "name": "python3"
  },
  "language_info": {
   "codemirror_mode": {
    "name": "ipython",
    "version": 3
   },
   "file_extension": ".py",
   "mimetype": "text/x-python",
   "name": "python",
   "nbconvert_exporter": "python",
   "pygments_lexer": "ipython3",
   "version": "3.11.4"
  }
 },
 "nbformat": 4,
 "nbformat_minor": 5
}
