{
 "cells": [
  {
   "cell_type": "markdown",
   "id": "29b6761d-1ad8-48d8-a770-04b2e31b2356",
   "metadata": {
    "tags": []
   },
   "source": [
    "# Python Carpentries Day 1 of 2\n",
    "\n",
    "\n",
    "- [Jan 8 - 11 2024 Course Information](https://uwescience.github.io/2024-01-08-uw/)\n",
    "- [Python Lesson Plan](https://swcarpentry.github.io/python-novice-inflammation/index.html)\n",
    "- Wednesday/Thursday: [Novice Inflammation lesson](https://swcarpentry.github.io/python-novice-inflammation/)\n",
    "- [My notes (GitHub)](https://github.com/robfatland/carpentries/blob/main/code/Day%201%20Notes.ipynb)\n",
    "- [Etherpad for chat/share](https://pad.carpentries.org/2024-01-08-uw)\n",
    "\n",
    "\n",
    "## Overview\n",
    "\n",
    "\n",
    "- Expediency << Mastery: Time and value\n",
    "- Ideas to calculation to code (modes of thinking)\n",
    "- Mathematics: Not what computers do (engineering coda)\n",
    "- Vocabulary and relationships: Basis of coding skill\n",
    "    - My goal is 'input for your context web'\n",
    "- We will fairly quickly turn a corner into a data story\n",
    "    - ...facilitated by libraries (bundles of related functions)\n",
    "- What is the single most mind-bending aspect of Python?\n",
    "    - For me: **Learn and use libraries** in lieu of 'do it myself'\n",
    "\n",
    "\n",
    "## Schedule for Wednesday\n",
    "\n",
    "\n",
    "- 9:00 Introduction and Setup (10)\n",
    "- 9:10 Framework building (30)\n",
    "    - Includes debugging, variables, 'under the hood'\n",
    "    - Vocab (kingdom phylum class object method attribute dunder etcetera)\n",
    "- 9:40 Data exploration 1 (50)\n",
    "- 10:30 Break (15)\n",
    "- 10:45 Data exploration 2 (75)\n",
    "\n",
    "\n",
    "### Framework building\n",
    "\n",
    "\n",
    "- Python is an imperative object-oriented programming language\n",
    "    - Everything is an **`object`** defined in a blueprint called a **`class`** definition\n",
    "        - The important term here is `object`: Even the lowly integer variable is an object\n",
    "    - Python code executes (runs) inexorably in top-down order\n",
    "    - Python's base word vocabulary has three subsets, about 115 elements in all\n",
    "        - (only a handful to be dangerous)\n",
    "        - type() (Three of these are numeric: `float`, `int`, `complex`); often we use the `string` type as well\n",
    "        - built-in function(paren): together with types: about 80 total; includes `max(a)` and `round(a, b)`\n",
    "        - keyword no paren: includes `True`, `False`, `for`, `while`, `and`, `or`, `import`, ... about 35 of these: backbone of Python code\n",
    "    - The part of the Python vocabulary I did not mention is **`operators`** like `+` and `*`\n",
    "- Python is strongly and dynamically typed\n",
    "- Execution inexorability is broken right away in two ways:\n",
    "    - loops and branches/conditionals are common\n",
    "    - a definition of a function encapsulate common tasks (rests on the shelf for later use)\n",
    "        - Hey this block of code here is the same as what I wrote up there... function?\n",
    "    - control flow / flow of control"
   ]
  },
  {
   "cell_type": "code",
   "execution_count": null,
   "id": "19079183-0b5b-4aae-b359-0ded27e62102",
   "metadata": {
    "tags": []
   },
   "outputs": [],
   "source": [
    "# let's code "
   ]
  },
  {
   "cell_type": "code",
   "execution_count": 3,
   "id": "d384001d-af3c-4663-bb45-a13e893bad40",
   "metadata": {
    "tags": []
   },
   "outputs": [],
   "source": [
    "# print(type(3))"
   ]
  },
  {
   "cell_type": "markdown",
   "id": "a61c5c4b-9058-4dba-965b-48626215206f",
   "metadata": {
    "tags": []
   },
   "source": [
    "- We the programmers tell the computer how to accomplish a task\n",
    "- Python is also a community *ecosystem*\n",
    "    - An inconceivably vast array of useful tools are freely available \n",
    "        - rocket engine design, [fusion reactor testing](https://paramak.readthedocs.io/en/main/), quantum computing, ...\n",
    "        - libraries\n",
    "\n",
    "\n",
    "- Laboratory metaphor: Two levels of access management to focus on our interests\n",
    "    - Because a fusion reactor takes up space in the lab when we are working on our rocket engine\n",
    "        - **`environments`** (a *building* at the lab)\n",
    "        - **`import`** (*tools on the workbench* in that building)\n",
    "    - managing libraries and tool access is associated with a **package manager**, often **`conda`** and also **`pip`**\n",
    "        - This is outside of our scope at the moment; but let's try a `conda` call from the bash shell using the `!` trick in IPython"
   ]
  },
  {
   "cell_type": "code",
   "execution_count": null,
   "id": "dbb375c7-2988-4bce-9766-c0ce54c7dc48",
   "metadata": {
    "tags": []
   },
   "outputs": [],
   "source": [
    "# This cell runs Python: We use '!' to invoke shell commands\n",
    "\n",
    "!echo\n",
    "!pwd\n",
    "!echo\n",
    "!ls\n",
    "!echo\n",
    "!conda env list"
   ]
  },
  {
   "cell_type": "markdown",
   "id": "dc056acc-e74b-481e-8e0f-49f6778e6bac",
   "metadata": {},
   "source": [
    "- What happened there???\n",
    "    - `!` tried to run what followed (like `conda env list`) in the `bash` shell (technically not Python)\n",
    "    - Maybe `conda` is available and it ran... or maybe it is not and it didn't\n",
    "    - If it ran: Maybe it found some environments (lab buildings) and it listed them\n",
    "        - I have installed `miniconda` so that is where all my environments live\n",
    "- Again `import` is finer-grained context setting\n",
    "    - `import` is a Python keyword\n",
    "    - It brings a library or set of functions into a particular program for use\n",
    "        - Example: The **`pandas`** library but abbreviated **`pd`**\n",
    "            - `import pandas as pd`"
   ]
  },
  {
   "cell_type": "code",
   "execution_count": null,
   "id": "f1ff3e7e-6da7-4c4a-8057-218091b95d83",
   "metadata": {
    "tags": []
   },
   "outputs": [],
   "source": [
    "# Another import example: Getting a method from a library and using a sub-method\n",
    "import datetime\n",
    "print(datetime.datetime.now())"
   ]
  },
  {
   "cell_type": "code",
   "execution_count": null,
   "id": "633268d8-7ad6-4d07-8a08-cb13a92fb904",
   "metadata": {
    "tags": []
   },
   "outputs": [],
   "source": [
    "from datetime import datetime\n",
    "print(datetime.now())"
   ]
  },
  {
   "cell_type": "markdown",
   "id": "ef7ee6dc-7a63-4a76-b546-71cc11664dd7",
   "metadata": {},
   "source": [
    "- Returning to imperative code\n",
    "    - The entity that manages all of this is called the Python **runtime** \n",
    "        - It parses code into a sequence of actions\n",
    "        - Those actions are carried out by the Python **interpreter** (claim: is a part of the **runtime**)\n",
    "        - A conditional **`if`** creates branches based on a logic evaluation\n",
    "            - This commonly involves `data` and other information existing in program variables\n",
    "                - `data` might be read from a data file\n",
    "                \n",
    "                \n",
    "### Bugs\n",
    "\n",
    "\n",
    "- Writing software can be empowering...\n",
    "    - ...but eventually our ambitions and effort are rewarded with Bugs in our code\n",
    "        - Bugs cause programs to crash and burn (best case scenario)\n",
    "        - Bugs cause programs to operate not-as-intended without telling us (worse)\n",
    "    - `debugging` is a skill\n",
    "    - The most common bugs by far are Syntax and Logic bugs\n",
    "    - Here are five debugging tips\n",
    "\n",
    "\n",
    "#### Debug Tip Number 1 (Syntax errors): Copy/paste\n",
    "\n",
    "\n",
    "Syntax means that the Python *interpreter* can't figure out what to do.\n",
    "    - syntax errors are essentially typos, usually easy to find and fix\n",
    "    - syntactically incorrect code produces error messages that point you at or close to the problem\n",
    "    - but if you are ?????: Copy and paste the error message into a browser\n",
    "    \n",
    "    \n",
    "#### Debug Tip Number 2 (Logic bugs) Print yourself to enlightenment\n",
    "    \n",
    "\n",
    "Introduce `print(a)` statements provide a sense of how your run is going.\n",
    "\n",
    "\n",
    "#### Debug Tip Number 3 Isolate by halves\n",
    "\n",
    "\n",
    "Is the issue in the first half of a block of code or the second half?\n",
    "\n",
    "\n",
    "#### Debug Tip Number 4 Simplify code by commenting it out. \n",
    "\n",
    "\n",
    "`# commented-out code does not execute.`\n",
    "\n",
    "\n",
    "#### Debug Tip Number 5 Be the computer\n",
    "\n",
    "\n",
    "Set things up as though you were going to ***be*** the computer and run the code for a case... \n",
    "and see how that goes.\n",
    "\n",
    "\n",
    "### And now: On to Variables!\n",
    "\n",
    "\n",
    "Variables have 3 features: A label, a value and a type. \n",
    "\n",
    "\n",
    "\n",
    "The most basic type is the integer, then the float, then the boolean, then the character, and \n",
    "then the string which -- as a sequence of characters -- points the way towards data structures \n",
    "that hold multiple values:\n",
    "\n",
    "The list, the tuple, \n",
    "the set, and the dictionary; and then from there the array, the stack, the queue, the tree, the\n",
    "linked list, the graph, and the hashmap. \n",
    "\n",
    "\n",
    "### Summing up\n",
    "\n",
    "- Python is used here as a flow of commands that interpret information\n",
    "- Debugging methods are an important part of coding skill\n",
    "- Variables are structures within the running program that hold information\n",
    "\n",
    "### Leading questions\n",
    "\n",
    "\n",
    "- What basic data types can I work with in Python?\n",
    "- How can I create a new variable in Python?\n",
    "- How do I use a function?\n",
    "- Can I change the value associated with a variable after I create it?"
   ]
  },
  {
   "cell_type": "code",
   "execution_count": null,
   "id": "fc3bc3f6-0086-4a32-9129-26da777fdc3e",
   "metadata": {
    "tags": []
   },
   "outputs": [],
   "source": [
    "a=3\n",
    "a"
   ]
  },
  {
   "cell_type": "code",
   "execution_count": null,
   "id": "eb64e010-1913-4b32-8cf2-5c3ea1b47600",
   "metadata": {
    "tags": []
   },
   "outputs": [],
   "source": [
    "del a                   # keywords turn green: Stop! Is this what I intend??\n",
    "# a"
   ]
  },
  {
   "cell_type": "code",
   "execution_count": null,
   "id": "5e209c7b-bb7c-4746-85a9-92fbf92aa7aa",
   "metadata": {
    "tags": []
   },
   "outputs": [],
   "source": [
    "a = 4\n",
    "a"
   ]
  },
  {
   "cell_type": "code",
   "execution_count": null,
   "id": "624c08f5-bfe1-481b-acd9-d11a618bfeee",
   "metadata": {
    "tags": []
   },
   "outputs": [],
   "source": [
    "type(a)"
   ]
  },
  {
   "cell_type": "code",
   "execution_count": null,
   "id": "cc635992-e304-440a-9f56-d47a0e21d107",
   "metadata": {
    "tags": []
   },
   "outputs": [],
   "source": [
    "print(type(a))"
   ]
  },
  {
   "cell_type": "markdown",
   "id": "14357882-3e0f-4ce9-ac31-5fff07267b34",
   "metadata": {},
   "source": [
    "### A look under the hood\n",
    "\n",
    "\n",
    "Even basic types like integers have some 'hidden' machinery that helps make them friendlier to \n",
    "use. For example an integer has an imaginary part (equal to zero) which facilitates working with\n",
    "numbers of type `complex` (as in `c = 3 + 4j`). \n",
    "\n",
    "\n",
    "An object `q` in Python can be coerced to show this under-the-hood machinery by means of the \n",
    "directory keyword `dir` as in `dir(q)`. This provides a list of methods and attributes of the object `q`.\n"
   ]
  },
  {
   "cell_type": "code",
   "execution_count": null,
   "id": "0c2be014-bc11-4a18-ab25-150b1e569be8",
   "metadata": {
    "tags": []
   },
   "outputs": [],
   "source": [
    "# dir(a)"
   ]
  },
  {
   "cell_type": "code",
   "execution_count": null,
   "id": "b0fc13d2-0ba5-428f-ab46-8312b7f27f17",
   "metadata": {
    "tags": []
   },
   "outputs": [],
   "source": [
    "a.denominator"
   ]
  },
  {
   "cell_type": "code",
   "execution_count": null,
   "id": "780eff36-0ca2-4f0d-bf6a-ae9555ce1c44",
   "metadata": {
    "tags": []
   },
   "outputs": [],
   "source": [
    "a.imag"
   ]
  },
  {
   "cell_type": "code",
   "execution_count": null,
   "id": "6912bf67-3e89-4b35-a8be-85b462c2c368",
   "metadata": {
    "tags": []
   },
   "outputs": [],
   "source": [
    "a.to_bytes()"
   ]
  },
  {
   "cell_type": "markdown",
   "id": "5c2a9680-2361-416d-95d8-5bd315f45a8c",
   "metadata": {},
   "source": [
    "#### What are `Dunder` or `magic` or `special` methods that begin with `__`?\n",
    "\n",
    "\n",
    "From a [medium post](https://nitesh-yadav.medium.com/dunder-methods-in-python-really-crazy-functions-3455ecb6472d):\n",
    "\n",
    "\n",
    ">Dunder methods, also known as magic methods or special methods, are predefined methods in Python that have double underscores (or “dunders”) at the beginning and end of their names. These methods provide a way to define specific behaviors for built-in operations or functionalities in Python classes. By implementing dunder methods, you can customize the behavior of your objects and make them work seamlessly with Python’s language constructs.\n",
    "\n",
    "\n",
    "#### What is the difference between a class `method` and an `attribute`?\n",
    "\n",
    "\n",
    "- attribute: A variable stored in an object (like `a.imag`)\n",
    "- method: A function defined as part of a class that is instance-callable (like `a.to_bytes()`)\n"
   ]
  },
  {
   "cell_type": "code",
   "execution_count": null,
   "id": "2a32617d-e298-45f6-b445-7981329d9dd0",
   "metadata": {
    "tags": []
   },
   "outputs": [],
   "source": [
    "# tricky Python for listing non-dunder methods\n",
    "[x for x in dir(a) if not x.startswith('_')]"
   ]
  },
  {
   "cell_type": "code",
   "execution_count": null,
   "id": "fdb2dade-1424-406e-9d94-b36e19e709af",
   "metadata": {
    "tags": []
   },
   "outputs": [],
   "source": [
    "# introducting functions: So I do not have to remember the tricky Python above: I define simple-dir, calling it sdir()\n",
    "\n",
    "\n",
    "def sdir(a):\n",
    "    return [x for x in dir(a) if not x.startswith('_')]\n",
    "\n",
    "\n",
    "sdir(a)"
   ]
  },
  {
   "cell_type": "code",
   "execution_count": null,
   "id": "fe861e22-c7c8-4e83-b0df-955746da6a51",
   "metadata": {
    "tags": []
   },
   "outputs": [],
   "source": [
    "a = 3 + 4j\n",
    "type(a)"
   ]
  },
  {
   "cell_type": "code",
   "execution_count": null,
   "id": "aac96c7a-81e4-4e20-a8bf-eb596dfa2747",
   "metadata": {
    "tags": []
   },
   "outputs": [],
   "source": [
    "sdir(a)"
   ]
  },
  {
   "cell_type": "code",
   "execution_count": null,
   "id": "9509c936-9b93-4fdd-8b6d-38125129afec",
   "metadata": {
    "tags": []
   },
   "outputs": [],
   "source": [
    "a = 3 + 5 * 4.1\n",
    "type(a)"
   ]
  },
  {
   "cell_type": "code",
   "execution_count": null,
   "id": "b3772924-461d-4b3d-b126-f0cc97bc483f",
   "metadata": {
    "tags": []
   },
   "outputs": [],
   "source": [
    "# Final digression: dir() of the Universe\n",
    "# dir()"
   ]
  },
  {
   "cell_type": "code",
   "execution_count": null,
   "id": "771ae3a4-6d68-41ad-ad13-bbd83c2c2d6b",
   "metadata": {
    "tags": []
   },
   "outputs": [],
   "source": [
    "n = 7\n",
    "p = 20"
   ]
  },
  {
   "cell_type": "markdown",
   "id": "3cdbe797-fc9f-475e-b9ba-94c261550d1c",
   "metadata": {},
   "source": [
    "Notes\n",
    "\n",
    "- Variable names start with letters or underscores, are case sensitive, can also include numbers (not at the start). \n",
    "- Finesse: If I decide to name a variable `sum` it collides with a built-in function, turns green in my IDE: ***Don't Use That Name!!!!***\n",
    "- Python data structures can behave in different/unexpected ways, as in the following two examples"
   ]
  },
  {
   "cell_type": "code",
   "execution_count": null,
   "id": "61d50af9-666a-4b7f-bc34-ab161b4aa361",
   "metadata": {
    "tags": []
   },
   "outputs": [],
   "source": [
    "a=3\n",
    "b=a\n",
    "b=b*2\n",
    "print(a, \"compare with\",  b)"
   ]
  },
  {
   "cell_type": "code",
   "execution_count": null,
   "id": "58b26609-59d4-4053-884c-787862a7cb4d",
   "metadata": {
    "tags": []
   },
   "outputs": [],
   "source": [
    "l=[1, 2]\n",
    "m = l\n",
    "m[0] += 1\n",
    "print(l, \"compare with\", m)"
   ]
  },
  {
   "cell_type": "markdown",
   "id": "efff653a-6f76-4408-9bc0-9a24eab998b6",
   "metadata": {},
   "source": [
    "### more with variables"
   ]
  },
  {
   "cell_type": "code",
   "execution_count": null,
   "id": "511fb30e-9820-40a1-bf4c-4140ccfa6168",
   "metadata": {
    "tags": []
   },
   "outputs": [],
   "source": [
    "# There are 2.2 pounds per kilogram\n",
    "weight_kg = 65\n",
    "weight_lb = 2.2 * weight_kg\n",
    "print('weight in kilograms:', weight_kg, 'and in pounds:', weight_lb)"
   ]
  },
  {
   "cell_type": "code",
   "execution_count": null,
   "id": "a5b3e584-8de8-4df7-b839-8d79ca03572e",
   "metadata": {
    "tags": []
   },
   "outputs": [],
   "source": [
    "type(weight_kg)"
   ]
  },
  {
   "cell_type": "code",
   "execution_count": null,
   "id": "32cf558b-5406-41fd-ba91-a5877f44fc38",
   "metadata": {
    "tags": []
   },
   "outputs": [],
   "source": [
    "mass = 47.5\n",
    "age = 122\n",
    "mass = mass * 2.0\n",
    "age = age - 20"
   ]
  },
  {
   "cell_type": "code",
   "execution_count": null,
   "id": "301a8b2d-6fdf-436e-887c-6155d8805908",
   "metadata": {
    "tags": []
   },
   "outputs": [],
   "source": [
    "first, second = 'Grace', 'Hopper'\n",
    "third, fourth = second, first\n",
    "print(third, fourth)"
   ]
  },
  {
   "cell_type": "code",
   "execution_count": null,
   "id": "b24fbc91-c962-45fb-b873-66f4cdda7aad",
   "metadata": {
    "tags": []
   },
   "outputs": [],
   "source": [
    "planet = 'Earth'\n",
    "apples = 5\n",
    "distance = 10.5\n",
    "how_hi_the_moon = 4e8 + 0.123456789"
   ]
  },
  {
   "cell_type": "code",
   "execution_count": null,
   "id": "c58a8ce8-cd24-4a00-89f8-ca0e6765d981",
   "metadata": {
    "tags": []
   },
   "outputs": [],
   "source": [
    "round(how_hi_the_moon, 3)"
   ]
  },
  {
   "cell_type": "markdown",
   "id": "da5294b9-37e2-4f80-b4d7-c707154cef0f",
   "metadata": {},
   "source": [
    "***concept***: Python responds to changing context, for example changing the `type` of `weight_kg`\n",
    "\n",
    "\n",
    "***concept***: Case 1, variables of different *type* play well together\n",
    "\n",
    "\n",
    "***concept***: Case 2, variables of different *type* do **not** play well... Error"
   ]
  },
  {
   "cell_type": "code",
   "execution_count": null,
   "id": "e762db19-ad6d-40ee-bfb1-1c863bbadde1",
   "metadata": {
    "tags": []
   },
   "outputs": [],
   "source": [
    "person = 'Charles'\n",
    "type(person)\n",
    "\n",
    "# potatoes_per_person = total_weight_kg / person\n",
    "\n",
    "# types: `int` for *integer*,  `float` for *floating point*, and `str` for *string*\n",
    "\n",
    "a = 'snake'\n",
    "b = a + a + a + a + a\n",
    "print(b)\n",
    "\n",
    "c = 'howdy! '\n",
    "\n",
    "# this is a comment: Let's end part 1 on a positive note\n",
    "\n",
    "d = 3*c + \"I am a cowboy.\"\n",
    "\n",
    "print(d)"
   ]
  },
  {
   "cell_type": "markdown",
   "id": "c2603b1c-91b6-4239-96f6-e6d3177dcf83",
   "metadata": {},
   "source": [
    "# End Python Framework\n",
    "\n",
    "</BR>\n",
    "</BR>\n",
    "\n"
   ]
  },
  {
   "cell_type": "code",
   "execution_count": null,
   "id": "d5c63548-610e-4a35-ba70-ed7ecde7442d",
   "metadata": {},
   "outputs": [],
   "source": []
  }
 ],
 "metadata": {
  "kernelspec": {
   "display_name": "Python 3 (ipykernel)",
   "language": "python",
   "name": "python3"
  },
  "language_info": {
   "codemirror_mode": {
    "name": "ipython",
    "version": 3
   },
   "file_extension": ".py",
   "mimetype": "text/x-python",
   "name": "python",
   "nbconvert_exporter": "python",
   "pygments_lexer": "ipython3",
   "version": "3.11.4"
  }
 },
 "nbformat": 4,
 "nbformat_minor": 5
}
