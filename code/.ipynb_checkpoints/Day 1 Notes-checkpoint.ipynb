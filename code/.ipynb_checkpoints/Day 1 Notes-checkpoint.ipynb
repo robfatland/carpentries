{
 "cells": [
  {
   "cell_type": "markdown",
   "id": "1dfd4422-a408-459d-a69c-e13e6fffe089",
   "metadata": {},
   "source": [
    "## Notes from a run-through\n",
    "\n",
    "Code exists in implicit top-down order; with two concept breakers.\n",
    "\n",
    "1) loops are common (sometimes hide in syntax)\n",
    "2) definitions are common (functions abbreviate)\n",
    "\n",
    "Python is an *ecosystem* so fusion reactors and table saws and ... are all right there.\n",
    "But we do not want all that power available for Hello World.\n",
    "So it is the word 'import' that brings a tool from the warehouse into our code.\n",
    "The tool (library) we want for this data analysis lesson is called **`pandas`**.\n",
    "So look for the expression `import pandas`."
   ]
  },
  {
   "cell_type": "code",
   "execution_count": 1,
   "id": "9509c936-9b93-4fdd-8b6d-38125129afec",
   "metadata": {},
   "outputs": [
    {
     "data": {
      "text/plain": [
       "23"
      ]
     },
     "execution_count": 1,
     "metadata": {},
     "output_type": "execute_result"
    }
   ],
   "source": [
    "3 + 5 * 4"
   ]
  },
  {
   "cell_type": "code",
   "execution_count": 2,
   "id": "5227b6b2-d2db-44da-81f2-805084c7067e",
   "metadata": {},
   "outputs": [],
   "source": [
    "m = 3 + 5 * 4"
   ]
  },
  {
   "cell_type": "code",
   "execution_count": 3,
   "id": "d4bde0a2-f184-4da2-b548-90a00dd909aa",
   "metadata": {},
   "outputs": [
    {
     "name": "stdout",
     "output_type": "stream",
     "text": [
      "23\n"
     ]
    }
   ],
   "source": [
    "print(m)"
   ]
  },
  {
   "cell_type": "code",
   "execution_count": 8,
   "id": "4682bf57-23a3-4e82-8584-f730cd530a9d",
   "metadata": {},
   "outputs": [
    {
     "data": {
      "text/plain": [
       "int"
      ]
     },
     "execution_count": 8,
     "metadata": {},
     "output_type": "execute_result"
    }
   ],
   "source": [
    "type(m)"
   ]
  },
  {
   "cell_type": "code",
   "execution_count": 16,
   "id": "aa9df6e5-8d8b-4c6b-9f7f-bff1c2fa2019",
   "metadata": {},
   "outputs": [],
   "source": [
    "def vdir(obj): return [x for x in dir(obj) if not x.startswith('__')]\n",
    "\n",
    "# dir(a)\n",
    "# ['foo']"
   ]
  },
  {
   "cell_type": "code",
   "execution_count": 18,
   "id": "1bedfaf4-06c2-4e1b-95b1-fd27ec25f23c",
   "metadata": {},
   "outputs": [
    {
     "data": {
      "text/plain": [
       "['as_integer_ratio',\n",
       " 'bit_length',\n",
       " 'conjugate',\n",
       " 'denominator',\n",
       " 'from_bytes',\n",
       " 'imag',\n",
       " 'numerator',\n",
       " 'real',\n",
       " 'to_bytes']"
      ]
     },
     "execution_count": 18,
     "metadata": {},
     "output_type": "execute_result"
    }
   ],
   "source": [
    "[x for x in dir(m) if not x.startswith('__')]"
   ]
  },
  {
   "cell_type": "code",
   "execution_count": 13,
   "id": "8fc0a282-aaf8-4169-a7cd-67d77e99bc05",
   "metadata": {},
   "outputs": [
    {
     "data": {
      "text/plain": [
       "(1, 23)"
      ]
     },
     "execution_count": 13,
     "metadata": {},
     "output_type": "execute_result"
    }
   ],
   "source": [
    "m.denominator, m.numerator"
   ]
  },
  {
   "cell_type": "markdown",
   "id": "3cdbe797-fc9f-475e-b9ba-94c261550d1c",
   "metadata": {},
   "source": [
    "Variable names start with letters or underscores, are case sensitive, can also include numbers (not at the start). \n",
    "\n",
    "Very important point of finesse: If I decide to name a variable `sum` it will turn green in my IDE. ***RUN AWAY!!!!***"
   ]
  },
  {
   "cell_type": "code",
   "execution_count": 20,
   "id": "61d50af9-666a-4b7f-bc34-ab161b4aa361",
   "metadata": {},
   "outputs": [
    {
     "data": {
      "text/plain": [
       "(3, 6)"
      ]
     },
     "execution_count": 20,
     "metadata": {},
     "output_type": "execute_result"
    }
   ],
   "source": [
    "a=3\n",
    "b=a\n",
    "b=b*2\n",
    "a, b"
   ]
  }
 ],
 "metadata": {
  "kernelspec": {
   "display_name": "Python 3 (ipykernel)",
   "language": "python",
   "name": "python3"
  },
  "language_info": {
   "codemirror_mode": {
    "name": "ipython",
    "version": 3
   },
   "file_extension": ".py",
   "mimetype": "text/x-python",
   "name": "python",
   "nbconvert_exporter": "python",
   "pygments_lexer": "ipython3",
   "version": "3.8.5"
  }
 },
 "nbformat": 4,
 "nbformat_minor": 5
}
