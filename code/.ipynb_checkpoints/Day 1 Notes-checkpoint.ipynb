{
 "cells": [
  {
   "cell_type": "markdown",
   "id": "1dfd4422-a408-459d-a69c-e13e6fffe089",
   "metadata": {},
   "source": [
    "## Imperative programming in Python\n",
    "\n",
    "### Notes from a lesson run-through\n",
    "\n",
    "\n",
    "These lesson pages are stable: You can return to them and work through them\n",
    "in a more exploratory / leisurely approach.\n",
    "\n",
    "\n",
    "Today we start on the ground floor and get as far as Python **lists**. \n",
    "On the way we open a data file, read the contents, and learn to analyze\n",
    "and visualize what is there. The conceit is 'inflammation data and an\n",
    "arthritis miracle cure'.\n",
    "\n",
    "\n",
    "Digressions and helper staff.\n",
    "\n",
    "\n",
    "- [Lessons anchor page](https://swcarpentry.github.io/python-novice-inflammation/)\n",
    "- [Setup](https://swcarpentry.github.io/python-novice-inflammation/setup.html)\n",
    "- [Fundamental Python (30)](https://swcarpentry.github.io/python-novice-inflammation/01-intro/index.html)\n",
    "- [Analyzing Patient Data (60)](https://swcarpentry.github.io/python-novice-inflammation/02-numpy/index.html)\n",
    "- [Visualizing Tabular Data (50)](https://swcarpentry.github.io/python-novice-inflammation/03-matplotlib/index.html)\n",
    "- [Storing Multiple Values in Lists (45)](https://swcarpentry.github.io/python-novice-inflammation/04-lists/index.html)\n",
    "- [Repeating Actions With Loops (30)](https://swcarpentry.github.io/python-novice-inflammation/05-loop/index.html)\n",
    "- [Analyzing Data from Multiple Files (20)](https://swcarpentry.github.io/python-novice-inflammation/06-files/index.html)\n",
    "- [Making Choices (30)](https://swcarpentry.github.io/python-novice-inflammation/07-cond/index.html)\n",
    "- [Creating Functions](https://swcarpentry.github.io/python-novice-inflammation/08-func/index.html)\n",
    "- [Errors and Exceptions](https://swcarpentry.github.io/python-novice-inflammation/09-errors/index.html)\n",
    "- [Defensive Programming](https://swcarpentry.github.io/python-novice-inflammation/10-defensive/index.html)\n",
    "- [Debugging](https://swcarpentry.github.io/python-novice-inflammation/11-debugging/index.html)\n",
    "- [Command-line Programs](https://swcarpentry.github.io/python-novice-inflammation/12-cmdline/index.html)\n",
    "\n",
    "\n",
    "Imperative exists in implicit top-down order; with two concept breakers.\n",
    "\n",
    "\n",
    "1) loops and conditionals are common (and are sometimes implicit (obscure))\n",
    "2) definitions are common task encapsulations: Shorthand later on\n",
    "\n",
    "\n",
    "Python is used here in the *imperative* programming paradigm: \n",
    "We the programmers are telling the computer how to accomplish a task, \n",
    "generally involving information. \n",
    "\n",
    "\n",
    "Python is also a community *ecosystem*: Far too many useful tools are available. \n",
    "These include fusion reactors and table saws and brain analyzers and\n",
    "quantum simulators. All just sitting there, free to use.\n",
    "\n",
    "\n",
    "The first problem: We do not want all that powerful junk available for Hello World.\n",
    "\n",
    "\n",
    "So it is the word 'import' that brings a tool from the warehouse into our code.\n",
    "One tool (library) we want for this data analysis lesson is called **`pandas`**.\n",
    "So look for the expression `import pandas`. And `as pd`. \n",
    "\n",
    "\n",
    "Imperative code is parsed as a sequence of statements.\n",
    "\n",
    "\n",
    "Conditional **`if`** branching is determined by information (data) \n",
    "\n",
    "\n",
    "The logical progression from one statement to another (torturous) is called *flow control*.\n",
    "\n",
    "\n",
    "Starting to write software can be empowering and even addictive; but sooner \n",
    "or later such ambition is rewarded with Bugs. Bugs cause programs to not work.\n",
    "So I am going to give you, as the end of\n",
    "this introduction, my top five debugging tips. \n",
    "\n",
    "\n",
    "The most common bugs by far are of two types: Syntax and Logic. \n",
    "\n",
    "\n",
    "### Number 1 (Syntax errors) Copy/paste\n",
    "\n",
    "\n",
    "Syntax means that the Python *interpreter* can't figure out what to do.\n",
    "    - syntax errors are essentially typos, usually easy to find and fix\n",
    "    - syntactically incorrect code produces error messages that point you at or close to the problem\n",
    "    - but if you are ?????: Copy and paste the error message into a browser\n",
    "    \n",
    "    \n",
    "### Number 2 (Logic bugs) Print yourself out of trouble\n",
    "    \n",
    "\n",
    "Use print statements to \n",
    "get a sense of whether your code is doing what you intend.\n",
    "\n",
    "\n",
    "### Number 3 Isolate by halves\n",
    "\n",
    "\n",
    "Is the issue in Part A or Part B? And so on.\n",
    "\n",
    "\n",
    "### Number 4 Simplify code by commenting it out. \n",
    "\n",
    "\n",
    "Commented code does not execute.\n",
    "\n",
    "\n",
    "### Number 5 Be the computer\n",
    "\n",
    "\n",
    "Set things up as though you were going to run the code for one example case... \n",
    "and see if you run aground.\n",
    "\n",
    "\n",
    "### And now: On to Variables!\n",
    "\n",
    "\n",
    "Variables have 3 features: A label, a value and a type. \n",
    "\n",
    "\n",
    "\n",
    "The most basic type is the integer, then the float, then the boolean, then the character, and \n",
    "then the string which -- as a sequence of characters -- points the way towards data structures \n",
    "that hold multiple values:\n",
    "\n",
    "The list, the tuple, \n",
    "the set, and the dictionary; and then from there the array, the stack, the queue, the tree, the\n",
    "linked list, the graph, and the hashmap. \n",
    "\n",
    "\n",
    "# Summary of this introduction\n",
    "\n",
    "\n",
    "- Python is used here as a flow of commands that interpret information\n",
    "- Debugging methods are an important part of coding skill\n",
    "- Variables are structures within the running program that hold information"
   ]
  },
  {
   "cell_type": "code",
   "execution_count": 1,
   "id": "9509c936-9b93-4fdd-8b6d-38125129afec",
   "metadata": {},
   "outputs": [
    {
     "data": {
      "text/plain": [
       "23"
      ]
     },
     "execution_count": 1,
     "metadata": {},
     "output_type": "execute_result"
    }
   ],
   "source": [
    "3 + 5 * 4"
   ]
  },
  {
   "cell_type": "code",
   "execution_count": 2,
   "id": "5227b6b2-d2db-44da-81f2-805084c7067e",
   "metadata": {},
   "outputs": [],
   "source": [
    "m = 3 + 5 * 4"
   ]
  },
  {
   "cell_type": "code",
   "execution_count": 3,
   "id": "d4bde0a2-f184-4da2-b548-90a00dd909aa",
   "metadata": {},
   "outputs": [
    {
     "name": "stdout",
     "output_type": "stream",
     "text": [
      "23\n"
     ]
    }
   ],
   "source": [
    "print(m)"
   ]
  },
  {
   "cell_type": "code",
   "execution_count": 4,
   "id": "4682bf57-23a3-4e82-8584-f730cd530a9d",
   "metadata": {},
   "outputs": [
    {
     "data": {
      "text/plain": [
       "int"
      ]
     },
     "execution_count": 4,
     "metadata": {},
     "output_type": "execute_result"
    }
   ],
   "source": [
    "type(m)"
   ]
  },
  {
   "cell_type": "code",
   "execution_count": 5,
   "id": "7f8afbaa-fb6d-4c0b-8b3d-fa77c74858a7",
   "metadata": {},
   "outputs": [],
   "source": [
    "del m"
   ]
  },
  {
   "cell_type": "code",
   "execution_count": 6,
   "id": "b0f9bb3e-c074-487e-b9bc-a8ef17b13a75",
   "metadata": {},
   "outputs": [
    {
     "ename": "NameError",
     "evalue": "name 'm' is not defined",
     "output_type": "error",
     "traceback": [
      "\u001b[0;31m---------------------------------------------------------------------------\u001b[0m",
      "\u001b[0;31mNameError\u001b[0m                                 Traceback (most recent call last)",
      "Input \u001b[0;32mIn [6]\u001b[0m, in \u001b[0;36m<cell line: 1>\u001b[0;34m()\u001b[0m\n\u001b[0;32m----> 1\u001b[0m \u001b[43mm\u001b[49m\n",
      "\u001b[0;31mNameError\u001b[0m: name 'm' is not defined"
     ]
    }
   ],
   "source": [
    "m"
   ]
  },
  {
   "cell_type": "code",
   "execution_count": 7,
   "id": "91372a38-e9f2-417c-9e20-f1e4ea45ba18",
   "metadata": {},
   "outputs": [],
   "source": [
    "m = 21"
   ]
  },
  {
   "cell_type": "code",
   "execution_count": 8,
   "id": "b3772924-461d-4b3d-b126-f0cc97bc483f",
   "metadata": {},
   "outputs": [
    {
     "data": {
      "text/plain": [
       "['In',\n",
       " 'Out',\n",
       " '_',\n",
       " '_1',\n",
       " '_4',\n",
       " '__',\n",
       " '___',\n",
       " '__builtin__',\n",
       " '__builtins__',\n",
       " '__doc__',\n",
       " '__loader__',\n",
       " '__name__',\n",
       " '__package__',\n",
       " '__spec__',\n",
       " '_dh',\n",
       " '_i',\n",
       " '_i1',\n",
       " '_i2',\n",
       " '_i3',\n",
       " '_i4',\n",
       " '_i5',\n",
       " '_i6',\n",
       " '_i7',\n",
       " '_i8',\n",
       " '_ih',\n",
       " '_ii',\n",
       " '_iii',\n",
       " '_oh',\n",
       " 'exit',\n",
       " 'get_ipython',\n",
       " 'm',\n",
       " 'quit']"
      ]
     },
     "execution_count": 8,
     "metadata": {},
     "output_type": "execute_result"
    }
   ],
   "source": [
    "dir()"
   ]
  },
  {
   "cell_type": "code",
   "execution_count": 9,
   "id": "60dfdefb-b56a-42e7-a85e-870698f3a25c",
   "metadata": {},
   "outputs": [
    {
     "data": {
      "text/plain": [
       "['In', 'Out', 'exit', 'get_ipython', 'm', 'quit']"
      ]
     },
     "execution_count": 9,
     "metadata": {},
     "output_type": "execute_result"
    }
   ],
   "source": [
    "[v for v in dir() if not v.startswith('_')]"
   ]
  },
  {
   "cell_type": "code",
   "execution_count": 10,
   "id": "bf4df753-50b5-4fe3-bab9-9bb2f1d03256",
   "metadata": {},
   "outputs": [
    {
     "data": {
      "text/plain": [
       "['In', 'Out', 'get_ipython', 'exit', 'quit', 'm']"
      ]
     },
     "execution_count": 10,
     "metadata": {},
     "output_type": "execute_result"
    }
   ],
   "source": [
    "[v for v in globals() if not v.startswith('_')]"
   ]
  },
  {
   "cell_type": "code",
   "execution_count": 11,
   "id": "bbec9e5f-3294-4381-8a14-d406a1cbee61",
   "metadata": {},
   "outputs": [
    {
     "data": {
      "text/plain": [
       "['In', 'Out', 'get_ipython', 'exit', 'quit', 'm']"
      ]
     },
     "execution_count": 11,
     "metadata": {},
     "output_type": "execute_result"
    }
   ],
   "source": [
    "[v for v in locals() if not v.startswith('_')]"
   ]
  },
  {
   "cell_type": "code",
   "execution_count": 12,
   "id": "771ae3a4-6d68-41ad-ad13-bbd83c2c2d6b",
   "metadata": {},
   "outputs": [],
   "source": [
    "n = 7\n",
    "p = 20"
   ]
  },
  {
   "cell_type": "code",
   "execution_count": 13,
   "id": "9b10579e-76b9-4de6-bd3c-10af61c7add7",
   "metadata": {},
   "outputs": [
    {
     "data": {
      "text/plain": [
       "['In', 'Out', 'exit', 'get_ipython', 'm', 'n', 'p', 'quit']"
      ]
     },
     "execution_count": 13,
     "metadata": {},
     "output_type": "execute_result"
    }
   ],
   "source": [
    "[v for v in dir() if not v.startswith('_')]"
   ]
  },
  {
   "cell_type": "code",
   "execution_count": 14,
   "id": "1bedfaf4-06c2-4e1b-95b1-fd27ec25f23c",
   "metadata": {},
   "outputs": [
    {
     "data": {
      "text/plain": [
       "['as_integer_ratio',\n",
       " 'bit_length',\n",
       " 'conjugate',\n",
       " 'denominator',\n",
       " 'from_bytes',\n",
       " 'imag',\n",
       " 'numerator',\n",
       " 'real',\n",
       " 'to_bytes']"
      ]
     },
     "execution_count": 14,
     "metadata": {},
     "output_type": "execute_result"
    }
   ],
   "source": [
    "[x for x in dir(m) if not x.startswith('__')]"
   ]
  },
  {
   "cell_type": "code",
   "execution_count": 15,
   "id": "8fc0a282-aaf8-4169-a7cd-67d77e99bc05",
   "metadata": {},
   "outputs": [
    {
     "data": {
      "text/plain": [
       "(1, 21)"
      ]
     },
     "execution_count": 15,
     "metadata": {},
     "output_type": "execute_result"
    }
   ],
   "source": [
    "m.denominator, m.numerator"
   ]
  },
  {
   "cell_type": "markdown",
   "id": "3cdbe797-fc9f-475e-b9ba-94c261550d1c",
   "metadata": {},
   "source": [
    "Variable names start with letters or underscores, are case sensitive, can also include numbers (not at the start). \n",
    "\n",
    "Very important point of finesse: If I decide to name a variable `sum` it will turn green in my IDE. ***RUN AWAY!!!!***"
   ]
  },
  {
   "cell_type": "code",
   "execution_count": 16,
   "id": "61d50af9-666a-4b7f-bc34-ab161b4aa361",
   "metadata": {},
   "outputs": [
    {
     "data": {
      "text/plain": [
       "(3, 6)"
      ]
     },
     "execution_count": 16,
     "metadata": {},
     "output_type": "execute_result"
    }
   ],
   "source": [
    "a=3\n",
    "b=a\n",
    "b=b*2\n",
    "a, b"
   ]
  },
  {
   "cell_type": "code",
   "execution_count": 17,
   "id": "58b26609-59d4-4053-884c-787862a7cb4d",
   "metadata": {},
   "outputs": [
    {
     "data": {
      "text/plain": [
       "([2, 2], [2, 2])"
      ]
     },
     "execution_count": 17,
     "metadata": {},
     "output_type": "execute_result"
    }
   ],
   "source": [
    "l=[1, 2]\n",
    "m = l\n",
    "m[0] += 1\n",
    "l, m"
   ]
  },
  {
   "cell_type": "markdown",
   "id": "efff653a-6f76-4408-9bc0-9a24eab998b6",
   "metadata": {},
   "source": [
    "### some familiarization with variables"
   ]
  },
  {
   "cell_type": "code",
   "execution_count": 18,
   "id": "511fb30e-9820-40a1-bf4c-4140ccfa6168",
   "metadata": {},
   "outputs": [
    {
     "name": "stdout",
     "output_type": "stream",
     "text": [
      "weight in kilograms: 65 and in pounds: 143.0\n"
     ]
    }
   ],
   "source": [
    "# There are 2.2 pounds per kilogram\n",
    "weight_kg = 65\n",
    "weight_lb = 2.2 * weight_kg\n",
    "print('weight in kilograms:', weight_kg, 'and in pounds:', weight_lb)"
   ]
  },
  {
   "cell_type": "code",
   "execution_count": 19,
   "id": "a5b3e584-8de8-4df7-b839-8d79ca03572e",
   "metadata": {},
   "outputs": [
    {
     "data": {
      "text/plain": [
       "int"
      ]
     },
     "execution_count": 19,
     "metadata": {},
     "output_type": "execute_result"
    }
   ],
   "source": [
    "type(weight_kg)"
   ]
  },
  {
   "cell_type": "code",
   "execution_count": 20,
   "id": "32cf558b-5406-41fd-ba91-a5877f44fc38",
   "metadata": {},
   "outputs": [],
   "source": [
    "mass = 47.5\n",
    "age = 122\n",
    "mass = mass * 2.0\n",
    "age = age - 20"
   ]
  },
  {
   "cell_type": "code",
   "execution_count": 21,
   "id": "301a8b2d-6fdf-436e-887c-6155d8805908",
   "metadata": {},
   "outputs": [
    {
     "name": "stdout",
     "output_type": "stream",
     "text": [
      "Hopper Grace\n"
     ]
    }
   ],
   "source": [
    "first, second = 'Grace', 'Hopper'\n",
    "third, fourth = second, first\n",
    "print(third, fourth)"
   ]
  },
  {
   "cell_type": "code",
   "execution_count": 22,
   "id": "b24fbc91-c962-45fb-b873-66f4cdda7aad",
   "metadata": {},
   "outputs": [],
   "source": [
    "planet = 'Earth'\n",
    "apples = 5\n",
    "distance = 10.5\n",
    "how_hi_the_moon = 4e8"
   ]
  },
  {
   "cell_type": "code",
   "execution_count": 23,
   "id": "c58a8ce8-cd24-4a00-89f8-ca0e6765d981",
   "metadata": {},
   "outputs": [
    {
     "data": {
      "text/plain": [
       "400000000.0"
      ]
     },
     "execution_count": 23,
     "metadata": {},
     "output_type": "execute_result"
    }
   ],
   "source": [
    "how_hi_the_moon"
   ]
  },
  {
   "cell_type": "markdown",
   "id": "c2603b1c-91b6-4239-96f6-e6d3177dcf83",
   "metadata": {},
   "source": [
    "# End Python Fundamentals\n",
    "\n",
    "</BR>\n",
    "</BR>\n",
    "\n",
    "# Analyzing Patient Data"
   ]
  },
  {
   "cell_type": "code",
   "execution_count": 24,
   "id": "bcf76da5-788c-4c2a-8415-8db262623824",
   "metadata": {},
   "outputs": [
    {
     "ename": "NameError",
     "evalue": "name 'numpy' is not defined",
     "output_type": "error",
     "traceback": [
      "\u001b[0;31m---------------------------------------------------------------------------\u001b[0m",
      "\u001b[0;31mNameError\u001b[0m                                 Traceback (most recent call last)",
      "Input \u001b[0;32mIn [24]\u001b[0m, in \u001b[0;36m<cell line: 1>\u001b[0;34m()\u001b[0m\n\u001b[0;32m----> 1\u001b[0m \u001b[43mnumpy\u001b[49m\u001b[38;5;241m.\u001b[39mloadtxt(fname\u001b[38;5;241m=\u001b[39m\u001b[38;5;124m'\u001b[39m\u001b[38;5;124minflammation-01.csv\u001b[39m\u001b[38;5;124m'\u001b[39m, delimiter\u001b[38;5;241m=\u001b[39m\u001b[38;5;124m'\u001b[39m\u001b[38;5;124m,\u001b[39m\u001b[38;5;124m'\u001b[39m)\n",
      "\u001b[0;31mNameError\u001b[0m: name 'numpy' is not defined"
     ]
    }
   ],
   "source": [
    "numpy.loadtxt(fname='inflammation-01.csv', delimiter=',')"
   ]
  },
  {
   "cell_type": "code",
   "execution_count": 25,
   "id": "b529e712-c4fd-41c3-840e-f448219636ce",
   "metadata": {},
   "outputs": [],
   "source": [
    "import numpy"
   ]
  },
  {
   "cell_type": "code",
   "execution_count": 26,
   "id": "84ac64aa-89fc-4723-b60f-0315ae001b60",
   "metadata": {},
   "outputs": [
    {
     "ename": "FileNotFoundError",
     "evalue": "inflammation-01.csv not found.",
     "output_type": "error",
     "traceback": [
      "\u001b[0;31m---------------------------------------------------------------------------\u001b[0m",
      "\u001b[0;31mFileNotFoundError\u001b[0m                         Traceback (most recent call last)",
      "Input \u001b[0;32mIn [26]\u001b[0m, in \u001b[0;36m<cell line: 1>\u001b[0;34m()\u001b[0m\n\u001b[0;32m----> 1\u001b[0m \u001b[43mnumpy\u001b[49m\u001b[38;5;241;43m.\u001b[39;49m\u001b[43mloadtxt\u001b[49m\u001b[43m(\u001b[49m\u001b[43mfname\u001b[49m\u001b[38;5;241;43m=\u001b[39;49m\u001b[38;5;124;43m'\u001b[39;49m\u001b[38;5;124;43minflammation-01.csv\u001b[39;49m\u001b[38;5;124;43m'\u001b[39;49m\u001b[43m,\u001b[49m\u001b[43m \u001b[49m\u001b[43mdelimiter\u001b[49m\u001b[38;5;241;43m=\u001b[39;49m\u001b[38;5;124;43m'\u001b[39;49m\u001b[38;5;124;43m,\u001b[39;49m\u001b[38;5;124;43m'\u001b[39;49m\u001b[43m)\u001b[49m\n",
      "File \u001b[0;32m~/miniconda3/lib/python3.8/site-packages/numpy/lib/npyio.py:1313\u001b[0m, in \u001b[0;36mloadtxt\u001b[0;34m(fname, dtype, comments, delimiter, converters, skiprows, usecols, unpack, ndmin, encoding, max_rows, quotechar, like)\u001b[0m\n\u001b[1;32m   1310\u001b[0m \u001b[38;5;28;01mif\u001b[39;00m \u001b[38;5;28misinstance\u001b[39m(delimiter, \u001b[38;5;28mbytes\u001b[39m):\n\u001b[1;32m   1311\u001b[0m     delimiter \u001b[38;5;241m=\u001b[39m delimiter\u001b[38;5;241m.\u001b[39mdecode(\u001b[38;5;124m'\u001b[39m\u001b[38;5;124mlatin1\u001b[39m\u001b[38;5;124m'\u001b[39m)\n\u001b[0;32m-> 1313\u001b[0m arr \u001b[38;5;241m=\u001b[39m \u001b[43m_read\u001b[49m\u001b[43m(\u001b[49m\u001b[43mfname\u001b[49m\u001b[43m,\u001b[49m\u001b[43m \u001b[49m\u001b[43mdtype\u001b[49m\u001b[38;5;241;43m=\u001b[39;49m\u001b[43mdtype\u001b[49m\u001b[43m,\u001b[49m\u001b[43m \u001b[49m\u001b[43mcomment\u001b[49m\u001b[38;5;241;43m=\u001b[39;49m\u001b[43mcomment\u001b[49m\u001b[43m,\u001b[49m\u001b[43m \u001b[49m\u001b[43mdelimiter\u001b[49m\u001b[38;5;241;43m=\u001b[39;49m\u001b[43mdelimiter\u001b[49m\u001b[43m,\u001b[49m\n\u001b[1;32m   1314\u001b[0m \u001b[43m            \u001b[49m\u001b[43mconverters\u001b[49m\u001b[38;5;241;43m=\u001b[39;49m\u001b[43mconverters\u001b[49m\u001b[43m,\u001b[49m\u001b[43m \u001b[49m\u001b[43mskiplines\u001b[49m\u001b[38;5;241;43m=\u001b[39;49m\u001b[43mskiprows\u001b[49m\u001b[43m,\u001b[49m\u001b[43m \u001b[49m\u001b[43musecols\u001b[49m\u001b[38;5;241;43m=\u001b[39;49m\u001b[43musecols\u001b[49m\u001b[43m,\u001b[49m\n\u001b[1;32m   1315\u001b[0m \u001b[43m            \u001b[49m\u001b[43munpack\u001b[49m\u001b[38;5;241;43m=\u001b[39;49m\u001b[43munpack\u001b[49m\u001b[43m,\u001b[49m\u001b[43m \u001b[49m\u001b[43mndmin\u001b[49m\u001b[38;5;241;43m=\u001b[39;49m\u001b[43mndmin\u001b[49m\u001b[43m,\u001b[49m\u001b[43m \u001b[49m\u001b[43mencoding\u001b[49m\u001b[38;5;241;43m=\u001b[39;49m\u001b[43mencoding\u001b[49m\u001b[43m,\u001b[49m\n\u001b[1;32m   1316\u001b[0m \u001b[43m            \u001b[49m\u001b[43mmax_rows\u001b[49m\u001b[38;5;241;43m=\u001b[39;49m\u001b[43mmax_rows\u001b[49m\u001b[43m,\u001b[49m\u001b[43m \u001b[49m\u001b[43mquote\u001b[49m\u001b[38;5;241;43m=\u001b[39;49m\u001b[43mquotechar\u001b[49m\u001b[43m)\u001b[49m\n\u001b[1;32m   1318\u001b[0m \u001b[38;5;28;01mreturn\u001b[39;00m arr\n",
      "File \u001b[0;32m~/miniconda3/lib/python3.8/site-packages/numpy/lib/npyio.py:955\u001b[0m, in \u001b[0;36m_read\u001b[0;34m(fname, delimiter, comment, quote, imaginary_unit, usecols, skiplines, max_rows, converters, ndmin, unpack, dtype, encoding)\u001b[0m\n\u001b[1;32m    953\u001b[0m     fname \u001b[38;5;241m=\u001b[39m os\u001b[38;5;241m.\u001b[39mfspath(fname)\n\u001b[1;32m    954\u001b[0m \u001b[38;5;28;01mif\u001b[39;00m \u001b[38;5;28misinstance\u001b[39m(fname, \u001b[38;5;28mstr\u001b[39m):\n\u001b[0;32m--> 955\u001b[0m     fh \u001b[38;5;241m=\u001b[39m \u001b[43mnp\u001b[49m\u001b[38;5;241;43m.\u001b[39;49m\u001b[43mlib\u001b[49m\u001b[38;5;241;43m.\u001b[39;49m\u001b[43m_datasource\u001b[49m\u001b[38;5;241;43m.\u001b[39;49m\u001b[43mopen\u001b[49m\u001b[43m(\u001b[49m\u001b[43mfname\u001b[49m\u001b[43m,\u001b[49m\u001b[43m \u001b[49m\u001b[38;5;124;43m'\u001b[39;49m\u001b[38;5;124;43mrt\u001b[39;49m\u001b[38;5;124;43m'\u001b[39;49m\u001b[43m,\u001b[49m\u001b[43m \u001b[49m\u001b[43mencoding\u001b[49m\u001b[38;5;241;43m=\u001b[39;49m\u001b[43mencoding\u001b[49m\u001b[43m)\u001b[49m\n\u001b[1;32m    956\u001b[0m     \u001b[38;5;28;01mif\u001b[39;00m encoding \u001b[38;5;129;01mis\u001b[39;00m \u001b[38;5;28;01mNone\u001b[39;00m:\n\u001b[1;32m    957\u001b[0m         encoding \u001b[38;5;241m=\u001b[39m \u001b[38;5;28mgetattr\u001b[39m(fh, \u001b[38;5;124m'\u001b[39m\u001b[38;5;124mencoding\u001b[39m\u001b[38;5;124m'\u001b[39m, \u001b[38;5;124m'\u001b[39m\u001b[38;5;124mlatin1\u001b[39m\u001b[38;5;124m'\u001b[39m)\n",
      "File \u001b[0;32m~/miniconda3/lib/python3.8/site-packages/numpy/lib/_datasource.py:193\u001b[0m, in \u001b[0;36mopen\u001b[0;34m(path, mode, destpath, encoding, newline)\u001b[0m\n\u001b[1;32m    156\u001b[0m \u001b[38;5;124;03m\"\"\"\u001b[39;00m\n\u001b[1;32m    157\u001b[0m \u001b[38;5;124;03mOpen `path` with `mode` and return the file object.\u001b[39;00m\n\u001b[1;32m    158\u001b[0m \n\u001b[0;32m   (...)\u001b[0m\n\u001b[1;32m    189\u001b[0m \n\u001b[1;32m    190\u001b[0m \u001b[38;5;124;03m\"\"\"\u001b[39;00m\n\u001b[1;32m    192\u001b[0m ds \u001b[38;5;241m=\u001b[39m DataSource(destpath)\n\u001b[0;32m--> 193\u001b[0m \u001b[38;5;28;01mreturn\u001b[39;00m \u001b[43mds\u001b[49m\u001b[38;5;241;43m.\u001b[39;49m\u001b[43mopen\u001b[49m\u001b[43m(\u001b[49m\u001b[43mpath\u001b[49m\u001b[43m,\u001b[49m\u001b[43m \u001b[49m\u001b[43mmode\u001b[49m\u001b[43m,\u001b[49m\u001b[43m \u001b[49m\u001b[43mencoding\u001b[49m\u001b[38;5;241;43m=\u001b[39;49m\u001b[43mencoding\u001b[49m\u001b[43m,\u001b[49m\u001b[43m \u001b[49m\u001b[43mnewline\u001b[49m\u001b[38;5;241;43m=\u001b[39;49m\u001b[43mnewline\u001b[49m\u001b[43m)\u001b[49m\n",
      "File \u001b[0;32m~/miniconda3/lib/python3.8/site-packages/numpy/lib/_datasource.py:533\u001b[0m, in \u001b[0;36mDataSource.open\u001b[0;34m(self, path, mode, encoding, newline)\u001b[0m\n\u001b[1;32m    530\u001b[0m     \u001b[38;5;28;01mreturn\u001b[39;00m _file_openers[ext](found, mode\u001b[38;5;241m=\u001b[39mmode,\n\u001b[1;32m    531\u001b[0m                               encoding\u001b[38;5;241m=\u001b[39mencoding, newline\u001b[38;5;241m=\u001b[39mnewline)\n\u001b[1;32m    532\u001b[0m \u001b[38;5;28;01melse\u001b[39;00m:\n\u001b[0;32m--> 533\u001b[0m     \u001b[38;5;28;01mraise\u001b[39;00m \u001b[38;5;167;01mFileNotFoundError\u001b[39;00m(\u001b[38;5;124mf\u001b[39m\u001b[38;5;124m\"\u001b[39m\u001b[38;5;132;01m{\u001b[39;00mpath\u001b[38;5;132;01m}\u001b[39;00m\u001b[38;5;124m not found.\u001b[39m\u001b[38;5;124m\"\u001b[39m)\n",
      "\u001b[0;31mFileNotFoundError\u001b[0m: inflammation-01.csv not found."
     ]
    }
   ],
   "source": [
    "numpy.loadtxt(fname='inflammation-01.csv', delimiter=',')"
   ]
  },
  {
   "cell_type": "code",
   "execution_count": 28,
   "id": "6435ecaf-27b3-4505-8324-d6aeb61301ad",
   "metadata": {},
   "outputs": [
    {
     "data": {
      "text/plain": [
       "array([[0., 0., 1., ..., 3., 0., 0.],\n",
       "       [0., 1., 2., ..., 1., 0., 1.],\n",
       "       [0., 1., 1., ..., 2., 1., 1.],\n",
       "       ...,\n",
       "       [0., 1., 1., ..., 1., 1., 1.],\n",
       "       [0., 0., 0., ..., 0., 2., 0.],\n",
       "       [0., 0., 1., ..., 1., 1., 0.]])"
      ]
     },
     "execution_count": 28,
     "metadata": {},
     "output_type": "execute_result"
    }
   ],
   "source": [
    "# this is 'a data entity' on a line by itself (not assigned to a variable)\n",
    "numpy.loadtxt(fname='../data/inflammation-01.csv', delimiter=',')"
   ]
  },
  {
   "cell_type": "code",
   "execution_count": 29,
   "id": "b7dd48bd-c327-4500-88fb-9e6ded824fb6",
   "metadata": {},
   "outputs": [],
   "source": [
    "data = numpy.loadtxt(fname='../data/inflammation-01.csv', delimiter=',')"
   ]
  },
  {
   "cell_type": "code",
   "execution_count": 30,
   "id": "ffaac56c-0fdf-43e3-b52f-233fa53766d4",
   "metadata": {},
   "outputs": [
    {
     "name": "stdout",
     "output_type": "stream",
     "text": [
      "[[0. 0. 1. ... 3. 0. 0.]\n",
      " [0. 1. 2. ... 1. 0. 1.]\n",
      " [0. 1. 1. ... 2. 1. 1.]\n",
      " ...\n",
      " [0. 1. 1. ... 1. 1. 1.]\n",
      " [0. 0. 0. ... 0. 2. 0.]\n",
      " [0. 0. 1. ... 1. 1. 0.]]\n"
     ]
    }
   ],
   "source": [
    "print(data)"
   ]
  },
  {
   "cell_type": "code",
   "execution_count": 31,
   "id": "f2e73eb6-1e06-4b84-969d-c50612840e96",
   "metadata": {},
   "outputs": [
    {
     "name": "stdout",
     "output_type": "stream",
     "text": [
      "<class 'numpy.ndarray'>\n"
     ]
    }
   ],
   "source": [
    "print(type(data))"
   ]
  },
  {
   "cell_type": "code",
   "execution_count": 32,
   "id": "b3ed1354-994a-4aa6-bdb9-5ca634aefe6c",
   "metadata": {},
   "outputs": [
    {
     "name": "stdout",
     "output_type": "stream",
     "text": [
      "float64\n"
     ]
    }
   ],
   "source": [
    "print(data.dtype)"
   ]
  },
  {
   "cell_type": "code",
   "execution_count": 33,
   "id": "c63ce6e1-1376-46fc-9b25-c671a0ff0bac",
   "metadata": {},
   "outputs": [
    {
     "name": "stdout",
     "output_type": "stream",
     "text": [
      "[ 0.  0.  1.  3.  1.  2.  4.  7.  8.  3.  3.  3. 10.  5.  7.  4.  7.  7.\n",
      " 12. 18.  6. 13. 11. 11.  7.  7.  4.  6.  8.  8.  4.  4.  5.  7.  3.  4.\n",
      "  2.  3.  0.  0.]\n"
     ]
    }
   ],
   "source": [
    "print(data[0])"
   ]
  },
  {
   "cell_type": "code",
   "execution_count": 34,
   "id": "bdf32782-c6af-4492-a12d-789326221b8e",
   "metadata": {},
   "outputs": [
    {
     "data": {
      "text/plain": [
       "(60, 40)"
      ]
     },
     "execution_count": 34,
     "metadata": {},
     "output_type": "execute_result"
    }
   ],
   "source": [
    "# ndarray: First row count, then column count\n",
    "data.shape"
   ]
  },
  {
   "cell_type": "code",
   "execution_count": 35,
   "id": "b0b18acb-ff5d-4eb0-b503-d9a110e77700",
   "metadata": {},
   "outputs": [
    {
     "name": "stdout",
     "output_type": "stream",
     "text": [
      "(60, 40)\n"
     ]
    }
   ],
   "source": [
    "print(data.shape)"
   ]
  },
  {
   "cell_type": "code",
   "execution_count": 36,
   "id": "7f034759-b761-4247-97a2-8f3913242756",
   "metadata": {},
   "outputs": [
    {
     "name": "stdout",
     "output_type": "stream",
     "text": [
      "middle value in data: 13.0\n"
     ]
    }
   ],
   "source": [
    "print('middle value in data:', data[30, 20])"
   ]
  },
  {
   "cell_type": "code",
   "execution_count": 37,
   "id": "e31110ee-540c-494e-a541-36f7b69b5eda",
   "metadata": {},
   "outputs": [
    {
     "name": "stdout",
     "output_type": "stream",
     "text": [
      "this location is ok and contains 7.0\n"
     ]
    }
   ],
   "source": [
    "print(\"this location is ok and contains\", data[50][30])"
   ]
  },
  {
   "cell_type": "code",
   "execution_count": 38,
   "id": "e07ec780-c5e8-4af3-bb6f-1af50cd01371",
   "metadata": {},
   "outputs": [
    {
     "ename": "IndexError",
     "evalue": "index 50 is out of bounds for axis 0 with size 40",
     "output_type": "error",
     "traceback": [
      "\u001b[0;31m---------------------------------------------------------------------------\u001b[0m",
      "\u001b[0;31mIndexError\u001b[0m                                Traceback (most recent call last)",
      "Input \u001b[0;32mIn [38]\u001b[0m, in \u001b[0;36m<cell line: 1>\u001b[0;34m()\u001b[0m\n\u001b[0;32m----> 1\u001b[0m \u001b[38;5;28mprint\u001b[39m(\u001b[38;5;124m\"\u001b[39m\u001b[38;5;124mthis location will give an error\u001b[39m\u001b[38;5;124m\"\u001b[39m, \u001b[43mdata\u001b[49m\u001b[43m[\u001b[49m\u001b[38;5;241;43m30\u001b[39;49m\u001b[43m]\u001b[49m\u001b[43m[\u001b[49m\u001b[38;5;241;43m50\u001b[39;49m\u001b[43m]\u001b[49m)\n",
      "\u001b[0;31mIndexError\u001b[0m: index 50 is out of bounds for axis 0 with size 40"
     ]
    }
   ],
   "source": [
    "print(\"this location will give an error\", data[30][50])"
   ]
  },
  {
   "cell_type": "code",
   "execution_count": 39,
   "id": "193f398e-3650-4ae7-8aec-7479ae0459d4",
   "metadata": {},
   "outputs": [
    {
     "name": "stdout",
     "output_type": "stream",
     "text": [
      "1.0\n"
     ]
    }
   ],
   "source": [
    "# First row then column for ndarrays\n",
    "print(data[0][2])"
   ]
  },
  {
   "cell_type": "code",
   "execution_count": 40,
   "id": "b7e0d537-00e9-4971-b28f-20a8b71ede30",
   "metadata": {},
   "outputs": [],
   "source": [
    "# For pandas DataFrames it is the other way round"
   ]
  },
  {
   "cell_type": "code",
   "execution_count": 41,
   "id": "d7394096-9a73-4961-b48c-be417469eb75",
   "metadata": {},
   "outputs": [
    {
     "name": "stdout",
     "output_type": "stream",
     "text": [
      "1.0\n"
     ]
    }
   ],
   "source": [
    "# the lesson has us index using a tuple\n",
    "print(data[0, 2])"
   ]
  },
  {
   "cell_type": "code",
   "execution_count": 42,
   "id": "f97343df-e3bb-4c03-a6a6-5d80d7b4ff26",
   "metadata": {},
   "outputs": [
    {
     "name": "stdout",
     "output_type": "stream",
     "text": [
      "[[0. 0. 1. 3. 1. 2. 4. 7. 8. 3.]\n",
      " [0. 1. 2. 1. 2. 1. 3. 2. 2. 6.]\n",
      " [0. 1. 1. 3. 3. 2. 6. 2. 5. 9.]\n",
      " [0. 0. 2. 0. 4. 2. 2. 1. 6. 7.]]\n"
     ]
    }
   ],
   "source": [
    "print(data[0:4, 0:10])"
   ]
  },
  {
   "cell_type": "markdown",
   "id": "4a2f488e-dabb-443e-94e4-884e5883f568",
   "metadata": {},
   "source": [
    "### including on the left, not including on the right"
   ]
  },
  {
   "cell_type": "code",
   "execution_count": 47,
   "id": "81b58b5e-1fb3-4c12-a453-6eddc70bb2a7",
   "metadata": {},
   "outputs": [
    {
     "name": "stdout",
     "output_type": "stream",
     "text": [
      "[[0. 0. 1. 2. 2. 4. 2. 1. 6. 4.]\n",
      " [0. 0. 2. 2. 4. 2. 2. 5. 5. 8.]\n",
      " [0. 0. 1. 2. 3. 1. 2. 3. 5. 3.]\n",
      " [0. 0. 0. 3. 1. 5. 6. 5. 5. 8.]\n",
      " [0. 1. 1. 2. 1. 3. 5. 3. 5. 8.]] <class 'numpy.ndarray'>\n"
     ]
    }
   ],
   "source": [
    "# notice these slices are not separated by commas\n",
    "print(data[5:10, 0:10], type(data[5:10, 0:10]))"
   ]
  },
  {
   "cell_type": "code",
   "execution_count": 46,
   "id": "b0c006b1-9e3a-4702-93fd-213a1dd619d1",
   "metadata": {},
   "outputs": [
    {
     "name": "stdout",
     "output_type": "stream",
     "text": [
      "small is:\n",
      "[[2. 3. 0. 0.]\n",
      " [1. 1. 0. 1.]\n",
      " [2. 2. 1. 1.]]\n"
     ]
    }
   ],
   "source": [
    "# remember shape is (60, 40)\n",
    "small = data[:3, 36:]\n",
    "print('small is:')\n",
    "print(small)"
   ]
  },
  {
   "cell_type": "code",
   "execution_count": 61,
   "id": "1fccdc51-ccc8-443f-ac9e-0afd72b28121",
   "metadata": {},
   "outputs": [
    {
     "name": "stdout",
     "output_type": "stream",
     "text": [
      "6.14875\n"
     ]
    }
   ],
   "source": [
    "print(numpy.mean(data))"
   ]
  },
  {
   "cell_type": "code",
   "execution_count": 62,
   "id": "83565f9b-1092-4c0f-bfa2-24e15353133d",
   "metadata": {},
   "outputs": [
    {
     "name": "stdout",
     "output_type": "stream",
     "text": [
      "4.613833197118566\n"
     ]
    }
   ],
   "source": [
    "print(numpy.std(data))"
   ]
  },
  {
   "cell_type": "code",
   "execution_count": 63,
   "id": "5ce26dd5-a18a-4394-9769-2e5b8a4fcb7b",
   "metadata": {},
   "outputs": [
    {
     "name": "stdout",
     "output_type": "stream",
     "text": [
      "5.0\n"
     ]
    }
   ],
   "source": [
    "print(numpy.median(data))"
   ]
  },
  {
   "cell_type": "code",
   "execution_count": 76,
   "id": "228b968e-ca45-453e-b7af-56a321cea6c4",
   "metadata": {},
   "outputs": [
    {
     "name": "stdout",
     "output_type": "stream",
     "text": [
      "[[1.57079633 1.57079633 0.         ...        nan 1.57079633 1.57079633]\n",
      " [1.57079633 0.                nan ... 0.         1.57079633 0.        ]\n",
      " [1.57079633 0.         0.         ...        nan 0.         0.        ]\n",
      " ...\n",
      " [1.57079633 0.         0.         ... 0.         0.         0.        ]\n",
      " [1.57079633 1.57079633 1.57079633 ... 1.57079633        nan 1.57079633]\n",
      " [1.57079633 1.57079633 0.         ... 0.         0.         1.57079633]]\n"
     ]
    },
    {
     "name": "stderr",
     "output_type": "stream",
     "text": [
      "/tmp/ipykernel_890/849732473.py:2: RuntimeWarning: invalid value encountered in arccos\n",
      "  print(numpy.arccos(data))\n"
     ]
    }
   ],
   "source": [
    "# dir(numpy) turns up arccos.... hmmm.... or could type numpy. followed by a tab keypress\n",
    "print(numpy.arccos(data))"
   ]
  },
  {
   "cell_type": "code",
   "execution_count": 77,
   "id": "46e168ce-2c36-4fca-af4a-28c2b1243db0",
   "metadata": {},
   "outputs": [
    {
     "name": "stdout",
     "output_type": "stream",
     "text": [
      "Tue Nov  8 20:04:48 2022\n"
     ]
    }
   ],
   "source": [
    "import time\n",
    "print(time.ctime())"
   ]
  },
  {
   "cell_type": "code",
   "execution_count": 78,
   "id": "27f9fed3-2340-4535-ac75-18c0c08e9cfb",
   "metadata": {},
   "outputs": [
    {
     "name": "stdout",
     "output_type": "stream",
     "text": [
      "maximum inflammation: 20.0\n",
      "minimum inflammation: 0.0\n",
      "standard deviation: 4.613833197118566\n"
     ]
    }
   ],
   "source": [
    "# tuple assignment: duel identity\n",
    "maxval, minval, stdval = numpy.max(data), numpy.min(data), numpy.std(data)\n",
    "\n",
    "print('maximum inflammation:', maxval)\n",
    "print('minimum inflammation:', minval)\n",
    "print('standard deviation:', stdval)"
   ]
  },
  {
   "cell_type": "code",
   "execution_count": 79,
   "id": "eb89fcbb-92ba-4edc-9ed7-515a30171604",
   "metadata": {},
   "outputs": [],
   "source": [
    "data_info = maxval, minval, stdval"
   ]
  },
  {
   "cell_type": "code",
   "execution_count": 80,
   "id": "acc54353-2180-46b9-9fea-9c42aace8008",
   "metadata": {},
   "outputs": [
    {
     "data": {
      "text/plain": [
       "(20.0, 0.0, 4.613833197118566)"
      ]
     },
     "execution_count": 80,
     "metadata": {},
     "output_type": "execute_result"
    }
   ],
   "source": [
    "data_info"
   ]
  },
  {
   "cell_type": "code",
   "execution_count": 81,
   "id": "94ebf9de-7429-4e63-8205-9edc64f5ae43",
   "metadata": {},
   "outputs": [
    {
     "data": {
      "text/plain": [
       "4.613833197118566"
      ]
     },
     "execution_count": 81,
     "metadata": {},
     "output_type": "execute_result"
    }
   ],
   "source": [
    "data_info[2]"
   ]
  },
  {
   "cell_type": "code",
   "execution_count": 82,
   "id": "af563c3a-5205-43e5-a64f-b75e6ff77487",
   "metadata": {},
   "outputs": [
    {
     "name": "stdout",
     "output_type": "stream",
     "text": [
      "maximum inflammation for patient 2: 19.0\n"
     ]
    }
   ],
   "source": [
    "print('maximum inflammation for patient 2:', numpy.max(data[2, :]))"
   ]
  },
  {
   "cell_type": "markdown",
   "id": "aeb9f865-562d-475d-b79a-55dc6bd51a26",
   "metadata": {},
   "source": [
    "## numpy.--tab-- to see what is possible in choose fashion"
   ]
  },
  {
   "cell_type": "code",
   "execution_count": 83,
   "id": "a4580cba-de6d-4a06-bc79-56f5ee8ac3ec",
   "metadata": {},
   "outputs": [
    {
     "data": {
      "text/plain": [
       "2.718281828459045"
      ]
     },
     "execution_count": 83,
     "metadata": {},
     "output_type": "execute_result"
    }
   ],
   "source": [
    "numpy.math.e                 # instance; contrast function"
   ]
  },
  {
   "cell_type": "code",
   "execution_count": 106,
   "id": "b07da89d-01ea-4ec0-a4bf-6edf51cef790",
   "metadata": {},
   "outputs": [
    {
     "name": "stdout",
     "output_type": "stream",
     "text": [
      "Help on built-in function acos in module math:\n",
      "\n",
      "acos(x, /)\n",
      "    Return the arc cosine (measured in radians) of x.\n",
      "\n"
     ]
    }
   ],
   "source": [
    "help(numpy.math.acos)"
   ]
  },
  {
   "cell_type": "code",
   "execution_count": 107,
   "id": "5993232f-d109-415e-a195-bd0c125232a5",
   "metadata": {},
   "outputs": [
    {
     "name": "stdout",
     "output_type": "stream",
     "text": [
      "maximum inflammation for patient 0: 18.0\n"
     ]
    }
   ],
   "source": [
    "patient_0 = data[0, :] # 0 on the first axis (rows), everything on the second (columns)\n",
    "print('maximum inflammation for patient 0:', numpy.max(patient_0))"
   ]
  },
  {
   "cell_type": "code",
   "execution_count": 108,
   "id": "be6ba0bb-2fb0-4696-a0c9-4fc032b8f630",
   "metadata": {},
   "outputs": [],
   "source": [
    "ax0max = numpy.max(data, axis=0)        # flatten along axis 0 (rows) so result is 40 elements"
   ]
  },
  {
   "cell_type": "code",
   "execution_count": 91,
   "id": "46bbd79e-5036-48c8-9eed-a1b48ee392d9",
   "metadata": {},
   "outputs": [],
   "source": [
    "ax1max = numpy.max(data, axis=1)        # flatten axis 1 (columns): 60 results"
   ]
  },
  {
   "cell_type": "code",
   "execution_count": 109,
   "id": "95a08dc0-710b-4bc4-96d5-5ca112d90dc4",
   "metadata": {},
   "outputs": [
    {
     "data": {
      "text/plain": [
       "(array([ 0.,  1.,  2.,  3.,  4.,  5.,  6.,  7.,  8.,  9., 10., 11., 12.,\n",
       "        13., 14., 15., 16., 17., 18., 19., 20., 19., 18., 17., 16., 15.,\n",
       "        14., 13., 12., 11., 10.,  9.,  8.,  7.,  6.,  5.,  4.,  3.,  2.,\n",
       "         1.]),\n",
       " 40)"
      ]
     },
     "execution_count": 109,
     "metadata": {},
     "output_type": "execute_result"
    }
   ],
   "source": [
    "ax0max, len(ax0max)"
   ]
  },
  {
   "cell_type": "code",
   "execution_count": 110,
   "id": "272972de-887d-47c8-a779-e30db0151dae",
   "metadata": {},
   "outputs": [
    {
     "data": {
      "text/plain": [
       "(array([18., 18., 19., 17., 17., 18., 17., 20., 17., 18., 18., 18., 17.,\n",
       "        16., 17., 18., 19., 19., 17., 19., 19., 16., 17., 15., 17., 17.,\n",
       "        18., 17., 20., 17., 16., 19., 15., 15., 19., 17., 16., 17., 19.,\n",
       "        16., 18., 19., 16., 19., 18., 16., 19., 15., 16., 18., 14., 20.,\n",
       "        17., 15., 17., 16., 17., 19., 18., 18.]),\n",
       " 60)"
      ]
     },
     "execution_count": 110,
     "metadata": {},
     "output_type": "execute_result"
    }
   ],
   "source": [
    "ax1max, len(ax1max)"
   ]
  },
  {
   "cell_type": "code",
   "execution_count": 95,
   "id": "d342f44d-1209-4f3e-8233-5faa2ed73c20",
   "metadata": {},
   "outputs": [
    {
     "data": {
      "text/plain": [
       "60"
      ]
     },
     "execution_count": 95,
     "metadata": {},
     "output_type": "execute_result"
    }
   ],
   "source": [
    "len(ax1max)"
   ]
  },
  {
   "cell_type": "code",
   "execution_count": 96,
   "id": "3c30222d-81e9-4c1f-ac80-87e7945efacc",
   "metadata": {},
   "outputs": [
    {
     "data": {
      "text/plain": [
       "40"
      ]
     },
     "execution_count": 96,
     "metadata": {},
     "output_type": "execute_result"
    }
   ],
   "source": [
    "len(ax0max)"
   ]
  },
  {
   "cell_type": "code",
   "execution_count": 97,
   "id": "5c1c0a79-2046-4599-8de0-8b58a45dfe2a",
   "metadata": {},
   "outputs": [
    {
     "name": "stdout",
     "output_type": "stream",
     "text": [
      "(40,)\n"
     ]
    }
   ],
   "source": [
    "print(numpy.mean(data, axis=0).shape)"
   ]
  },
  {
   "cell_type": "code",
   "execution_count": 98,
   "id": "e75ee7a5-eee3-459a-bc37-f04cb7701599",
   "metadata": {},
   "outputs": [
    {
     "ename": "AttributeError",
     "evalue": "'numpy.ndarray' object has no attribute 'index'",
     "output_type": "error",
     "traceback": [
      "\u001b[0;31m---------------------------------------------------------------------------\u001b[0m",
      "\u001b[0;31mAttributeError\u001b[0m                            Traceback (most recent call last)",
      "Input \u001b[0;32mIn [98]\u001b[0m, in \u001b[0;36m<cell line: 1>\u001b[0;34m()\u001b[0m\n\u001b[0;32m----> 1\u001b[0m \u001b[43max1max\u001b[49m\u001b[38;5;241;43m.\u001b[39;49m\u001b[43mindex\u001b[49m(\u001b[38;5;241m18\u001b[39m)\n",
      "\u001b[0;31mAttributeError\u001b[0m: 'numpy.ndarray' object has no attribute 'index'"
     ]
    }
   ],
   "source": [
    "ax1max"
   ]
  },
  {
   "cell_type": "code",
   "execution_count": 100,
   "id": "4e833a4e-e0f3-496f-a5be-6eb5e5dc9931",
   "metadata": {},
   "outputs": [],
   "source": [
    "maxIndices = numpy.argmax(data, axis=1)"
   ]
  },
  {
   "cell_type": "code",
   "execution_count": 101,
   "id": "02f134c2-9cd1-46d4-9626-6d60c9a86d90",
   "metadata": {},
   "outputs": [
    {
     "data": {
      "text/plain": [
       "60"
      ]
     },
     "execution_count": 101,
     "metadata": {},
     "output_type": "execute_result"
    }
   ],
   "source": [
    "len(maxIndices)"
   ]
  },
  {
   "cell_type": "code",
   "execution_count": 124,
   "id": "ef3af113-97e2-4b6d-ac26-238100215c48",
   "metadata": {},
   "outputs": [
    {
     "data": {
      "text/plain": [
       "array([[18., 18., 19., 17., 17., 18., 17., 20., 17., 18., 18., 18., 17.,\n",
       "        16., 17., 18., 19., 19., 17., 19., 19., 16., 17., 15., 17., 17.,\n",
       "        18., 17., 20., 17., 16., 19., 15., 15., 19., 17., 16., 17., 19.,\n",
       "        16., 18., 19., 16., 19., 18., 16., 19., 15., 16., 18., 14., 20.,\n",
       "        17., 15., 17., 16., 17., 19., 18., 18.]])"
      ]
     },
     "execution_count": 124,
     "metadata": {},
     "output_type": "execute_result"
    }
   ],
   "source": [
    "maxii = numpy.array([[data[i, maxIndices[i]] for i in range(60)]])\n",
    "maxii"
   ]
  },
  {
   "cell_type": "code",
   "execution_count": 111,
   "id": "4c2afe90-a29f-4d50-96cb-be5c23f24d86",
   "metadata": {},
   "outputs": [
    {
     "name": "stdout",
     "output_type": "stream",
     "text": [
      "first three characters: oxy\n",
      "last three characters: gen\n"
     ]
    }
   ],
   "source": [
    "element = 'oxygen'\n",
    "print('first three characters:', element[0:3])\n",
    "print('last three characters:', element[3:6])"
   ]
  },
  {
   "cell_type": "code",
   "execution_count": 112,
   "id": "b05c400d-31e1-4f6e-8578-95953b6bf9e8",
   "metadata": {},
   "outputs": [
    {
     "data": {
      "text/plain": [
       "('n', 'e', 'g', 'y', 'x', 'o')"
      ]
     },
     "execution_count": 112,
     "metadata": {},
     "output_type": "execute_result"
    }
   ],
   "source": [
    "element[-1], element[-2], element[-3], element[-4], element[-5], element[-6], "
   ]
  },
  {
   "cell_type": "code",
   "execution_count": 133,
   "id": "ddd015da-e47b-4d79-bfe5-a6a2e167fc7b",
   "metadata": {},
   "outputs": [
    {
     "data": {
      "text/plain": [
       "''"
      ]
     },
     "execution_count": 133,
     "metadata": {},
     "output_type": "execute_result"
    }
   ],
   "source": [
    "element[-110:-100]             # slices have a built in logic of 'if there is some there there'\n",
    "                               # this is not the same as simply indexing\n",
    "                               #   for example try element[-110]"
   ]
  },
  {
   "cell_type": "code",
   "execution_count": 134,
   "id": "6f82de35-73bf-44cc-bbc7-b7273acd867f",
   "metadata": {},
   "outputs": [
    {
     "data": {
      "text/plain": [
       "'fribble'"
      ]
     },
     "execution_count": 134,
     "metadata": {},
     "output_type": "execute_result"
    }
   ],
   "source": [
    "element[-110:110]"
   ]
  },
  {
   "cell_type": "code",
   "execution_count": 130,
   "id": "0c69f763-32db-4742-9ca4-c5d579219d86",
   "metadata": {},
   "outputs": [
    {
     "name": "stdout",
     "output_type": "stream",
     "text": [
      "fribble\n"
     ]
    }
   ],
   "source": [
    "element = 'fribble'\n",
    "print(element[-11000000:])"
   ]
  },
  {
   "cell_type": "code",
   "execution_count": 118,
   "id": "f53bd767-f520-4089-9e62-91a22c1b7191",
   "metadata": {},
   "outputs": [
    {
     "ename": "IndexError",
     "evalue": "string index out of range",
     "output_type": "error",
     "traceback": [
      "\u001b[0;31m---------------------------------------------------------------------------\u001b[0m",
      "\u001b[0;31mIndexError\u001b[0m                                Traceback (most recent call last)",
      "Input \u001b[0;32mIn [118]\u001b[0m, in \u001b[0;36m<cell line: 1>\u001b[0;34m()\u001b[0m\n\u001b[0;32m----> 1\u001b[0m \u001b[38;5;28mprint\u001b[39m(\u001b[43melement\u001b[49m\u001b[43m[\u001b[49m\u001b[38;5;241;43m-\u001b[39;49m\u001b[38;5;241;43m3\u001b[39;49m\u001b[43m]\u001b[49m)\n",
      "\u001b[0;31mIndexError\u001b[0m: string index out of range"
     ]
    }
   ],
   "source": [
    "print(element[-3])"
   ]
  },
  {
   "cell_type": "code",
   "execution_count": 119,
   "id": "babf8f36-bba1-4608-9cc6-103bbfb2ddc3",
   "metadata": {},
   "outputs": [
    {
     "data": {
      "text/plain": [
       "array([], shape=(0, 0), dtype=float64)"
      ]
     },
     "execution_count": 119,
     "metadata": {},
     "output_type": "execute_result"
    }
   ],
   "source": [
    "data[3:3, 4:4]"
   ]
  },
  {
   "cell_type": "code",
   "execution_count": 135,
   "id": "d5c63548-610e-4a35-ba70-ed7ecde7442d",
   "metadata": {},
   "outputs": [
    {
     "name": "stdout",
     "output_type": "stream",
     "text": [
      "A = \n",
      "[[1 2 3]\n",
      " [4 5 6]\n",
      " [7 8 9]]\n",
      "B = \n",
      "[[1 2 3 1 2 3]\n",
      " [4 5 6 4 5 6]\n",
      " [7 8 9 7 8 9]]\n",
      "C = \n",
      "[[1 2 3]\n",
      " [4 5 6]\n",
      " [7 8 9]\n",
      " [1 2 3]\n",
      " [4 5 6]\n",
      " [7 8 9]]\n"
     ]
    }
   ],
   "source": [
    "import numpy\n",
    "\n",
    "A = numpy.array([[1,2,3], [4,5,6], [7, 8, 9]])\n",
    "print('A = ')\n",
    "print(A)\n",
    "\n",
    "B = numpy.hstack([A, A])\n",
    "print('B = ')\n",
    "print(B)\n",
    "\n",
    "C = numpy.vstack([A, A])\n",
    "print('C = ')\n",
    "print(C)"
   ]
  },
  {
   "cell_type": "code",
   "execution_count": 146,
   "id": "01958ba6-fc90-40c3-9594-c4673919315e",
   "metadata": {},
   "outputs": [],
   "source": [
    "A0, A2 = A[:, :1], A[:, -1:]"
   ]
  },
  {
   "cell_type": "code",
   "execution_count": 147,
   "id": "044ed5ff-3acf-4847-ab63-cacc353b6d30",
   "metadata": {},
   "outputs": [
    {
     "name": "stdout",
     "output_type": "stream",
     "text": [
      "[[1 3]\n",
      " [4 6]\n",
      " [7 9]]\n"
     ]
    }
   ],
   "source": [
    "print(numpy.hstack([A0, A2]))"
   ]
  },
  {
   "cell_type": "code",
   "execution_count": 48,
   "id": "90be21f2-c5f7-4788-b606-78173efc0f6a",
   "metadata": {},
   "outputs": [
    {
     "name": "stdout",
     "output_type": "stream",
     "text": [
      "maximum inflammation for patient 2: 19.0\n"
     ]
    }
   ],
   "source": [
    "print('maximum inflammation for patient 2:', numpy.max(data[2, :]))"
   ]
  },
  {
   "cell_type": "code",
   "execution_count": 49,
   "id": "cda01d09-7783-491b-a94f-b942af6052ea",
   "metadata": {},
   "outputs": [
    {
     "name": "stdout",
     "output_type": "stream",
     "text": [
      "maximum inflammation for patient 2: 20\n"
     ]
    }
   ],
   "source": [
    "print('maximum inflammation for patient 2:', numpy.argmax(data[2, :]))"
   ]
  },
  {
   "cell_type": "code",
   "execution_count": 50,
   "id": "f4af25a0-d414-44a3-831a-5639255e97e2",
   "metadata": {},
   "outputs": [
    {
     "data": {
      "text/plain": [
       "array([ 0.,  1.,  1.,  3.,  3.,  2.,  6.,  2.,  5.,  9.,  5.,  7.,  4.,\n",
       "        5.,  4., 15.,  5., 11.,  9., 10., 19., 14., 12., 17.,  7., 12.,\n",
       "       11.,  7.,  4.,  2., 10.,  5.,  4.,  2.,  2.,  3.,  2.,  2.,  1.,\n",
       "        1.])"
      ]
     },
     "execution_count": 50,
     "metadata": {},
     "output_type": "execute_result"
    }
   ],
   "source": [
    "data[2, ]"
   ]
  },
  {
   "cell_type": "code",
   "execution_count": 51,
   "id": "b496dc3a-e039-4190-aa5e-584ef7b2cdd3",
   "metadata": {},
   "outputs": [],
   "source": [
    "patient3_week1 = data[3, :7]"
   ]
  },
  {
   "cell_type": "code",
   "execution_count": 52,
   "id": "158415de-af3d-4cac-b029-9054ad6ee59e",
   "metadata": {},
   "outputs": [
    {
     "data": {
      "text/plain": [
       "array([ 0.,  2., -2.,  4., -2.,  0.])"
      ]
     },
     "execution_count": 52,
     "metadata": {},
     "output_type": "execute_result"
    }
   ],
   "source": [
    "numpy.diff(patient3_week1)"
   ]
  },
  {
   "cell_type": "code",
   "execution_count": 55,
   "id": "a71de5e2-4577-4bc7-99e0-0f0e44c24624",
   "metadata": {},
   "outputs": [],
   "source": [
    "d = numpy.diff(data, axis=1)"
   ]
  },
  {
   "cell_type": "code",
   "execution_count": 56,
   "id": "20a39675-6a87-485b-aa04-fd4b798e93d5",
   "metadata": {},
   "outputs": [
    {
     "data": {
      "text/plain": [
       "(60, 39)"
      ]
     },
     "execution_count": 56,
     "metadata": {},
     "output_type": "execute_result"
    }
   ],
   "source": [
    "d.shape"
   ]
  },
  {
   "cell_type": "code",
   "execution_count": 59,
   "id": "b5401081-c02d-480d-bbec-a6370125baa1",
   "metadata": {},
   "outputs": [],
   "source": [
    "dabs = numpy.abs(d)"
   ]
  },
  {
   "cell_type": "code",
   "execution_count": 60,
   "id": "09dc8931-22e8-49f9-a823-93aedc23a601",
   "metadata": {},
   "outputs": [
    {
     "data": {
      "text/plain": [
       "array([[0., 1., 2., ..., 1., 3., 0.],\n",
       "       [1., 1., 1., ..., 0., 1., 1.],\n",
       "       [1., 0., 2., ..., 0., 1., 0.],\n",
       "       ...,\n",
       "       [1., 0., 0., ..., 1., 0., 0.],\n",
       "       [0., 0., 1., ..., 2., 2., 2.],\n",
       "       [0., 1., 1., ..., 2., 0., 1.]])"
      ]
     },
     "execution_count": 60,
     "metadata": {},
     "output_type": "execute_result"
    }
   ],
   "source": [
    "dabs"
   ]
  },
  {
   "cell_type": "code",
   "execution_count": 62,
   "id": "56f23ac2-ab7c-4531-8e62-a8d78e71289f",
   "metadata": {},
   "outputs": [
    {
     "data": {
      "text/plain": [
       "(array([12., 14., 11., 13., 11., 13., 10., 12., 10., 10., 10., 12., 13.,\n",
       "        10., 11., 10., 12., 13.,  9., 10., 13.,  9., 12.,  9., 12., 11.,\n",
       "        10., 13.,  9., 13., 11., 11.,  8., 11., 12., 13.,  9., 10., 13.,\n",
       "        11., 11., 13., 11., 13., 13., 10.,  9., 10., 10.,  9.,  9., 13.,\n",
       "        10.,  9., 10., 11., 13., 10., 10., 12.]),\n",
       " 60)"
      ]
     },
     "execution_count": 62,
     "metadata": {},
     "output_type": "execute_result"
    }
   ],
   "source": [
    "dmax=numpy.max(dabs, axis=1)\n",
    "dmax, len(dmax)"
   ]
  },
  {
   "cell_type": "markdown",
   "id": "935c9e91-b36c-4ebe-b6f9-de8b4600e549",
   "metadata": {},
   "source": [
    "## Key Points\n",
    "# End Analysis\n",
    "\n",
    "</BR>\n",
    "</BR>\n",
    "\n",
    "# Visualizing Tabular Data\n",
    "\n",
    "## viridis!"
   ]
  },
  {
   "cell_type": "code",
   "execution_count": 64,
   "id": "3a63d9bb-ae31-484d-ab28-89cd60537fd4",
   "metadata": {},
   "outputs": [],
   "source": [
    "import numpy\n",
    "data = numpy.loadtxt(fname='../data/inflammation-01.csv', delimiter=',')"
   ]
  },
  {
   "cell_type": "code",
   "execution_count": 65,
   "id": "4fc99b52-096f-49ee-bc7a-2cc8e79c5cc4",
   "metadata": {},
   "outputs": [
    {
     "data": {
      "image/png": "[encoded data removed]",
      "text/plain": [
       "<Figure size 640x480 with 1 Axes>"
      ]
     },
     "metadata": {},
     "output_type": "display_data"
    }
   ],
   "source": [
    "import matplotlib.pyplot\n",
    "image = matplotlib.pyplot.imshow(data)\n",
    "matplotlib.pyplot.show()"
   ]
  },
  {
   "cell_type": "code",
   "execution_count": 66,
   "id": "436823f7-abac-4831-b9be-b466402c2276",
   "metadata": {},
   "outputs": [
    {
     "data": {
      "image/png": "[encoded data removed]",
      "text/plain": [
       "<Figure size 640x480 with 1 Axes>"
      ]
     },
     "metadata": {},
     "output_type": "display_data"
    }
   ],
   "source": [
    "ave_inflammation = numpy.mean(data, axis=0)\n",
    "ave_plot = matplotlib.pyplot.plot(ave_inflammation)\n",
    "matplotlib.pyplot.show()"
   ]
  },
  {
   "cell_type": "code",
   "execution_count": 67,
   "id": "31ed5401-a593-4c52-9e44-4463c5945c0a",
   "metadata": {},
   "outputs": [
    {
     "data": {
      "image/png": "[encoded data removed]",
      "text/plain": [
       "<Figure size 640x480 with 1 Axes>"
      ]
     },
     "metadata": {},
     "output_type": "display_data"
    }
   ],
   "source": [
    "max_plot = matplotlib.pyplot.plot(numpy.max(data, axis=0))\n",
    "matplotlib.pyplot.show()"
   ]
  },
  {
   "cell_type": "code",
   "execution_count": 68,
   "id": "78fbc481-0496-442e-bf36-b26a865e2daa",
   "metadata": {},
   "outputs": [
    {
     "data": {
      "image/png": "[encoded data removed]",
      "text/plain": [
       "<Figure size 640x480 with 1 Axes>"
      ]
     },
     "metadata": {},
     "output_type": "display_data"
    }
   ],
   "source": [
    "min_plot = matplotlib.pyplot.plot(numpy.min(data, axis=0))\n",
    "matplotlib.pyplot.show()"
   ]
  },
  {
   "cell_type": "code",
   "execution_count": 69,
   "id": "ccb025af-d62a-452e-8416-d95140958885",
   "metadata": {},
   "outputs": [
    {
     "data": {
      "image/png": "[encoded data removed]",
      "text/plain": [
       "<Figure size 1000x300 with 3 Axes>"
      ]
     },
     "metadata": {},
     "output_type": "display_data"
    }
   ],
   "source": [
    "fig = matplotlib.pyplot.figure(figsize=(10.0, 3.0))\n",
    "\n",
    "axes1 = fig.add_subplot(1, 3, 1)\n",
    "axes2 = fig.add_subplot(1, 3, 2)\n",
    "axes3 = fig.add_subplot(1, 3, 3)\n",
    "\n",
    "axes1.set_ylabel('average')\n",
    "axes1.plot(numpy.mean(data, axis=0))\n",
    "\n",
    "axes2.set_ylabel('max')\n",
    "axes2.plot(numpy.max(data, axis=0))\n",
    "\n",
    "axes3.set_ylabel('min')\n",
    "axes3.plot(numpy.min(data, axis=0))\n",
    "\n",
    "fig.tight_layout()\n",
    "\n",
    "matplotlib.pyplot.savefig('inflammation.png')\n",
    "matplotlib.pyplot.show()"
   ]
  },
  {
   "cell_type": "code",
   "execution_count": null,
   "id": "f3fb8ba0-3d41-4a8e-94ac-935fd853fbe2",
   "metadata": {},
   "outputs": [],
   "source": []
  }
 ],
 "metadata": {
  "kernelspec": {
   "display_name": "Python 3 (ipykernel)",
   "language": "python",
   "name": "python3"
  },
  "language_info": {
   "codemirror_mode": {
    "name": "ipython",
    "version": 3
   },
   "file_extension": ".py",
   "mimetype": "text/x-python",
   "name": "python",
   "nbconvert_exporter": "python",
   "pygments_lexer": "ipython3",
   "version": "3.8.5"
  }
 },
 "nbformat": 4,
 "nbformat_minor": 5
}
