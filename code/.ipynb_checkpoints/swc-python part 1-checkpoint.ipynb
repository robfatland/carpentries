{
 "cells": [
  {
   "cell_type": "markdown",
   "id": "7cbd4131",
   "metadata": {},
   "source": [
    "# ------------------- part 1 ----------------------------------------\n",
    "\n",
    "Intro to Python"
   ]
  },
  {
   "cell_type": "markdown",
   "id": "0b37b146",
   "metadata": {},
   "source": [
    "# as we code-along... stream of consc\n",
    "# -toggle that mic and give a shout\n",
    "# -drift along with the flow\n",
    "\n",
    "# vocabulary and concepts only go so far\n",
    "# i'm trying to really stay in value to your context web\n",
    "# but in short order we turn the corner into story\n",
    "\n",
    "# some aspects of Python syntax are surprising to me\n",
    "# begin\n",
    "# ...expression: 'what is this?'\n"
   ]
  },
  {
   "cell_type": "code",
   "execution_count": 89,
   "id": "5cdbbac8",
   "metadata": {},
   "outputs": [],
   "source": [
    "a=3"
   ]
  },
  {
   "cell_type": "code",
   "execution_count": 90,
   "id": "e6b3f268",
   "metadata": {},
   "outputs": [
    {
     "data": {
      "text/plain": [
       "3"
      ]
     },
     "execution_count": 90,
     "metadata": {},
     "output_type": "execute_result"
    }
   ],
   "source": [
    "a"
   ]
  },
  {
   "cell_type": "code",
   "execution_count": 91,
   "id": "dab57d49",
   "metadata": {},
   "outputs": [],
   "source": [
    "del a"
   ]
  },
  {
   "cell_type": "code",
   "execution_count": 92,
   "id": "b92ec4e4",
   "metadata": {},
   "outputs": [
    {
     "ename": "NameError",
     "evalue": "name 'a' is not defined",
     "output_type": "error",
     "traceback": [
      "\u001b[0;31m---------------------------------------------------------------------------\u001b[0m",
      "\u001b[0;31mNameError\u001b[0m                                 Traceback (most recent call last)",
      "\u001b[0;32m/tmp/ipykernel_80/2167009006.py\u001b[0m in \u001b[0;36m<module>\u001b[0;34m\u001b[0m\n\u001b[0;32m----> 1\u001b[0;31m \u001b[0ma\u001b[0m\u001b[0;34m\u001b[0m\u001b[0;34m\u001b[0m\u001b[0m\n\u001b[0m",
      "\u001b[0;31mNameError\u001b[0m: name 'a' is not defined"
     ]
    }
   ],
   "source": [
    "a"
   ]
  },
  {
   "cell_type": "code",
   "execution_count": 93,
   "id": "80e8dc56",
   "metadata": {},
   "outputs": [],
   "source": [
    "a = 4"
   ]
  },
  {
   "cell_type": "code",
   "execution_count": 94,
   "id": "aed7019d",
   "metadata": {},
   "outputs": [
    {
     "data": {
      "text/plain": [
       "4"
      ]
     },
     "execution_count": 94,
     "metadata": {},
     "output_type": "execute_result"
    }
   ],
   "source": [
    "a"
   ]
  },
  {
   "cell_type": "markdown",
   "id": "ad2562da",
   "metadata": {},
   "source": [
    "# What basic data types can I work with in Python?\n",
    "# How can I create a new variable in Python?\n",
    "# How do I use a function?\n",
    "# Can I change the value associated with a variable after I create it?"
   ]
  },
  {
   "cell_type": "code",
   "execution_count": 95,
   "id": "f3ac408b",
   "metadata": {},
   "outputs": [],
   "source": [
    "a=7"
   ]
  },
  {
   "cell_type": "code",
   "execution_count": 96,
   "id": "e2f8156e",
   "metadata": {},
   "outputs": [
    {
     "data": {
      "text/plain": [
       "7"
      ]
     },
     "execution_count": 96,
     "metadata": {},
     "output_type": "execute_result"
    }
   ],
   "source": [
    "a"
   ]
  },
  {
   "cell_type": "code",
   "execution_count": 97,
   "id": "7414e864",
   "metadata": {},
   "outputs": [
    {
     "ename": "SyntaxError",
     "evalue": "Missing parentheses in call to 'print'. Did you mean print(a)? (2947294964.py, line 1)",
     "output_type": "error",
     "traceback": [
      "\u001b[0;36m  File \u001b[0;32m\"/tmp/ipykernel_80/2947294964.py\"\u001b[0;36m, line \u001b[0;32m1\u001b[0m\n\u001b[0;31m    print a\u001b[0m\n\u001b[0m          ^\u001b[0m\n\u001b[0;31mSyntaxError\u001b[0m\u001b[0;31m:\u001b[0m Missing parentheses in call to 'print'. Did you mean print(a)?\n"
     ]
    }
   ],
   "source": [
    "print a"
   ]
  },
  {
   "cell_type": "code",
   "execution_count": 98,
   "id": "04b838e4",
   "metadata": {},
   "outputs": [
    {
     "name": "stdout",
     "output_type": "stream",
     "text": [
      "7\n"
     ]
    }
   ],
   "source": [
    "print(a)"
   ]
  },
  {
   "cell_type": "code",
   "execution_count": 99,
   "id": "c5155936",
   "metadata": {},
   "outputs": [
    {
     "name": "stdout",
     "output_type": "stream",
     "text": [
      "version is 3.8.5 (default, Sep  4 2020, 07:30:14) \n",
      "[GCC 7.3.0]\n"
     ]
    }
   ],
   "source": [
    "import sys\n",
    "print('version is', sys.version)               # a function has been spotted!"
   ]
  },
  {
   "cell_type": "code",
   "execution_count": 100,
   "id": "4bf53d46",
   "metadata": {},
   "outputs": [
    {
     "data": {
      "text/plain": [
       "23"
      ]
     },
     "execution_count": 100,
     "metadata": {},
     "output_type": "execute_result"
    }
   ],
   "source": [
    "3 + 5 * 4"
   ]
  },
  {
   "cell_type": "markdown",
   "id": "4cea59a6",
   "metadata": {},
   "source": [
    "***concept*** Python is interpreting what we type; a Python interpreter. \n",
    "\n",
    "\n",
    "***concept*** Python has a persistent memory... not much there yet "
   ]
  },
  {
   "cell_type": "code",
   "execution_count": 101,
   "id": "33c2933c",
   "metadata": {},
   "outputs": [],
   "source": [
    "weight_kg = 60                 # case sensitive"
   ]
  },
  {
   "cell_type": "markdown",
   "id": "07bac122",
   "metadata": {},
   "source": [
    "***concept***: a variable has 3 things: a label, a *type* and a value"
   ]
  },
  {
   "cell_type": "code",
   "execution_count": 102,
   "id": "34b9b31a",
   "metadata": {},
   "outputs": [
    {
     "data": {
      "text/plain": [
       "int"
      ]
     },
     "execution_count": 102,
     "metadata": {},
     "output_type": "execute_result"
    }
   ],
   "source": [
    "type(weight_kg)"
   ]
  },
  {
   "cell_type": "code",
   "execution_count": 103,
   "id": "636b678f",
   "metadata": {},
   "outputs": [],
   "source": [
    "weight_kg = 60.3"
   ]
  },
  {
   "cell_type": "code",
   "execution_count": 104,
   "id": "48fd1b2c",
   "metadata": {},
   "outputs": [
    {
     "data": {
      "text/plain": [
       "float"
      ]
     },
     "execution_count": 104,
     "metadata": {},
     "output_type": "execute_result"
    }
   ],
   "source": [
    "type(weight_kg)"
   ]
  },
  {
   "cell_type": "markdown",
   "id": "279d9703",
   "metadata": {},
   "source": [
    "***concept***: Python responds to changing context, for example changing the type of weight_kg\n",
    "\n",
    "***concept***: Case 1, variables of different *type* play well together"
   ]
  },
  {
   "cell_type": "code",
   "execution_count": 105,
   "id": "7695532e",
   "metadata": {},
   "outputs": [
    {
     "data": {
      "text/plain": [
       "int"
      ]
     },
     "execution_count": 105,
     "metadata": {},
     "output_type": "execute_result"
    }
   ],
   "source": [
    "n_sacks = 5\n",
    "type(n_sacks)"
   ]
  },
  {
   "cell_type": "code",
   "execution_count": 106,
   "id": "2e8c67b0",
   "metadata": {},
   "outputs": [
    {
     "data": {
      "text/plain": [
       "301.5"
      ]
     },
     "execution_count": 106,
     "metadata": {},
     "output_type": "execute_result"
    }
   ],
   "source": [
    "total_weight_kg = n_sacks * weight_kg\n",
    "total_weight_kg"
   ]
  },
  {
   "cell_type": "code",
   "execution_count": 52,
   "id": "613dd792",
   "metadata": {},
   "outputs": [
    {
     "data": {
      "text/plain": [
       "float"
      ]
     },
     "execution_count": 52,
     "metadata": {},
     "output_type": "execute_result"
    }
   ],
   "source": [
    "type(total_weight_kg)"
   ]
  },
  {
   "cell_type": "markdown",
   "id": "c0167733",
   "metadata": {},
   "source": [
    "***concept***: Case 2, variables of different *type* do **not** play well... Error"
   ]
  },
  {
   "cell_type": "code",
   "execution_count": 53,
   "id": "9bc9c474",
   "metadata": {},
   "outputs": [
    {
     "data": {
      "text/plain": [
       "str"
      ]
     },
     "execution_count": 53,
     "metadata": {},
     "output_type": "execute_result"
    }
   ],
   "source": [
    "person = 'Charles'\n",
    "type(person)"
   ]
  },
  {
   "cell_type": "code",
   "execution_count": 54,
   "id": "1ea1dead",
   "metadata": {},
   "outputs": [
    {
     "ename": "TypeError",
     "evalue": "unsupported operand type(s) for /: 'float' and 'str'",
     "output_type": "error",
     "traceback": [
      "\u001b[0;31m---------------------------------------------------------------------------\u001b[0m",
      "\u001b[0;31mTypeError\u001b[0m                                 Traceback (most recent call last)",
      "\u001b[0;32m/tmp/ipykernel_80/3441647661.py\u001b[0m in \u001b[0;36m<module>\u001b[0;34m\u001b[0m\n\u001b[0;32m----> 1\u001b[0;31m \u001b[0mpotatoes_per_person\u001b[0m \u001b[0;34m=\u001b[0m \u001b[0mtotal_weight_kg\u001b[0m \u001b[0;34m/\u001b[0m \u001b[0mperson\u001b[0m\u001b[0;34m\u001b[0m\u001b[0;34m\u001b[0m\u001b[0m\n\u001b[0m",
      "\u001b[0;31mTypeError\u001b[0m: unsupported operand type(s) for /: 'float' and 'str'"
     ]
    }
   ],
   "source": [
    "potatoes_per_person = total_weight_kg / person"
   ]
  },
  {
   "cell_type": "markdown",
   "id": "c9d68788",
   "metadata": {},
   "source": [
    "*types* so far: `int` for *integer*,  `float` for *floating point*, and `str` for *string*\n",
    "\n",
    "\n",
    "# looking ahead\n",
    "\n",
    "`int`, `float` and `str` are basic variable types; they hold one value. \n",
    "\n",
    "Python also has 'bundle many values': data structures. \n",
    "\n",
    "Native Python has four of these: the **list**, the **tuple**, the **dictionary** and the **set**.\n",
    "\n",
    "We are headed towards just the **list** idea.\n"
   ]
  },
  {
   "cell_type": "code",
   "execution_count": 114,
   "id": "ee89f766",
   "metadata": {},
   "outputs": [
    {
     "name": "stdout",
     "output_type": "stream",
     "text": [
      "snakesnake snake\n"
     ]
    }
   ],
   "source": [
    "a = 'snake'\n",
    "b = a + a\n",
    "print(b, a)"
   ]
  },
  {
   "cell_type": "code",
   "execution_count": 115,
   "id": "31a860fd",
   "metadata": {},
   "outputs": [
    {
     "data": {
      "text/plain": [
       "'howdy! howdy! howdy! '"
      ]
     },
     "execution_count": 115,
     "metadata": {},
     "output_type": "execute_result"
    }
   ],
   "source": [
    "c = 'howdy! '\n",
    "3*c"
   ]
  },
  {
   "cell_type": "code",
   "execution_count": 116,
   "id": "0958b65b",
   "metadata": {},
   "outputs": [
    {
     "name": "stdout",
     "output_type": "stream",
     "text": [
      "\n",
      "here is \"d\": howdy! howdy! howdy! I'm a cowboy!\n"
     ]
    }
   ],
   "source": [
    "# this is a comment: Let's end part 1 on a positive note\n",
    "\n",
    "d = 3*c + \"I'm a cowboy!\"\n",
    "\n",
    "print()\n",
    "print('here is \"d\":', d)"
   ]
  },
  {
   "cell_type": "markdown",
   "id": "9cee4f25",
   "metadata": {},
   "source": [
    "# -------------------part 2-----------------------\n",
    "\n",
    "Analyzing Patient Data"
   ]
  },
  {
   "cell_type": "code",
   "execution_count": 117,
   "id": "b8b9c8c7",
   "metadata": {},
   "outputs": [],
   "source": [
    "# part 2: data please!\n",
    "import numpy"
   ]
  },
  {
   "cell_type": "markdown",
   "id": "261b7412",
   "metadata": {},
   "source": [
    "***concept*** we have just dropped a library of tools into our "
   ]
  },
  {
   "cell_type": "code",
   "execution_count": 118,
   "id": "97d81850",
   "metadata": {},
   "outputs": [
    {
     "data": {
      "text/plain": [
       "array([[0., 0., 1., ..., 3., 0., 0.],\n",
       "       [0., 1., 2., ..., 1., 0., 1.],\n",
       "       [0., 1., 1., ..., 2., 1., 1.],\n",
       "       ...,\n",
       "       [0., 1., 1., ..., 1., 1., 1.],\n",
       "       [0., 0., 0., ..., 0., 2., 0.],\n",
       "       [0., 0., 1., ..., 1., 1., 0.]])"
      ]
     },
     "execution_count": 118,
     "metadata": {},
     "output_type": "execute_result"
    }
   ],
   "source": [
    "numpy.loadtxt(fname='../data/inflammation-01.csv', delimiter=',')"
   ]
  },
  {
   "cell_type": "code",
   "execution_count": 71,
   "id": "3285de64",
   "metadata": {},
   "outputs": [],
   "source": [
    "data = numpy.loadtxt(fname='../data/inflammation-01.csv', delimiter=',')"
   ]
  },
  {
   "cell_type": "code",
   "execution_count": 131,
   "id": "91d2e8ae",
   "metadata": {},
   "outputs": [
    {
     "data": {
      "text/plain": [
       "dtype('float64')"
      ]
     },
     "execution_count": 131,
     "metadata": {},
     "output_type": "execute_result"
    }
   ],
   "source": [
    "data.dtype"
   ]
  },
  {
   "cell_type": "code",
   "execution_count": 132,
   "id": "15275761",
   "metadata": {},
   "outputs": [
    {
     "name": "stdout",
     "output_type": "stream",
     "text": [
      "float64\n"
     ]
    }
   ],
   "source": [
    "print(data.dtype)"
   ]
  },
  {
   "cell_type": "code",
   "execution_count": 120,
   "id": "276f9d84",
   "metadata": {},
   "outputs": [
    {
     "name": "stdout",
     "output_type": "stream",
     "text": [
      "(60, 40)\n"
     ]
    }
   ],
   "source": [
    "print(data.shape)"
   ]
  },
  {
   "cell_type": "code",
   "execution_count": 123,
   "id": "3bba9bee",
   "metadata": {},
   "outputs": [
    {
     "data": {
      "text/plain": [
       "0.0"
      ]
     },
     "execution_count": 123,
     "metadata": {},
     "output_type": "execute_result"
    }
   ],
   "source": [
    "data[0, 0]          # unambiguous"
   ]
  },
  {
   "cell_type": "code",
   "execution_count": 125,
   "id": "d33f0e98",
   "metadata": {},
   "outputs": [
    {
     "data": {
      "text/plain": [
       "0.0"
      ]
     },
     "execution_count": 125,
     "metadata": {},
     "output_type": "execute_result"
    }
   ],
   "source": [
    "data[2, 0]          # aha row 2 column 0"
   ]
  },
  {
   "cell_type": "code",
   "execution_count": 127,
   "id": "4d011dc8",
   "metadata": {},
   "outputs": [
    {
     "data": {
      "text/plain": [
       "1.0"
      ]
     },
     "execution_count": 127,
     "metadata": {},
     "output_type": "execute_result"
    }
   ],
   "source": [
    "data[0, 2]          # aha row 0 column 2"
   ]
  },
  {
   "cell_type": "code",
   "execution_count": 129,
   "id": "7fa4f13a",
   "metadata": {},
   "outputs": [
    {
     "ename": "IndexError",
     "evalue": "index 50 is out of bounds for axis 1 with size 40",
     "output_type": "error",
     "traceback": [
      "\u001b[0;31m---------------------------------------------------------------------------\u001b[0m",
      "\u001b[0;31mIndexError\u001b[0m                                Traceback (most recent call last)",
      "\u001b[0;32m/tmp/ipykernel_80/2275691383.py\u001b[0m in \u001b[0;36m<module>\u001b[0;34m\u001b[0m\n\u001b[0;32m----> 1\u001b[0;31m \u001b[0mdata\u001b[0m\u001b[0;34m[\u001b[0m\u001b[0;36m30\u001b[0m\u001b[0;34m,\u001b[0m \u001b[0;36m50\u001b[0m\u001b[0;34m]\u001b[0m        \u001b[0;31m# should fail\u001b[0m\u001b[0;34m\u001b[0m\u001b[0;34m\u001b[0m\u001b[0m\n\u001b[0m",
      "\u001b[0;31mIndexError\u001b[0m: index 50 is out of bounds for axis 1 with size 40"
     ]
    }
   ],
   "source": [
    "data[30, 50]        # should fail"
   ]
  },
  {
   "cell_type": "code",
   "execution_count": 130,
   "id": "dcb907ba",
   "metadata": {},
   "outputs": [
    {
     "data": {
      "text/plain": [
       "13.0"
      ]
     },
     "execution_count": 130,
     "metadata": {},
     "output_type": "execute_result"
    }
   ],
   "source": [
    "data[30,20]            # is the middle of (60, 40)"
   ]
  },
  {
   "cell_type": "markdown",
   "id": "bf340f29",
   "metadata": {},
   "source": [
    "# ----------------------------- part 3 ------------------------\n",
    "visualizing data"
   ]
  },
  {
   "cell_type": "code",
   "execution_count": 135,
   "id": "72e15cdf",
   "metadata": {},
   "outputs": [],
   "source": [
    "import matplotlib.pyplot"
   ]
  },
  {
   "cell_type": "code",
   "execution_count": 139,
   "id": "084ffc1b",
   "metadata": {},
   "outputs": [
    {
     "data": {
      "image/png": "[encoded data removed]",
      "text/plain": [
       "<Figure size 432x288 with 1 Axes>"
      ]
     },
     "metadata": {
      "needs_background": "light"
     },
     "output_type": "display_data"
    }
   ],
   "source": [
    "image = matplotlib.pyplot.imshow(data)\n",
    "matplotlib.pyplot.show()"
   ]
  },
  {
   "cell_type": "markdown",
   "id": "74783321",
   "metadata": {},
   "source": [
    "***observation*** a lot of default behavior from such a simple command!"
   ]
  },
  {
   "cell_type": "code",
   "execution_count": 140,
   "id": "4bb712dc",
   "metadata": {},
   "outputs": [
    {
     "ename": "SyntaxError",
     "evalue": "invalid syntax (783669579.py, line 1)",
     "output_type": "error",
     "traceback": [
      "\u001b[0;36m  File \u001b[0;32m\"/tmp/ipykernel_80/783669579.py\"\u001b[0;36m, line \u001b[0;32m1\u001b[0m\n\u001b[0;31m    if i forgot what that plot looks like: plot it again\u001b[0m\n\u001b[0m         ^\u001b[0m\n\u001b[0;31mSyntaxError\u001b[0m\u001b[0;31m:\u001b[0m invalid syntax\n"
     ]
    }
   ],
   "source": [
    "if i forgot what that plot looks like: plot it again"
   ]
  },
  {
   "cell_type": "code",
   "execution_count": 142,
   "id": "6685e5f9",
   "metadata": {},
   "outputs": [
    {
     "data": {
      "image/png": "[encoded data removed]",
      "text/plain": [
       "<Figure size 432x288 with 1 Axes>"
      ]
     },
     "metadata": {
      "needs_background": "light"
     },
     "output_type": "display_data"
    }
   ],
   "source": [
    "if True: matplotlib.pyplot.imshow(data)"
   ]
  },
  {
   "cell_type": "markdown",
   "id": "1db06713",
   "metadata": {},
   "source": [
    "# ----------------------- part 4 -------------------------------\n",
    "\n",
    "lists, storing multiple values"
   ]
  },
  {
   "cell_type": "code",
   "execution_count": null,
   "id": "2fb63121",
   "metadata": {},
   "outputs": [],
   "source": []
  },
  {
   "cell_type": "markdown",
   "id": "4982ac93",
   "metadata": {},
   "source": [
    "# ---------------------- part 5 ------------------------------\n",
    "\n",
    "introducing loops for repeated tasks"
   ]
  },
  {
   "cell_type": "code",
   "execution_count": null,
   "id": "4cffa7a5",
   "metadata": {},
   "outputs": [],
   "source": []
  }
 ],
 "metadata": {
  "kernelspec": {
   "display_name": "Python 3 (ipykernel)",
   "language": "python",
   "name": "python3"
  },
  "language_info": {
   "codemirror_mode": {
    "name": "ipython",
    "version": 3
   },
   "file_extension": ".py",
   "mimetype": "text/x-python",
   "name": "python",
   "nbconvert_exporter": "python",
   "pygments_lexer": "ipython3",
   "version": "3.8.5"
  }
 },
 "nbformat": 4,
 "nbformat_minor": 5
}
