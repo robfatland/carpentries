{
 "cells": [
  {
   "cell_type": "code",
   "execution_count": 1,
   "id": "8e01aaaf",
   "metadata": {},
   "outputs": [],
   "source": [
    "import numpy"
   ]
  },
  {
   "cell_type": "code",
   "execution_count": 15,
   "id": "e3a046c8",
   "metadata": {},
   "outputs": [
    {
     "name": "stdout",
     "output_type": "stream",
     "text": [
      " Untitled.ipynb        my_ls.py         readings_07.py\r\n",
      " argv_list.py\t       readings_01.py   readings_08.py\r\n",
      " arith.py\t       readings_02.py   readings_09.py\r\n",
      " check.py\t       readings_03.py   rectangle.py\r\n",
      " count_stdin.py        readings_04.py  'swc-python part 1.ipynb'\r\n",
      " gen_inflammation.py   readings_05.py   sys_version.py\r\n",
      " line_count.py\t       readings_06.py\r\n"
     ]
    }
   ],
   "source": [
    "!ls"
   ]
  },
  {
   "cell_type": "code",
   "execution_count": 6,
   "id": "4ad73e13",
   "metadata": {},
   "outputs": [
    {
     "name": "stdout",
     "output_type": "stream",
     "text": [
      "code  data  zips\r\n"
     ]
    }
   ],
   "source": [
    "!ls .."
   ]
  },
  {
   "cell_type": "code",
   "execution_count": 7,
   "id": "4c5325ac",
   "metadata": {},
   "outputs": [
    {
     "name": "stdout",
     "output_type": "stream",
     "text": [
      "inflammation-01.csv  inflammation-05.csv  inflammation-09.csv  small-01.csv\r\n",
      "inflammation-02.csv  inflammation-06.csv  inflammation-10.csv  small-02.csv\r\n",
      "inflammation-03.csv  inflammation-07.csv  inflammation-11.csv  small-03.csv\r\n",
      "inflammation-04.csv  inflammation-08.csv  inflammation-12.csv\r\n"
     ]
    }
   ],
   "source": [
    "!ls ../data"
   ]
  },
  {
   "cell_type": "code",
   "execution_count": 10,
   "id": "047cdfc0",
   "metadata": {},
   "outputs": [
    {
     "ename": "TypeError",
     "evalue": "loadtxt() got an unexpected keyword argument 'delimeter'",
     "output_type": "error",
     "traceback": [
      "\u001b[0;31m---------------------------------------------------------------------------\u001b[0m",
      "\u001b[0;31mTypeError\u001b[0m                                 Traceback (most recent call last)",
      "\u001b[0;32m/tmp/ipykernel_272/1648627829.py\u001b[0m in \u001b[0;36m<module>\u001b[0;34m\u001b[0m\n\u001b[0;32m----> 1\u001b[0;31m \u001b[0mnumpy\u001b[0m\u001b[0;34m.\u001b[0m\u001b[0mloadtxt\u001b[0m\u001b[0;34m(\u001b[0m\u001b[0mfname\u001b[0m\u001b[0;34m=\u001b[0m\u001b[0;34m'../data/inflammation-01.csv'\u001b[0m\u001b[0;34m,\u001b[0m \u001b[0mdelimeter\u001b[0m\u001b[0;34m=\u001b[0m\u001b[0;34m','\u001b[0m\u001b[0;34m)\u001b[0m\u001b[0;34m\u001b[0m\u001b[0;34m\u001b[0m\u001b[0m\n\u001b[0m",
      "\u001b[0;31mTypeError\u001b[0m: loadtxt() got an unexpected keyword argument 'delimeter'"
     ]
    }
   ],
   "source": [
    "numpy.loadtxt(fname='../data/inflammation-01.csv', delimeter=',')"
   ]
  },
  {
   "cell_type": "code",
   "execution_count": 11,
   "id": "122700cf",
   "metadata": {},
   "outputs": [
    {
     "data": {
      "text/plain": [
       "array([[0., 0., 1., ..., 3., 0., 0.],\n",
       "       [0., 1., 2., ..., 1., 0., 1.],\n",
       "       [0., 1., 1., ..., 2., 1., 1.],\n",
       "       ...,\n",
       "       [0., 1., 1., ..., 1., 1., 1.],\n",
       "       [0., 0., 0., ..., 0., 2., 0.],\n",
       "       [0., 0., 1., ..., 1., 1., 0.]])"
      ]
     },
     "execution_count": 11,
     "metadata": {},
     "output_type": "execute_result"
    }
   ],
   "source": [
    "numpy.loadtxt(fname='../data/inflammation-01.csv', delimiter=',')"
   ]
  },
  {
   "cell_type": "markdown",
   "id": "8d0a5f6b",
   "metadata": {},
   "source": [
    "***concept*** `!pwd` is a cheap way of running a shell command from a Python cell. The operating system \n",
    "library **`os`** includes functions that can do this as well, but more in the spirit of Python..."
   ]
  },
  {
   "cell_type": "code",
   "execution_count": 20,
   "id": "138258fb",
   "metadata": {},
   "outputs": [],
   "source": [
    "import os"
   ]
  },
  {
   "cell_type": "code",
   "execution_count": 21,
   "id": "4f238c98",
   "metadata": {},
   "outputs": [
    {
     "data": {
      "text/plain": [
       "['.ipynb_checkpoints',\n",
       " 'argv_list.py',\n",
       " 'arith.py',\n",
       " 'check.py',\n",
       " 'count_stdin.py',\n",
       " 'gen_inflammation.py',\n",
       " 'line_count.py',\n",
       " 'my_ls.py',\n",
       " 'readings_01.py',\n",
       " 'readings_02.py',\n",
       " 'readings_03.py',\n",
       " 'readings_04.py',\n",
       " 'readings_05.py',\n",
       " 'readings_06.py',\n",
       " 'readings_07.py',\n",
       " 'readings_08.py',\n",
       " 'readings_09.py',\n",
       " 'rectangle.py',\n",
       " 'swc-python 2.ipynb',\n",
       " 'swc-python part 1.ipynb',\n",
       " 'sys_version.py']"
      ]
     },
     "execution_count": 21,
     "metadata": {},
     "output_type": "execute_result"
    }
   ],
   "source": [
    "os.listdir()"
   ]
  },
  {
   "cell_type": "code",
   "execution_count": 22,
   "id": "65338e26",
   "metadata": {},
   "outputs": [
    {
     "name": "stdout",
     "output_type": "stream",
     "text": [
      "argv_list.py\n",
      "arith.py\n",
      "check.py\n",
      "count_stdin.py\n",
      "gen_inflammation.py\n",
      "line_count.py\n",
      "my_ls.py\n",
      "readings_01.py\n",
      "readings_02.py\n",
      "readings_03.py\n",
      "readings_04.py\n",
      "readings_05.py\n",
      "readings_06.py\n",
      "readings_07.py\n",
      "readings_08.py\n",
      "readings_09.py\n",
      "rectangle.py\n",
      "swc-python 2.ipynb\n",
      "swc-python part 1.ipynb\n",
      "sys_version.py\n"
     ]
    },
    {
     "data": {
      "text/plain": [
       "0"
      ]
     },
     "execution_count": 22,
     "metadata": {},
     "output_type": "execute_result"
    }
   ],
   "source": [
    "os.system('ls')"
   ]
  },
  {
   "cell_type": "code",
   "execution_count": null,
   "id": "142bc8ae",
   "metadata": {},
   "outputs": [],
   "source": []
  }
 ],
 "metadata": {
  "kernelspec": {
   "display_name": "Python 3 (ipykernel)",
   "language": "python",
   "name": "python3"
  },
  "language_info": {
   "codemirror_mode": {
    "name": "ipython",
    "version": 3
   },
   "file_extension": ".py",
   "mimetype": "text/x-python",
   "name": "python",
   "nbconvert_exporter": "python",
   "pygments_lexer": "ipython3",
   "version": "3.8.5"
  }
 },
 "nbformat": 4,
 "nbformat_minor": 5
}
