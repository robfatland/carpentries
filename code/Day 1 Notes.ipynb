{
 "cells": [
  {
   "cell_type": "markdown",
   "id": "1dfd4422-a408-459d-a69c-e13e6fffe089",
   "metadata": {},
   "source": [
    "## Imperative programming in Python: Notes from a lesson run-through\n",
    "\n",
    "\n",
    "Imperative exists in implicit top-down order; with two concept breakers.\n",
    "\n",
    "\n",
    "1) loops and conditionals are common (and are sometimes implicit (obscure))\n",
    "2) definitions are common task encapsulations: Shorthand later on\n",
    "\n",
    "\n",
    "Python is used here in the *imperative* programming paradigm: \n",
    "We the programmers are telling the computer how to accomplish a task, \n",
    "generally involving information. \n",
    "\n",
    "\n",
    "Python is also a community *ecosystem*: Far too many useful tools are available. \n",
    "These include fusion reactors and table saws and brain analyzers and\n",
    "quantum simulators. All just sitting there, free to use.\n",
    "\n",
    "\n",
    "The first problem: We do not want all that powerful junk available for Hello World.\n",
    "\n",
    "\n",
    "So it is the word 'import' that brings a tool from the warehouse into our code.\n",
    "One tool (library) we want for this data analysis lesson is called **`pandas`**.\n",
    "So look for the expression `import pandas`. And `as pd`. \n",
    "\n",
    "\n",
    "Imperative code is parsed as a sequence of statements.\n",
    "\n",
    "\n",
    "Conditional **`if`** branching is determined by information (data) \n",
    "\n",
    "\n",
    "The logical progression from one statement to another (torturous) is called *flow control*.\n",
    "\n",
    "\n",
    "Starting to write software can be empowering and even addictive; but sooner \n",
    "or later such ambition is rewarded with Bugs. Bugs cause programs to not work.\n",
    "So I am going to give you, as the end of\n",
    "this introduction, my top five debugging tips. \n",
    "\n",
    "\n",
    "The most common bugs by far are of two types: Syntax and Logic. \n",
    "\n",
    "\n",
    "### Number 1 (Syntax errors) Copy/paste\n",
    "\n",
    "\n",
    "Syntax means that the Python *interpreter* can't figure out what to do.\n",
    "    - syntax errors are essentially typos, usually easy to find and fix\n",
    "    - syntactically incorrect code produces error messages that point you at or close to the problem\n",
    "    - but if you are ?????: Copy and paste the error message into a browser\n",
    "    \n",
    "    \n",
    "### Number 2 (Logic bugs) Print yourself out of trouble\n",
    "    \n",
    "\n",
    "Use print statements to \n",
    "get a sense of whether your code is doing what you intend.\n",
    "\n",
    "\n",
    "### Number 3 Isolate by halves\n",
    "\n",
    "\n",
    "Is the issue in Part A or Part B? And so on.\n",
    "\n",
    "\n",
    "### Number 4 Simplify code by commenting it out. \n",
    "\n",
    "\n",
    "Commented code does not execute.\n",
    "\n",
    "\n",
    "### Number 5 Be the computer\n",
    "\n",
    "\n",
    "Set things up as though you were going to run the code for one example case... \n",
    "and see if you run aground.\n",
    "\n",
    "\n",
    "### And now: On to Variables!\n",
    "\n",
    "\n",
    "Variables have 3 features: A label, a value and a type. \n",
    "\n",
    "\n",
    "\n",
    "The most basic type is the integer, then the float, then the boolean, then the character, and \n",
    "then the string which -- as a sequence of characters -- points the way towards data structures \n",
    "that hold multiple values:\n",
    "\n",
    "The list, the tuple, \n",
    "the set, and the dictionary; and then from there the array, the stack, the queue, the tree, the\n",
    "linked list, the graph, and the hashmap. \n",
    "\n",
    "\n",
    "# Summary of this introduction\n",
    "\n",
    "\n",
    "- Python is used here as a flow of commands that interpret information\n",
    "- Debugging methods are an important part of coding skill\n",
    "- Variables are structures within the running program that hold information"
   ]
  },
  {
   "cell_type": "code",
   "execution_count": 9,
   "id": "9509c936-9b93-4fdd-8b6d-38125129afec",
   "metadata": {},
   "outputs": [
    {
     "data": {
      "text/plain": [
       "23"
      ]
     },
     "execution_count": 9,
     "metadata": {},
     "output_type": "execute_result"
    }
   ],
   "source": [
    "3 + 5 * 4"
   ]
  },
  {
   "cell_type": "code",
   "execution_count": 10,
   "id": "5227b6b2-d2db-44da-81f2-805084c7067e",
   "metadata": {},
   "outputs": [],
   "source": [
    "m = 3 + 5 * 4"
   ]
  },
  {
   "cell_type": "code",
   "execution_count": 11,
   "id": "d4bde0a2-f184-4da2-b548-90a00dd909aa",
   "metadata": {},
   "outputs": [
    {
     "name": "stdout",
     "output_type": "stream",
     "text": [
      "23\n"
     ]
    }
   ],
   "source": [
    "print(m)"
   ]
  },
  {
   "cell_type": "code",
   "execution_count": 12,
   "id": "4682bf57-23a3-4e82-8584-f730cd530a9d",
   "metadata": {},
   "outputs": [
    {
     "data": {
      "text/plain": [
       "int"
      ]
     },
     "execution_count": 12,
     "metadata": {},
     "output_type": "execute_result"
    }
   ],
   "source": [
    "type(m)"
   ]
  },
  {
   "cell_type": "code",
   "execution_count": 13,
   "id": "7f8afbaa-fb6d-4c0b-8b3d-fa77c74858a7",
   "metadata": {},
   "outputs": [],
   "source": [
    "del m"
   ]
  },
  {
   "cell_type": "code",
   "execution_count": 14,
   "id": "b0f9bb3e-c074-487e-b9bc-a8ef17b13a75",
   "metadata": {},
   "outputs": [
    {
     "ename": "NameError",
     "evalue": "name 'm' is not defined",
     "output_type": "error",
     "traceback": [
      "\u001b[0;31m---------------------------------------------------------------------------\u001b[0m",
      "\u001b[0;31mNameError\u001b[0m                                 Traceback (most recent call last)",
      "Input \u001b[0;32mIn [14]\u001b[0m, in \u001b[0;36m<cell line: 1>\u001b[0;34m()\u001b[0m\n\u001b[0;32m----> 1\u001b[0m \u001b[43mm\u001b[49m\n",
      "\u001b[0;31mNameError\u001b[0m: name 'm' is not defined"
     ]
    }
   ],
   "source": [
    "m"
   ]
  },
  {
   "cell_type": "code",
   "execution_count": 15,
   "id": "91372a38-e9f2-417c-9e20-f1e4ea45ba18",
   "metadata": {},
   "outputs": [],
   "source": [
    "m = 21"
   ]
  },
  {
   "cell_type": "code",
   "execution_count": 16,
   "id": "b3772924-461d-4b3d-b126-f0cc97bc483f",
   "metadata": {},
   "outputs": [
    {
     "data": {
      "text/plain": [
       "['In',\n",
       " 'Out',\n",
       " '_',\n",
       " '_12',\n",
       " '_2',\n",
       " '_5',\n",
       " '_9',\n",
       " '__',\n",
       " '___',\n",
       " '__builtin__',\n",
       " '__builtins__',\n",
       " '__doc__',\n",
       " '__loader__',\n",
       " '__name__',\n",
       " '__package__',\n",
       " '__spec__',\n",
       " '_dh',\n",
       " '_i',\n",
       " '_i1',\n",
       " '_i10',\n",
       " '_i11',\n",
       " '_i12',\n",
       " '_i13',\n",
       " '_i14',\n",
       " '_i15',\n",
       " '_i16',\n",
       " '_i2',\n",
       " '_i3',\n",
       " '_i4',\n",
       " '_i5',\n",
       " '_i6',\n",
       " '_i7',\n",
       " '_i8',\n",
       " '_i9',\n",
       " '_ih',\n",
       " '_ii',\n",
       " '_iii',\n",
       " '_oh',\n",
       " 'exit',\n",
       " 'get_ipython',\n",
       " 'm',\n",
       " 'quit']"
      ]
     },
     "execution_count": 16,
     "metadata": {},
     "output_type": "execute_result"
    }
   ],
   "source": [
    "dir()"
   ]
  },
  {
   "cell_type": "code",
   "execution_count": 17,
   "id": "60dfdefb-b56a-42e7-a85e-870698f3a25c",
   "metadata": {},
   "outputs": [
    {
     "data": {
      "text/plain": [
       "['In', 'Out', 'exit', 'get_ipython', 'm', 'quit']"
      ]
     },
     "execution_count": 17,
     "metadata": {},
     "output_type": "execute_result"
    }
   ],
   "source": [
    "[v for v in dir() if not v.startswith('_')]"
   ]
  },
  {
   "cell_type": "code",
   "execution_count": 19,
   "id": "bf4df753-50b5-4fe3-bab9-9bb2f1d03256",
   "metadata": {},
   "outputs": [
    {
     "data": {
      "text/plain": [
       "['In', 'Out', 'get_ipython', 'exit', 'quit', 'm']"
      ]
     },
     "execution_count": 19,
     "metadata": {},
     "output_type": "execute_result"
    }
   ],
   "source": [
    "[v for v in globals() if not v.startswith('_')]"
   ]
  },
  {
   "cell_type": "code",
   "execution_count": 20,
   "id": "bbec9e5f-3294-4381-8a14-d406a1cbee61",
   "metadata": {},
   "outputs": [
    {
     "data": {
      "text/plain": [
       "['In', 'Out', 'get_ipython', 'exit', 'quit', 'm']"
      ]
     },
     "execution_count": 20,
     "metadata": {},
     "output_type": "execute_result"
    }
   ],
   "source": [
    "[v for v in locals() if not v.startswith('_')]"
   ]
  },
  {
   "cell_type": "code",
   "execution_count": 21,
   "id": "771ae3a4-6d68-41ad-ad13-bbd83c2c2d6b",
   "metadata": {},
   "outputs": [],
   "source": [
    "n = 7"
   ]
  },
  {
   "cell_type": "code",
   "execution_count": 22,
   "id": "9b10579e-76b9-4de6-bd3c-10af61c7add7",
   "metadata": {},
   "outputs": [
    {
     "data": {
      "text/plain": [
       "['In', 'Out', 'exit', 'get_ipython', 'm', 'n', 'quit']"
      ]
     },
     "execution_count": 22,
     "metadata": {},
     "output_type": "execute_result"
    }
   ],
   "source": [
    "[v for v in dir() if not v.startswith('_')]"
   ]
  },
  {
   "cell_type": "code",
   "execution_count": null,
   "id": "68807dca-06c0-4115-b5a4-b678931b6939",
   "metadata": {},
   "outputs": [],
   "source": []
  },
  {
   "cell_type": "code",
   "execution_count": 18,
   "id": "1bedfaf4-06c2-4e1b-95b1-fd27ec25f23c",
   "metadata": {},
   "outputs": [
    {
     "data": {
      "text/plain": [
       "['as_integer_ratio',\n",
       " 'bit_length',\n",
       " 'conjugate',\n",
       " 'denominator',\n",
       " 'from_bytes',\n",
       " 'imag',\n",
       " 'numerator',\n",
       " 'real',\n",
       " 'to_bytes']"
      ]
     },
     "execution_count": 18,
     "metadata": {},
     "output_type": "execute_result"
    }
   ],
   "source": [
    "[x for x in dir(m) if not x.startswith('__')]"
   ]
  },
  {
   "cell_type": "code",
   "execution_count": 13,
   "id": "8fc0a282-aaf8-4169-a7cd-67d77e99bc05",
   "metadata": {},
   "outputs": [
    {
     "data": {
      "text/plain": [
       "(1, 23)"
      ]
     },
     "execution_count": 13,
     "metadata": {},
     "output_type": "execute_result"
    }
   ],
   "source": [
    "m.denominator, m.numerator"
   ]
  },
  {
   "cell_type": "markdown",
   "id": "3cdbe797-fc9f-475e-b9ba-94c261550d1c",
   "metadata": {},
   "source": [
    "Variable names start with letters or underscores, are case sensitive, can also include numbers (not at the start). \n",
    "\n",
    "Very important point of finesse: If I decide to name a variable `sum` it will turn green in my IDE. ***RUN AWAY!!!!***"
   ]
  },
  {
   "cell_type": "code",
   "execution_count": 20,
   "id": "61d50af9-666a-4b7f-bc34-ab161b4aa361",
   "metadata": {},
   "outputs": [
    {
     "data": {
      "text/plain": [
       "(3, 6)"
      ]
     },
     "execution_count": 20,
     "metadata": {},
     "output_type": "execute_result"
    }
   ],
   "source": [
    "a=3\n",
    "b=a\n",
    "b=b*2\n",
    "a, b"
   ]
  },
  {
   "cell_type": "code",
   "execution_count": 21,
   "id": "58b26609-59d4-4053-884c-787862a7cb4d",
   "metadata": {},
   "outputs": [
    {
     "data": {
      "text/plain": [
       "([2, 2], [2, 2])"
      ]
     },
     "execution_count": 21,
     "metadata": {},
     "output_type": "execute_result"
    }
   ],
   "source": [
    "l=[1, 2]\n",
    "m = l\n",
    "m[0] += 1\n",
    "l, m"
   ]
  }
 ],
 "metadata": {
  "kernelspec": {
   "display_name": "Python 3 (ipykernel)",
   "language": "python",
   "name": "python3"
  },
  "language_info": {
   "codemirror_mode": {
    "name": "ipython",
    "version": 3
   },
   "file_extension": ".py",
   "mimetype": "text/x-python",
   "name": "python",
   "nbconvert_exporter": "python",
   "pygments_lexer": "ipython3",
   "version": "3.9.12"
  }
 },
 "nbformat": 4,
 "nbformat_minor": 5
}
